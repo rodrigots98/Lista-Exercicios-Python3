{
 "cells": [
  {
   "cell_type": "markdown",
   "id": "62ea067c-c28b-417a-9159-a6aa3645ebdb",
   "metadata": {},
   "source": [
    "# -----------------------------------------------------------------------------------\n",
    "#  - Aula 17 - Listas\n",
    "Nessa aula, vamos aprender o que são LISTAS e como utilizar listas em Python. As listas são variáveis compostas que permitem armazenar vários valores em uma mesma estrutura, acessíveis por chaves individuais."
   ]
  },
  {
   "cell_type": "code",
   "execution_count": 1,
   "id": "744a6639-1406-42ae-a49d-d15a815eea9c",
   "metadata": {},
   "outputs": [
    {
     "name": "stdout",
     "output_type": "stream",
     "text": [
      "[7, 5, 0, 3, 2, 1]\n",
      "Essa lista tem 6 elementos.\n",
      "[7, 5, 0, 3, 1]\n",
      "Não achei o numero 4\n",
      "[7, 5, 0, 3, 1]\n"
     ]
    }
   ],
   "source": [
    "num = [2, 5, 9, 1]\n",
    "num[2]= 3\n",
    "num.append(7) #adicionar 7 no final\n",
    "num.sort(reverse=True) #sort coloca em ordem, reverse=true inverte\n",
    "num.insert(2, 0) #na posição 2, inserir o valor 0\n",
    "#num.pop() #remover o ultimo valor\n",
    "#num.pop(2) #remover o elemento da posição 2\n",
    "print(num)\n",
    "print(f'Essa lista tem {len(num)} elementos.')\n",
    "\n",
    "num.remove(2) #remove o primeiro elemento \"2\"\n",
    "print(num)\n",
    "if 4 in num:\n",
    "    num.remove(4)\n",
    "else:\n",
    "    print('Não achei o numero 4')\n",
    "print(num)"
   ]
  },
  {
   "cell_type": "code",
   "execution_count": 2,
   "id": "8820cef4-1cfe-4b09-9763-6409a774ce96",
   "metadata": {},
   "outputs": [
    {
     "name": "stdout",
     "output_type": "stream",
     "text": [
      "5...9...4...\n",
      "Na posição 0 encontrei o valor 5!\n",
      "\n",
      "Na posição 1 encontrei o valor 9!\n",
      "\n",
      "Na posição 2 encontrei o valor 4!\n",
      "Cheguei ao final da lista.\n"
     ]
    }
   ],
   "source": [
    "valores= []\n",
    "valores.append(5)\n",
    "valores.append(9)\n",
    "valores.append(4)\n",
    "\n",
    "for v in valores:\n",
    "    print(f'{v}...', end= '')\n",
    "for c, v in enumerate(valores):\n",
    "    print(f'\\nNa posição {c} encontrei o valor {v}!')\n",
    "print('Cheguei ao final da lista.')"
   ]
  },
  {
   "cell_type": "code",
   "execution_count": 3,
   "id": "777e44dd-42e9-4f28-acb7-4e2ee9fca498",
   "metadata": {},
   "outputs": [
    {
     "name": "stdin",
     "output_type": "stream",
     "text": [
      "Digite um valor:  5\n",
      "Digite um valor:  7\n",
      "Digite um valor:  8\n",
      "Digite um valor:  6\n",
      "Digite um valor:  4\n"
     ]
    },
    {
     "name": "stdout",
     "output_type": "stream",
     "text": [
      "\n",
      "Na posição 0 encontrei o valor 5!\n",
      "\n",
      "Na posição 1 encontrei o valor 7!\n",
      "\n",
      "Na posição 2 encontrei o valor 8!\n",
      "\n",
      "Na posição 3 encontrei o valor 6!\n",
      "\n",
      "Na posição 4 encontrei o valor 4!\n",
      "Cheguei ao final da lista.\n"
     ]
    }
   ],
   "source": [
    "valores = list()\n",
    "for cont in range(0, 5):\n",
    "    valores.append(int(input('Digite um valor: ')))\n",
    "\n",
    "for c, v in enumerate(valores):\n",
    "    print(f'\\nNa posição {c} encontrei o valor {v}!')\n",
    "print('Cheguei ao final da lista.')"
   ]
  },
  {
   "cell_type": "code",
   "execution_count": 4,
   "id": "a869e6ec-7092-48c6-8ad7-4e25d3adfcfe",
   "metadata": {},
   "outputs": [
    {
     "name": "stdout",
     "output_type": "stream",
     "text": [
      "Lista A: [2, 3, 4, 7]\n",
      "Lista B: [2, 3, 8, 7]\n"
     ]
    }
   ],
   "source": [
    "a = [2, 3, 4, 7]\n",
    "#b = a\n",
    "b = a[:] #criar cópia do 'a' sem ligação\n",
    "b[2]= 8\n",
    "\n",
    "print(f'Lista A: {a}')\n",
    "print(f'Lista B: {b}')"
   ]
  },
  {
   "cell_type": "markdown",
   "id": "de02e686-a524-47d7-a61b-13af56d9f9d4",
   "metadata": {},
   "source": [
    "## Desafio 78: Faça um programa que leia 5 valores numéricos e guarde-os em uma lista. No final, mostre qual foi o maior e o menor valor digitado e as suas respectivas posições na lista. "
   ]
  },
  {
   "cell_type": "code",
   "execution_count": null,
   "id": "674e5687-6bc4-4be6-acd6-2082bc00b3f3",
   "metadata": {},
   "outputs": [
    {
     "name": "stdin",
     "output_type": "stream",
     "text": [
      "Digite um valor para a posição 0:  4\n",
      "Digite um valor para a posição 1:  6\n",
      "Digite um valor para a posição 2:  7\n",
      "Digite um valor para a posição 3:  8\n",
      "Digite um valor para a posição 4:  5\n"
     ]
    },
    {
     "name": "stdout",
     "output_type": "stream",
     "text": [
      "O maior valor digitado foi 8 na posição 3\n",
      "O menor valor digitado foi 4 na posição 0\n"
     ]
    }
   ],
   "source": [
    "valores = []\n",
    "maior = 0\n",
    "menor = 0\n",
    "for cont in range(0,5):\n",
    "    valores.append(int(input(f'Digite um valor para a posição {cont}: ')))\n",
    "for posição, valor in enumerate(valores):\n",
    "    if valor == max(valores):\n",
    "        maior = posição\n",
    "    elif valor == min(valores):\n",
    "        menor = posição\n",
    "print(f'O maior valor digitado foi {valores[maior]} na posição {maior}')\n",
    "print(f'O menor valor digitado foi {valores[menor]} na posição {menor}')\n"
   ]
  },
  {
   "cell_type": "code",
   "execution_count": 6,
   "id": "aeaec074-6ab0-4712-b7a9-183d394ba363",
   "metadata": {},
   "outputs": [
    {
     "name": "stdin",
     "output_type": "stream",
     "text": [
      "Digite um valor para a posição 0:  4\n",
      "Digite um valor para a posição 1:  6\n",
      "Digite um valor para a posição 2:  8\n",
      "Digite um valor para a posição 3:  5\n",
      "Digite um valor para a posição 4:  2\n"
     ]
    },
    {
     "name": "stdout",
     "output_type": "stream",
     "text": [
      "=-=-=-=-=-=-=-=-=-=-=-=-=-=-=-=-=-=-=-=-=-=-=-=-=-=-=-=-=-=-\n",
      "Você digitou os valores [4, 6, 8, 5, 2]\n",
      "O maior valor digitado foi 8 nas posições 2...\n",
      "O menor valor digitado foi 2 nas posições 4..."
     ]
    }
   ],
   "source": [
    "listanum = []\n",
    "mai = 0\n",
    "men = 0\n",
    "for c in range(0,5):\n",
    "    listanum.append(int(input(f'Digite um valor para a posição {c}: ')))\n",
    "    if c == 0:\n",
    "        mai = men = listanum[c]\n",
    "    else:\n",
    "        if listanum[c] > mai:\n",
    "            mai = listanum[c]\n",
    "        if listanum[c] < men:\n",
    "            men = listanum[c]\n",
    "print('=-'*30)\n",
    "print(f'Você digitou os valores {listanum}')\n",
    "print(f'O maior valor digitado foi {mai} nas posições ', end='')\n",
    "for i, v in enumerate(listanum):\n",
    "    if v == mai:\n",
    "        print(f'{i}...', end='')\n",
    "print()\n",
    "print(f'O menor valor digitado foi {men} nas posições ', end='')\n",
    "for i, v in enumerate(listanum):\n",
    "    if v == men:\n",
    "        print(f'{i}...', end='')"
   ]
  },
  {
   "cell_type": "markdown",
   "id": "1d2fd5c0-54d1-4bd3-954d-4144b10879c8",
   "metadata": {},
   "source": [
    "## Desafio 79: Crie um programa onde o usuário possa digitar vários valores numéricos e cadastre-os em uma lista. Caso o número já exista lá dentro, ele não será adicionado. No final, serão exibidos todos os valores únicos digitados, em ordem crescente. "
   ]
  },
  {
   "cell_type": "code",
   "execution_count": 7,
   "id": "2c8e6080-14e4-43d0-a840-26886a6541f0",
   "metadata": {},
   "outputs": [
    {
     "name": "stdin",
     "output_type": "stream",
     "text": [
      "Digite um valor:  5\n",
      "Quer continuar? [S/N]  s\n",
      "Digite um valor:  8\n",
      "Quer continuar? [S/N]  s\n",
      "Digite um valor:  3\n",
      "Quer continuar? [S/N]  s\n",
      "Digite um valor:  6\n",
      "Quer continuar? [S/N]  n\n"
     ]
    },
    {
     "name": "stdout",
     "output_type": "stream",
     "text": [
      "Os valores digitados em ordem crescente foi: [3, 5, 6, 8]\n"
     ]
    }
   ],
   "source": [
    "listanum = []\n",
    "next = 'S'\n",
    "while next == 'S':\n",
    "    n = int(input('Digite um valor: '))\n",
    "    if n not in listanum:\n",
    "        listanum.append(n)\n",
    "    else:\n",
    "        print('Valor duplicado! Não vou adicionar...')\n",
    "    next = str(input('Quer continuar? [S/N] ')).upper()\n",
    "listanum.sort()\n",
    "print(f'Os valores digitados em ordem crescente foi: {listanum}')"
   ]
  },
  {
   "cell_type": "markdown",
   "id": "c757c4ee-a7d0-487b-a86e-a99cf9d3c34f",
   "metadata": {},
   "source": [
    "## Desafio 80: Crie um programa onde o usuário possa digitar cinco valores numéricos e cadastre-os em uma lista, já na posição correta de inserção (sem usar o sort()). No final, mostre a lista ordenada na tela."
   ]
  },
  {
   "cell_type": "code",
   "execution_count": 8,
   "id": "27b75f84-795e-4341-9e2c-b07273af641a",
   "metadata": {},
   "outputs": [
    {
     "name": "stdin",
     "output_type": "stream",
     "text": [
      "Digite um valor:  5\n"
     ]
    },
    {
     "name": "stdout",
     "output_type": "stream",
     "text": [
      "Adicionado ao final da lista...\n"
     ]
    },
    {
     "name": "stdin",
     "output_type": "stream",
     "text": [
      "Digite um valor:  7\n"
     ]
    },
    {
     "name": "stdout",
     "output_type": "stream",
     "text": [
      "Adicionado ao final da lista...\n"
     ]
    },
    {
     "name": "stdin",
     "output_type": "stream",
     "text": [
      "Digite um valor:  5\n",
      "Digite um valor:  2\n",
      "Digite um valor:  3\n"
     ]
    },
    {
     "name": "stdout",
     "output_type": "stream",
     "text": [
      "Os valores digitados em ordem foram [2, 3, 5, 5, 7]\n"
     ]
    }
   ],
   "source": [
    "listanum = []\n",
    "n=0\n",
    "for c in range(0,5):\n",
    "    n = int(input(f'Digite um valor: '))\n",
    "    if c == 0 or n > listanum[-1]:\n",
    "        listanum.append(n)\n",
    "        print('Adicionado ao final da lista...')\n",
    "    else:\n",
    "        for pos, x in enumerate(listanum):\n",
    "            if n <= x:\n",
    "                listanum.insert(pos, n)\n",
    "                break\n",
    "\n",
    "    \n",
    "    \n",
    "\n",
    "print(f'Os valores digitados em ordem foram {listanum}')"
   ]
  },
  {
   "cell_type": "markdown",
   "id": "0aab6635-7637-48e2-8b4d-0a8454c01323",
   "metadata": {},
   "source": [
    "## Desafio 81: Crie um programa que vai ler vários números e colocar em uma lista. Depois disso, mostre:\n",
    "A) Quantos números foram digitados.\n",
    "B) A lista de valores, ordenada de forma decrescente.\n",
    "C) Se o valor 5 foi digitado e está ou não na lista."
   ]
  },
  {
   "cell_type": "code",
   "execution_count": 9,
   "id": "ff14cb07-2129-4a3d-b039-3f66488be0bd",
   "metadata": {},
   "outputs": [
    {
     "name": "stdin",
     "output_type": "stream",
     "text": [
      "Digite um valor:  3\n",
      "Quer continuar? [S/N]  s\n",
      "Digite um valor:  7\n",
      "Quer continuar? [S/N]  s\n",
      "Digite um valor:  5\n",
      "Quer continuar? [S/N]  s\n",
      "Digite um valor:  3\n",
      "Quer continuar? [S/N]  n\n"
     ]
    },
    {
     "name": "stdout",
     "output_type": "stream",
     "text": [
      "Foram digitados 4 números\n",
      "Os valores em ordem descrescente são [7, 5, 3, 3]\n",
      "O valor 5 está presente na lista!\n"
     ]
    }
   ],
   "source": [
    "listanum = []\n",
    "n=0\n",
    "next = 'S'\n",
    "while next == 'S':\n",
    "    listanum.append(int(input(f'Digite um valor: ')))\n",
    "    next = str(input('Quer continuar? [S/N] ')).upper()\n",
    "listanum.sort(reverse= True)\n",
    "print(f'Foram digitados {len(listanum)} números')\n",
    "print(f'Os valores em ordem descrescente são {listanum}')\n",
    "if 5 in listanum:\n",
    "    print('O valor 5 está presente na lista!')\n",
    "else:\n",
    "    print('O valor 5 não foi encontrado na lista!')"
   ]
  },
  {
   "cell_type": "markdown",
   "id": "ff6e9ff6-fd2e-4d16-a41b-13afa6954697",
   "metadata": {},
   "source": [
    "## Desafio 82: Crie um programa que vai ler vários números e colocar em uma lista. Depois disso, crie duas listas extras que vão conter apenas os valores pares e os valores ímpares digitados, respectivamente. Ao final, mostre o conteúdo das três listas geradas."
   ]
  },
  {
   "cell_type": "code",
   "execution_count": 11,
   "id": "d35d3ce3-5c63-4fce-8416-8415f6260e05",
   "metadata": {},
   "outputs": [
    {
     "name": "stdin",
     "output_type": "stream",
     "text": [
      "Digite um valor:  3\n",
      "Quer continuar? [S/N]  s\n",
      "Digite um valor:  7\n",
      "Quer continuar? [S/N]  s\n",
      "Digite um valor:  5\n",
      "Quer continuar? [S/N]  s\n",
      "Digite um valor:  1\n",
      "Quer continuar? [S/N]  n\n"
     ]
    },
    {
     "name": "stdout",
     "output_type": "stream",
     "text": [
      "A lista completa é [3, 7, 5, 1]\n",
      "A lista de pares é []\n",
      "A lista de ímpares é [3, 7, 5, 1]\n"
     ]
    }
   ],
   "source": [
    "listanum = []\n",
    "par = []\n",
    "impar = []\n",
    "\n",
    "while True:\n",
    "    n = int(input(f'Digite um valor: '))\n",
    "    listanum.append(n)\n",
    "    if n % 2 == 0:\n",
    "        par.append(n)\n",
    "    else:\n",
    "        impar.append(n)\n",
    "    next = str(input('Quer continuar? [S/N] '))\n",
    "    if next in 'Nn':\n",
    "        break\n",
    "\n",
    "print(f'A lista completa é {listanum}')\n",
    "print(f'A lista de pares é {par}')\n",
    "print(f'A lista de ímpares é {impar}')"
   ]
  },
  {
   "cell_type": "code",
   "execution_count": 12,
   "id": "9a35eb35-f762-4ce8-b00f-1401aff77db9",
   "metadata": {},
   "outputs": [
    {
     "name": "stdin",
     "output_type": "stream",
     "text": [
      "Digite um valor:  3\n",
      "Quer continuar? [S/N]  s\n",
      "Digite um valor:  6\n",
      "Quer continuar? [S/N]  s\n",
      "Digite um valor:  8\n",
      "Quer continuar? [S/N]  s\n",
      "Digite um valor:  5\n",
      "Quer continuar? [S/N]  n\n"
     ]
    },
    {
     "name": "stdout",
     "output_type": "stream",
     "text": [
      "A lista completa é [3, 6, 8, 5]\n",
      "A lista de pares é [6, 8]\n",
      "A lista de ímpares é [3, 5]\n"
     ]
    }
   ],
   "source": [
    "listanum = []\n",
    "par = []\n",
    "impar = []\n",
    "while True:\n",
    "    listanum.append(int(input(f'Digite um valor: ')))\n",
    "    resp = str(input('Quer continuar? [S/N] '))\n",
    "    if resp in 'Nn':\n",
    "        break\n",
    "\n",
    "for c, v in enumerate(listanum):\n",
    "    if v % 2 == 0:\n",
    "        par.append(v)\n",
    "    else:\n",
    "        impar.append(v)\n",
    "    \n",
    "print(f'A lista completa é {listanum}')\n",
    "print(f'A lista de pares é {par}')\n",
    "print(f'A lista de ímpares é {impar}')"
   ]
  },
  {
   "cell_type": "markdown",
   "id": "ab1c390d-d6f3-4e45-9aea-66348ba79c8e",
   "metadata": {},
   "source": [
    "## Desafio 83: Crie um programa onde o usuário digite uma expressão qualquer que use parênteses. Seu aplicativo deverá analisar se a expressão passada está com os parênteses abertos e fechados na ordem correta."
   ]
  },
  {
   "cell_type": "code",
   "execution_count": 13,
   "id": "84462404-40a8-43ee-a214-9ed8203e9c45",
   "metadata": {},
   "outputs": [
    {
     "name": "stdin",
     "output_type": "stream",
     "text": [
      "Digite a expressão:  (2*3)+(4*5\n"
     ]
    },
    {
     "name": "stdout",
     "output_type": "stream",
     "text": [
      "Sua expressão não é válida\n"
     ]
    }
   ],
   "source": [
    "expr = str(input('Digite a expressão: '))\n",
    "if expr.count('(') == expr.count(')'):\n",
    "    print('Sua expressão é válida!!')\n",
    "else:\n",
    "    print('Sua expressão não é válida')"
   ]
  },
  {
   "cell_type": "code",
   "execution_count": 14,
   "id": "75447d1a-3d67-458a-a334-72289ae709f6",
   "metadata": {},
   "outputs": [
    {
     "name": "stdin",
     "output_type": "stream",
     "text": [
      "Digite a expressão:  (4*4)+(42/4\n"
     ]
    },
    {
     "name": "stdout",
     "output_type": "stream",
     "text": [
      "Sua expressão está errada!\n"
     ]
    }
   ],
   "source": [
    "expr = str(input('Digite a expressão: '))\n",
    "pilha = []\n",
    "for símb in expr:\n",
    "    if símb == '(':\n",
    "        pilha.append('(')\n",
    "    elif símb ==')':\n",
    "        if len(pilha) > 0:\n",
    "            pilha.pop()\n",
    "        else:\n",
    "            pilha.append(')')\n",
    "            break\n",
    "if len(pilha) == 0:\n",
    "    print('Sua expressão está válida!')\n",
    "else:\n",
    "    print('Sua expressão está errada!')"
   ]
  }
 ],
 "metadata": {
  "kernelspec": {
   "display_name": "Python 3 (ipykernel)",
   "language": "python",
   "name": "python3"
  },
  "language_info": {
   "codemirror_mode": {
    "name": "ipython",
    "version": 3
   },
   "file_extension": ".py",
   "mimetype": "text/x-python",
   "name": "python",
   "nbconvert_exporter": "python",
   "pygments_lexer": "ipython3",
   "version": "3.9.6"
  }
 },
 "nbformat": 4,
 "nbformat_minor": 5
}
