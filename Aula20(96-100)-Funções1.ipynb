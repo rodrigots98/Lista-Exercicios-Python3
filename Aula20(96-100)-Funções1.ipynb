{
 "cells": [
  {
   "cell_type": "markdown",
   "id": "da55a074",
   "metadata": {},
   "source": [
    "#  - Aula 20 - Funções (parte 1)\n",
    "Nessa aula, vamos aprender o que são funções ou rotinas e como utilizar funções em Python. Funções são trechos de código que podem ser executados em momentos diferentes de nossos códigos em Python. Veja como funciona o comando def em Python e como utilizá-lo com parâmetros simples e múltiplos."
   ]
  },
  {
   "cell_type": "code",
   "execution_count": 1,
   "id": "19b1a2e0",
   "metadata": {},
   "outputs": [
    {
     "name": "stdout",
     "output_type": "stream",
     "text": [
      "------------------------------\n"
     ]
    }
   ],
   "source": [
    "def lin():\n",
    "    print('-'*30)\n",
    "\n",
    "    \n",
    "lin()"
   ]
  },
  {
   "cell_type": "code",
   "execution_count": 2,
   "id": "ff6a4cb2",
   "metadata": {},
   "outputs": [
    {
     "name": "stdout",
     "output_type": "stream",
     "text": [
      "------------------------------\n",
      "  CURSO EM VÍDEO   \n",
      "------------------------------\n",
      "------------------------------\n",
      "  APRENDA PYTHON   \n",
      "------------------------------\n",
      "------------------------------\n",
      "  GUSTAVO GUANABARA   \n",
      "------------------------------\n"
     ]
    }
   ],
   "source": [
    "def título(txt):\n",
    "    print('-'*30)\n",
    "    print(txt)\n",
    "    print('-'*30)\n",
    "\n",
    "\n",
    "título('  CURSO EM VÍDEO   ')\n",
    "título('  APRENDA PYTHON   ')\n",
    "título('  GUSTAVO GUANABARA   ')"
   ]
  },
  {
   "cell_type": "code",
   "execution_count": 3,
   "id": "3e6c889c",
   "metadata": {},
   "outputs": [
    {
     "name": "stdout",
     "output_type": "stream",
     "text": [
      "9\n",
      "17\n"
     ]
    }
   ],
   "source": [
    "a = 4\n",
    "b = 5\n",
    "s = a + b\n",
    "print(s)\n",
    "\n",
    "a = 8\n",
    "b = 9\n",
    "s = a + b\n",
    "print(s)"
   ]
  },
  {
   "cell_type": "code",
   "execution_count": 4,
   "id": "6dd4659c",
   "metadata": {},
   "outputs": [
    {
     "name": "stdout",
     "output_type": "stream",
     "text": [
      "A = 4 e B = 5\n",
      "A soma A + B = 9\n",
      "A = 8 e B = 9\n",
      "A soma A + B = 17\n",
      "A = 5 e B = 4\n",
      "A soma A + B = 9\n"
     ]
    }
   ],
   "source": [
    "def soma(a, b):\n",
    "    print(f'A = {a} e B = {b}')\n",
    "    s = a + b\n",
    "    print(f'A soma A + B = {s}')\n",
    "    \n",
    "\n",
    "soma(4, 5)\n",
    "soma(8, 9)\n",
    "soma(b=4, a=5)"
   ]
  },
  {
   "cell_type": "code",
   "execution_count": 5,
   "id": "b6ef3c74",
   "metadata": {},
   "outputs": [
    {
     "name": "stdout",
     "output_type": "stream",
     "text": [
      "2 1 7 FIM!\n",
      "8 0 FIM!\n",
      "4 4 7 6 2 FIM!\n"
     ]
    }
   ],
   "source": [
    "def contador (* núm): # '*' = desempacotar\n",
    "    for valor in núm:\n",
    "        print(f'{valor}', end=\" \")\n",
    "    print('FIM!')\n",
    "    \n",
    "contador(2, 1, 7)\n",
    "contador(8, 0)\n",
    "contador(4, 4, 7, 6, 2)"
   ]
  },
  {
   "cell_type": "code",
   "execution_count": 6,
   "id": "fc78b444",
   "metadata": {},
   "outputs": [
    {
     "name": "stdout",
     "output_type": "stream",
     "text": [
      "Recebi os valores (2, 1, 7) e são ao todo 3 números\n",
      "Recebi os valores (8, 0) e são ao todo 2 números\n",
      "Recebi os valores (4, 4, 7, 6, 2) e são ao todo 5 números\n"
     ]
    }
   ],
   "source": [
    "def contador (* núm): # '*' = desempacotar\n",
    "    tam = len(núm)\n",
    "    print(f'Recebi os valores {núm} e são ao todo {tam} números')\n",
    "    \n",
    "    \n",
    "contador(2, 1, 7)\n",
    "contador(8, 0)\n",
    "contador(4, 4, 7, 6, 2)"
   ]
  },
  {
   "cell_type": "code",
   "execution_count": 7,
   "id": "2cfce3d3",
   "metadata": {},
   "outputs": [
    {
     "name": "stdout",
     "output_type": "stream",
     "text": [
      "Somando os valores (5, 2) temos 7\n",
      "Somando os valores (2, 9, 4) temos 15\n"
     ]
    }
   ],
   "source": [
    "def soma(* valores):\n",
    "    s = 0\n",
    "    for num in valores:\n",
    "        s += num\n",
    "    print(f'Somando os valores {valores} temos {s}')\n",
    "    \n",
    "    \n",
    "soma(5, 2)\n",
    "soma(2, 9, 4)"
   ]
  },
  {
   "cell_type": "code",
   "execution_count": 8,
   "id": "c9189ea5",
   "metadata": {},
   "outputs": [
    {
     "name": "stdout",
     "output_type": "stream",
     "text": [
      "[12, 6, 18, 2, 0, 4]\n"
     ]
    }
   ],
   "source": [
    "def dobra (lst):\n",
    "    pos = 0\n",
    "    while pos < len(lst):\n",
    "        lst[pos] *= 2\n",
    "        pos += 1\n",
    "    \n",
    "    \n",
    "valores = [6, 3, 9, 1, 0, 2]\n",
    "dobra(valores)\n",
    "print(valores)"
   ]
  },
  {
   "cell_type": "markdown",
   "id": "ae211b9e",
   "metadata": {},
   "source": [
    "## Desafio 96: Faça um programa que tenha uma função chamada área(), que receba as dimensões de um terreno retangular (largura e comprimento) e mostre a área do terreno."
   ]
  },
  {
   "cell_type": "code",
   "execution_count": 9,
   "id": "7101ad23",
   "metadata": {},
   "outputs": [
    {
     "name": "stdout",
     "output_type": "stream",
     "text": [
      "  Controle de Terrenos  \n",
      "------------------------------\n",
      "LARGURA (m): 4\n",
      "COMPRIMENTO (m): 5\n",
      "A área do terreno 4.0x5.0 é de 20.0m².\n"
     ]
    }
   ],
   "source": [
    "def área(l, c):\n",
    "    print(f'A área do terreno {l:.1f}x{c:.1f} é de {l*c:.1f}m².')\n",
    "    \n",
    "    \n",
    "print('  Controle de Terrenos  ')\n",
    "print('-'*30)\n",
    "l = float(input('LARGURA (m): '))\n",
    "c = float(input('COMPRIMENTO (m): '))\n",
    "área(l, c)"
   ]
  },
  {
   "cell_type": "markdown",
   "id": "94bbfb91",
   "metadata": {},
   "source": [
    "## Desafio 97: Faça um programa que tenha uma função chamada escreva(), que receba um texto qualquer como parâmetro e mostre uma mensagem com tamanho adaptável.\n",
    "\n",
    "Ex: \n",
    "escreva('Olá, Mundo!')\n",
    "Saída:\n",
    "~~~~~~~~~\n",
    " Olá, Mundo!\n",
    "~~~~~~~~~"
   ]
  },
  {
   "cell_type": "code",
   "execution_count": 10,
   "id": "76a58235",
   "metadata": {},
   "outputs": [
    {
     "name": "stdout",
     "output_type": "stream",
     "text": [
      "-------------------\n",
      "  Curso em vídeo!  \n",
      "-------------------\n",
      "------------------------------\n",
      "  Curso de Python no YouTube  \n",
      "------------------------------\n"
     ]
    }
   ],
   "source": [
    "def escreva(txt):\n",
    "    print('-'*(len(txt)+4))\n",
    "    print(f'  {txt}  ')\n",
    "    print('-'*(len(txt)+4))\n",
    "    \n",
    "escreva('Curso em vídeo!')\n",
    "escreva('Curso de Python no YouTube')"
   ]
  },
  {
   "cell_type": "markdown",
   "id": "7934f5df",
   "metadata": {},
   "source": [
    "## Desafio 98: Faça um programa que tenha uma função chamada contador(), que receba três parâmetros: início, fim e passo. Seu programa tem que realizar três contagens através da função criada:\n",
    "\n",
    "a) de 1 até 10, de 1 em 1\n",
    "b) de 10 até 0, de 2 em 2\n",
    "c) uma contagem personalizada"
   ]
  },
  {
   "cell_type": "code",
   "execution_count": 13,
   "id": "62af8873",
   "metadata": {},
   "outputs": [
    {
     "name": "stdout",
     "output_type": "stream",
     "text": [
      "-=-=-=-=-=-=-=-=-=-=-=-=-=-=-=-=-=-=-=-=\n",
      "Contagem de 1 até 10 de 1 em 1\n",
      "1 2 3 4 5 6 7 8 9 10 FIM!\n",
      "-=-=-=-=-=-=-=-=-=-=-=-=-=-=-=-=-=-=-=-=\n",
      "Contagem de 10 até 0 de 2 em 2\n",
      "10 8 6 4 2 0 FIM!\n",
      "-=-=-=-=-=-=-=-=-=-=-=-=-=-=-=-=-=-=-=-=\n",
      "Agora é sua vez de personalizar a contagem!\n",
      "Início: 8\n",
      "Fim: -8\n",
      "Passo: 0\n",
      "-=-=-=-=-=-=-=-=-=-=-=-=-=-=-=-=-=-=-=-=\n",
      "Contagem de 8 até -8 de 1 em 1\n",
      "8 7 6 5 4 3 2 1 0 -1 -2 -3 -4 -5 -6 -7 -8 FIM!\n"
     ]
    }
   ],
   "source": [
    "from time import sleep\n",
    "def contador():\n",
    "    print('-='*20)\n",
    "    print('Contagem de 1 até 10 de 1 em 1')\n",
    "    for c in range(1,10+1, 1):\n",
    "        sleep(0.5)\n",
    "        print(c, end= ' ', flush= True)\n",
    "    print('FIM!')\n",
    "    print('-='*20)\n",
    "    print('Contagem de 10 até 0 de 2 em 2')\n",
    "    for c in range(10, 0-1, -2):\n",
    "        sleep(0.5)\n",
    "        print(c, end= ' ', flush= True)\n",
    "    print('FIM!')\n",
    "    print('-='*20)\n",
    "    print('Agora é sua vez de personalizar a contagem!')\n",
    "    inicio = int(input('Início: '))\n",
    "    fim = int(input('Fim: '))\n",
    "    passo = int(input('Passo: '))\n",
    "    if passo < 0:\n",
    "        passo *= -1\n",
    "    if passo == 0:\n",
    "        passo = 1\n",
    "    print('-='*20)\n",
    "    print(f'Contagem de {inicio} até {fim} de {passo} em {passo}')\n",
    "    if inicio < fim:\n",
    "        for c in range(inicio, fim, passo):\n",
    "            sleep(0.5)\n",
    "            print(c, end= ' ', flush= True)\n",
    "        print('FIM!')\n",
    "    elif fim < inicio:\n",
    "        if passo > 0:\n",
    "            passo = -passo\n",
    "        for c in range(inicio, fim-1, passo):\n",
    "            sleep(0.5)\n",
    "            print(c, end= ' ', flush= True)\n",
    "        print('FIM!')\n",
    "    \n",
    "    \n",
    "    \n",
    "contador()\n"
   ]
  },
  {
   "cell_type": "markdown",
   "id": "514a844c",
   "metadata": {},
   "source": [
    "## Desafio 99: Faça um programa que tenha uma função chamada maior(), que receba vários parâmetros com valores inteiros. Seu programa tem que analisar todos os valores e dizer qual deles é o maior."
   ]
  },
  {
   "cell_type": "code",
   "execution_count": 14,
   "id": "0fb0e4b0",
   "metadata": {},
   "outputs": [
    {
     "name": "stdout",
     "output_type": "stream",
     "text": [
      "-=-=-=-=-=-=-=-=-=-=-=-=-=-=-=-=-=-=-=-=\n",
      "2 9 4 5 7 1 Foram informados 6 valores ao todo.\n",
      "O maior valor informado foi 9.\n",
      "-=-=-=-=-=-=-=-=-=-=-=-=-=-=-=-=-=-=-=-=\n",
      "4 7 0 Foram informados 3 valores ao todo.\n",
      "O maior valor informado foi 7.\n",
      "-=-=-=-=-=-=-=-=-=-=-=-=-=-=-=-=-=-=-=-=\n",
      "1 2 Foram informados 2 valores ao todo.\n",
      "O maior valor informado foi 2.\n",
      "-=-=-=-=-=-=-=-=-=-=-=-=-=-=-=-=-=-=-=-=\n",
      "6 Foram informados 1 valores ao todo.\n",
      "O maior valor informado foi 6.\n",
      "-=-=-=-=-=-=-=-=-=-=-=-=-=-=-=-=-=-=-=-=\n",
      "Foram informados 0 valores ao todo.\n",
      "O maior valor informado foi 0.\n"
     ]
    }
   ],
   "source": [
    "def maior(* núm):\n",
    "    print('-='*20)\n",
    "    for c in range(0, len(núm)):\n",
    "        print(f'{núm[c]}', end= ' ')\n",
    "    print(f'Foram informados {len(núm)} valores ao todo.')\n",
    "    if not núm:\n",
    "        print(f'O maior valor informado foi 0.')\n",
    "    else: \n",
    "        print(f'O maior valor informado foi {max(núm)}.')\n",
    "maior(2, 9, 4, 5, 7, 1)\n",
    "maior(4, 7, 0)\n",
    "maior(1, 2)\n",
    "maior(6)\n",
    "maior()"
   ]
  },
  {
   "cell_type": "markdown",
   "id": "6207c867",
   "metadata": {},
   "source": [
    "## Desafio 100: Faça um programa que tenha uma lista chamada números e duas funções chamadas sorteia() e somaPar(). A primeira função vai sortear 5 números e vai colocá-los dentro da lista e a segunda função vai mostrar a soma entre todos os valores pares sorteados pela função anterior."
   ]
  },
  {
   "cell_type": "code",
   "execution_count": 15,
   "id": "bf68fe1d",
   "metadata": {},
   "outputs": [
    {
     "name": "stdout",
     "output_type": "stream",
     "text": [
      "Sorteando os 5 valores da lista: 6 6 9 4 7 PRONTO!\n",
      "Somando os valores pares de [6, 6, 9, 4, 7], temos 16.\n"
     ]
    }
   ],
   "source": [
    "from random import randint\n",
    "from time import sleep\n",
    "\n",
    "def sorteia(lista):\n",
    "    print(f'Sorteando os 5 valores da lista: ', end = '')\n",
    "    for i in range(0,5):\n",
    "        lista.append(randint(1, 10))\n",
    "        sleep(0.5)\n",
    "        print(lista[i], end= ' ')\n",
    "    print('PRONTO!')\n",
    "\n",
    "    \n",
    "def somapar(lista):\n",
    "    pares = []\n",
    "    for c in range(0, len(lista)):\n",
    "        if lista[c] % 2 == 0:\n",
    "            pares.append(lista[c])\n",
    "    print(f'Somando os valores pares de {lista}, temos {sum(pares)}.')\n",
    "    \n",
    "    \n",
    "\n",
    "lista = []\n",
    "sorteia(lista)\n",
    "somapar(lista)"
   ]
  }
 ],
 "metadata": {
  "kernelspec": {
   "display_name": "Python 3 (ipykernel)",
   "language": "python",
   "name": "python3"
  },
  "language_info": {
   "codemirror_mode": {
    "name": "ipython",
    "version": 3
   },
   "file_extension": ".py",
   "mimetype": "text/x-python",
   "name": "python",
   "nbconvert_exporter": "python",
   "pygments_lexer": "ipython3",
   "version": "3.9.6"
  },
  "varInspector": {
   "cols": {
    "lenName": 16,
    "lenType": 16,
    "lenVar": 40
   },
   "kernels_config": {
    "python": {
     "delete_cmd_postfix": "",
     "delete_cmd_prefix": "del ",
     "library": "var_list.py",
     "varRefreshCmd": "print(var_dic_list())"
    },
    "r": {
     "delete_cmd_postfix": ") ",
     "delete_cmd_prefix": "rm(",
     "library": "var_list.r",
     "varRefreshCmd": "cat(var_dic_list()) "
    }
   },
   "types_to_exclude": [
    "module",
    "function",
    "builtin_function_or_method",
    "instance",
    "_Feature"
   ],
   "window_display": false
  }
 },
 "nbformat": 4,
 "nbformat_minor": 5
}
