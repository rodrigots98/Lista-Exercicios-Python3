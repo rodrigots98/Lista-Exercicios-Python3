{
 "cells": [
  {
   "cell_type": "markdown",
   "id": "1e41f286",
   "metadata": {},
   "source": [
    "#  - Aula 22 - Módulos e Pacotes\n",
    "Nessa aula, vamos continuar nossos estudos de funções em Python, aprendendo como criar módulos em Python e reutilizar nossos códigos em outros projetos. Vamos aprender também como agrupar vários módulos em um pacote, ampliando ainda mais a modularização em grandes projetos em Python."
   ]
  },
  {
   "cell_type": "code",
   "execution_count": 3,
   "id": "7654233d",
   "metadata": {},
   "outputs": [
    {
     "name": "stdout",
     "output_type": "stream",
     "text": [
      "Digite um valor: 3\n",
      "O fatorial de 3 é 6\n",
      "O dobro de 3 é 6\n"
     ]
    }
   ],
   "source": [
    "import import_ipynb\n",
    "import Modulo1\n",
    "\n",
    "num = int(input('Digite um valor: '))\n",
    "fat = Modulo1.fatorial(num)\n",
    "print(f'O fatorial de {num} é {fat}')\n",
    "print(f'O dobro de {num} é {Modulo1.dobro(num)}')"
   ]
  },
  {
   "cell_type": "markdown",
   "id": "c0f8780a",
   "metadata": {},
   "source": [
    "## Desafio 107: Exercitando módulos em Python\n",
    "    Crie um módulo chamado moeda.py que tenha as funções incorporadas aumentar(), diminuir(), dobro() e metade().\n",
    "    Faça também um programa que importe esse módulo e use algumas dessas funções."
   ]
  },
  {
   "cell_type": "code",
   "execution_count": 4,
   "id": "3960e611",
   "metadata": {},
   "outputs": [
    {
     "name": "stdout",
     "output_type": "stream",
     "text": [
      "Digite o preço: R$34\n",
      "A metade de 34.0 é 17.0\n",
      "O dobro de 34.0 é 68.0\n",
      "Aumentando 10%, temos 37.4\n",
      "Reduzindo 13%, temos 29.58\n"
     ]
    }
   ],
   "source": [
    "from ex107 import moeda\n",
    "\n",
    "p = float(input('Digite o preço: R$'))\n",
    "print(f'A metade de {p} é {moeda.metade(p)}')\n",
    "print(f'O dobro de {p} é {moeda.dobro(p)}')\n",
    "print(f'Aumentando 10%, temos {moeda.aumentar(p, 10)}')\n",
    "print(f'Reduzindo 13%, temos {moeda.diminuir(p, 13)}')"
   ]
  },
  {
   "cell_type": "markdown",
   "id": "09621f09",
   "metadata": {},
   "source": [
    "## Desafio 108: Formatando Moedas\n",
    "    Adapte o código do desafio #107, criando uma função adicional chamada moeda() que consiga mostrar os\n",
    "    números como um valor monetário formatado."
   ]
  },
  {
   "cell_type": "code",
   "execution_count": 5,
   "id": "0bf5e1fd",
   "metadata": {},
   "outputs": [
    {
     "name": "stdout",
     "output_type": "stream",
     "text": [
      "Digite o preço: R$34\n",
      "A metade de R$34,00 é R$17,00\n",
      "O dobro de R$34,00 é R$68,00\n",
      "Aumentando 10%, temos R$37,00\n",
      "Reduzindo 13%, temos R$30,00\n"
     ]
    }
   ],
   "source": [
    "from ex108 import moeda\n",
    "\n",
    "p = float(input('Digite o preço: R$'))\n",
    "print(f'A metade de {moeda.moeda(p)} é {moeda.moeda(moeda.metade(p))}')\n",
    "print(f'O dobro de {moeda.moeda(p)} é {moeda.moeda(moeda.dobro(p))}')\n",
    "print(f'Aumentando 10%, temos {moeda.moeda(moeda.aumentar(p, 10))}')\n",
    "print(f'Reduzindo 13%, temos {moeda.moeda(moeda.diminuir(p, 13))}')"
   ]
  },
  {
   "cell_type": "markdown",
   "id": "ef23de3f",
   "metadata": {},
   "source": [
    "## Desafio 109: Formatando Moedas\n",
    "    Modifique as funções que form criadas no desafio 107 para que elas aceitem um parâmetro a mais, informando se o valor retornado por elas vai ser ou não formatado pela função moeda(), desenvolvida no desafio 108."
   ]
  },
  {
   "cell_type": "code",
   "execution_count": 6,
   "id": "75bfe67c",
   "metadata": {},
   "outputs": [
    {
     "name": "stdout",
     "output_type": "stream",
     "text": [
      "Digite o preço: R$4000\n",
      "A metade de R$4000,00 é R$2000,00\n",
      "O dobro de R$4000,00 é R$8000,00\n",
      "Aumentando 10%, temos R$4400,00\n",
      "Reduzindo 13%, temos R$3480,00\n"
     ]
    }
   ],
   "source": [
    "from ex109 import moeda\n",
    "\n",
    "p = float(input('Digite o preço: R$'))\n",
    "print(f'A metade de {moeda.moeda(p)} é {moeda.metade(p, True)}')\n",
    "print(f'O dobro de {moeda.moeda(p)} é {moeda.dobro(p, True)}')\n",
    "print(f'Aumentando 10%, temos {moeda.aumentar(p, 10, True)}')\n",
    "print(f'Reduzindo 13%, temos {moeda.diminuir(p, 13, True)}')"
   ]
  },
  {
   "cell_type": "markdown",
   "id": "7e64c256",
   "metadata": {},
   "source": [
    "## Desafio 110: Reduzindo ainda mais seu programa\n",
    "    Adicione o módulo moeda.py criado nos desafios anteriores, uma função chamada resumo(), que mostre na tela algumas informações geradas pelas funções que já temos no módulo criado até aqui."
   ]
  },
  {
   "cell_type": "code",
   "execution_count": 7,
   "id": "63f6697f",
   "metadata": {},
   "outputs": [
    {
     "name": "stdout",
     "output_type": "stream",
     "text": [
      "\u001bc\n",
      "Digite um valor: R$ 3000\n",
      "\u001bc\n",
      "------------------------------\n",
      "|      RESUMO DO VALOR       |\n",
      "------------------------------\n",
      "Preço analizado: \tR$3000,00\n",
      "Dobro do preço: \tR$6000,00\n",
      "Metade do preço: \tR$1500,00\n",
      "30% de aumento: \tR$3900,00\n",
      "78% de redução: \tR$660,00\n",
      "\n",
      "------------------------------\n",
      "\n"
     ]
    }
   ],
   "source": [
    "from ex110 import moeda\n",
    "print('\\33c')\n",
    "p = float(input('Digite um valor: R$ '))\n",
    "moeda.resumo(p, 30, 78)"
   ]
  },
  {
   "cell_type": "markdown",
   "id": "5804702c",
   "metadata": {},
   "source": [
    "## Desafio 111: Transformando módulos em pacotes\n",
    "    Crie um pacote chamado utilidadesCeV que tenha dois módulos internos chamados moeda e dado.\n",
    "    Transfira todas as funções utilizadas nos desafios 107, 108 e 109 para o primeiro pacote e mantenha tudo funcionando."
   ]
  },
  {
   "cell_type": "code",
   "execution_count": 8,
   "id": "2138895f",
   "metadata": {},
   "outputs": [
    {
     "name": "stdout",
     "output_type": "stream",
     "text": [
      "\u001bc\n",
      "Digite um valor: R$2000\n",
      "\u001bc\n",
      "------------------------------\n",
      "|      RESUMO DO VALOR       |\n",
      "------------------------------\n",
      "Preço analizado: \tR$2000,00\n",
      "Dobro do preço: \tR$4000,00\n",
      "Metade do preço: \tR$1000,00\n",
      "60% de aumento: \tR$3200,00\n",
      "45% de redução: \tR$1100,00\n",
      "------------------------------\n",
      "\n"
     ]
    }
   ],
   "source": [
    "from ex111.utilidadescev import moeda\n",
    "\n",
    "print('\\33c')\n",
    "p = float(input('Digite um valor: R$'))\n",
    "moeda.resumo(p, 60, 45)"
   ]
  },
  {
   "cell_type": "markdown",
   "id": "27e2ea96",
   "metadata": {},
   "source": [
    "## Desafio 112: Transformando módulos em pacotes\n",
    "    Dentro do pacote que criamos no desafio 111, temos um módulo chamado dado.\n",
    "    Crie uma função chamada leiaDinheiro() que seja capaz de funcionar como a função imput(), mas com uma validação de dados para aceitar apenas valores que seja monetários."
   ]
  },
  {
   "cell_type": "code",
   "execution_count": 9,
   "id": "46154746",
   "metadata": {},
   "outputs": [
    {
     "name": "stdout",
     "output_type": "stream",
     "text": [
      "\u001bc\n",
      "Digite um valor: R$3000\n",
      "\u001bc\n",
      "------------------------------\n",
      "|      RESUMO DO VALOR       |\n",
      "------------------------------\n",
      "Preço analizado:   R$3000,00\n",
      "Dobro do preço:    6000.0\n",
      "Metade do preço:   R$1500,00\n",
      "60% de aumento:    R$4800,00\n",
      "45% de redução:    R$1650,00\n",
      "------------------------------\n",
      "\n"
     ]
    }
   ],
   "source": [
    "from ex112.utilidadecev import moeda\n",
    "from ex112.utilidadecev import dados\n",
    "\n",
    "print('\\33c')\n",
    "p = dados.leiaDinheiro('Digite um valor: R$')\n",
    "moeda.resumo(p, 60, 45)"
   ]
  },
  {
   "cell_type": "markdown",
   "id": "af1649d6",
   "metadata": {},
   "source": [
    "## Desafio 113: Reescreva a função leiaInt() que fizemos no desafio 104, incluindo agora a possibilidade da digitação de um número de tipo inválido. Aproveite e crie também uma função leiaFloat() com a mesma funcionalidade"
   ]
  },
  {
   "cell_type": "code",
   "execution_count": 11,
   "id": "fb14cf1b",
   "metadata": {},
   "outputs": [
    {
     "name": "stdout",
     "output_type": "stream",
     "text": [
      "Digite um valor Inteiro: 4.0\n",
      "\u001bc\n",
      "\u001b[1;31mERRO: por favor, digite um valor inteiro válido\u001b[m\n",
      "Digite um valor Inteiro: 4.5\n",
      "\u001bc\n",
      "\u001b[1;31mERRO: por favor, digite um valor inteiro válido\u001b[m\n",
      "Digite um valor Inteiro: s\n",
      "\u001bc\n",
      "\u001b[1;31mERRO: por favor, digite um valor inteiro válido\u001b[m\n",
      "Digite um valor Inteiro: 3\n",
      "Digite um valor Real: s\n",
      "\u001bc\n",
      "\u001b[1;31mERRO: por favor, digite um número real válido\u001b[m\n",
      "Digite um valor Real: 3.4\n",
      "O valor inteiro digitado foi 3 e o real foi 3.4\n"
     ]
    }
   ],
   "source": [
    "def leiaInt2(x=0):\n",
    "    \"\"\"[Função que faz validação de valor se são interio ou não]\n",
    "    Keyword Arguments:\n",
    "        x {int} -- [valor a receber inteiro] (default: {0})\n",
    "    Returns:\n",
    "        [int] -- [retorno de valor somente interio]\n",
    "    \"\"\"\n",
    "    while True:\n",
    "        try:\n",
    "            n = int(input(x))\n",
    "        except Exception as erro:\n",
    "            print('\\33c')\n",
    "            print(f\"\\33[1;31mERRO: por favor, digite um valor inteiro válido\\33[m\")\n",
    "        except KeyboardInterrupt:\n",
    "            print('\\33c')\n",
    "            print('\\33[1;31mO usúario decidio não informar dos dados\\33[m')\n",
    "            n = 0\n",
    "            return n\n",
    "            \n",
    "        else:\n",
    "            return n\n",
    "\n",
    "def leiaFloat(x=0):\n",
    "    \"\"\"[Finção que valida se o valor e real ou não e força para o usuário \n",
    "    somente digitar valores reais validos ]\n",
    "    Keyword Arguments:\n",
    "        x {float} -- [recebe valor real ] (default: {0})\n",
    "    Returns\n",
    "        [floar] -- [retorna somente valor real válido]\n",
    "    \"\"\"\n",
    "    while True:\n",
    "        try:\n",
    "            num = float(input(x))\n",
    "        except Exception as erro:\n",
    "            print('\\33c')\n",
    "            print(f'\\33[1;31mERRO: por favor, digite um número real válido\\33[m')\n",
    "        except KeyboardInterrupt:\n",
    "            print('\\33c')\n",
    "            print('\\33[1;31mO Usuário não quis informa os dados!\\33[m')\n",
    "            num = 0 \n",
    "            return num\n",
    "        else:\n",
    "            return num\n",
    "\n",
    "#Programa principal\n",
    "\n",
    "num_int = leiaInt2(\"Digite um valor Inteiro: \")\n",
    "num_float = leiaFloat(\"Digite um valor Real: \")\n",
    "\n",
    "print(f'O valor inteiro digitado foi {num_int} e o real foi {num_float}')"
   ]
  },
  {
   "cell_type": "markdown",
   "id": "fce77302",
   "metadata": {},
   "source": [
    "## Desafio 114: Crie um código em Python que teste se o site pudim está acessível pelo computador usado."
   ]
  },
  {
   "cell_type": "code",
   "execution_count": 12,
   "id": "3ba4fe49",
   "metadata": {},
   "outputs": [
    {
     "name": "stdout",
     "output_type": "stream",
     "text": [
      "Tudo ok\n"
     ]
    }
   ],
   "source": [
    "import urllib.request\n",
    "\n",
    "try:\n",
    "    site = urllib.request.urlopen('http://www.pudim.com.br/')\n",
    "except urllib.error.URLError:\n",
    "    print('Deu erro')\n",
    "else:\n",
    "    print('Tudo ok')"
   ]
  }
 ],
 "metadata": {
  "kernelspec": {
   "display_name": "Python 3 (ipykernel)",
   "language": "python",
   "name": "python3"
  },
  "language_info": {
   "codemirror_mode": {
    "name": "ipython",
    "version": 3
   },
   "file_extension": ".py",
   "mimetype": "text/x-python",
   "name": "python",
   "nbconvert_exporter": "python",
   "pygments_lexer": "ipython3",
   "version": "3.9.6"
  },
  "varInspector": {
   "cols": {
    "lenName": 16,
    "lenType": 16,
    "lenVar": 40
   },
   "kernels_config": {
    "python": {
     "delete_cmd_postfix": "",
     "delete_cmd_prefix": "del ",
     "library": "var_list.py",
     "varRefreshCmd": "print(var_dic_list())"
    },
    "r": {
     "delete_cmd_postfix": ") ",
     "delete_cmd_prefix": "rm(",
     "library": "var_list.r",
     "varRefreshCmd": "cat(var_dic_list()) "
    }
   },
   "types_to_exclude": [
    "module",
    "function",
    "builtin_function_or_method",
    "instance",
    "_Feature"
   ],
   "window_display": false
  }
 },
 "nbformat": 4,
 "nbformat_minor": 5
}
