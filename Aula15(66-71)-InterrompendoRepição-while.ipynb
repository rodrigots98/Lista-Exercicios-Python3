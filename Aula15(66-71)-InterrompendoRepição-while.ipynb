{
 "cells": [
  {
   "cell_type": "markdown",
   "id": "ef04ba69-2fb8-4130-8447-c1b88c967324",
   "metadata": {},
   "source": [
    "# -----------------------------------------------------------------------------------\n",
    "#  - Aula 15 - Interrompendo repetições while\n",
    "Nessa aula, vamos aprender como utilizar a instrução break e os loopings infinitos a favor das nossas estratégias de código. É muito importante saber usar o break no Python, já que em alguns casos precisamos interromper um laço no meio do caminho."
   ]
  },
  {
   "cell_type": "code",
   "execution_count": 1,
   "id": "1f510a1c-2265-4ef1-8c02-1064615fb454",
   "metadata": {},
   "outputs": [
    {
     "name": "stdin",
     "output_type": "stream",
     "text": [
      "Digite um número:  4\n",
      "Digite um número:  5\n",
      "Digite um número:  6\n",
      "Digite um número:  4\n",
      "Digite um número:  0\n",
      "Digite um número:  2\n",
      "Digite um número:  1\n",
      "Digite um número:  999\n"
     ]
    },
    {
     "name": "stdout",
     "output_type": "stream",
     "text": [
      "A soma vale 22\n"
     ]
    }
   ],
   "source": [
    "n = s = 0\n",
    "while True:\n",
    "    n = int(input('Digite um número: '))\n",
    "    if n ==999:\n",
    "        break\n",
    "    s += n\n",
    "print(f'A soma vale {s}')"
   ]
  },
  {
   "cell_type": "markdown",
   "id": "88ca6b8f-3bec-459c-be74-a08e30dee1e3",
   "metadata": {},
   "source": [
    "## Desafio 66- Crie um programa que leia números inteiros pelo teclado. O programa só vai parar quando o usuário digitar o valor 999, que é a condição de parada. No final, mostre quantos números foram digitados e qual foi a soma entre elas (desconsiderando o flag)."
   ]
  },
  {
   "cell_type": "code",
   "execution_count": 3,
   "id": "ef105489-b176-44c8-93b9-0b6b15353b48",
   "metadata": {},
   "outputs": [
    {
     "name": "stdin",
     "output_type": "stream",
     "text": [
      "Digite um valor (999 para parar):  44\n",
      "Digite um valor (999 para parar):  55\n",
      "Digite um valor (999 para parar):  999\n"
     ]
    },
    {
     "name": "stdout",
     "output_type": "stream",
     "text": [
      "A soma dos 2 valores foi 99\n"
     ]
    }
   ],
   "source": [
    "n = s = 0\n",
    "count = 0\n",
    "while True:\n",
    "    n = int(input('Digite um valor (999 para parar): '))\n",
    "    if n == 999:\n",
    "        break\n",
    "    count +=1\n",
    "    s += n\n",
    "print(f'A soma dos {count} valores foi {s}')"
   ]
  },
  {
   "cell_type": "markdown",
   "id": "599e6d6e-b534-46d1-a4cb-53d1afd6c6ca",
   "metadata": {},
   "source": [
    "## Desafio 67: Faça um programa que mostre a tabuada de vários números, um de cada vez, para cada valor digitado pelo usuário. O programa será interrompido quando o número solicitado for negativo. "
   ]
  },
  {
   "cell_type": "code",
   "execution_count": 5,
   "id": "363d50f4-4e0b-4168-9d92-0c5dbc68f116",
   "metadata": {},
   "outputs": [
    {
     "name": "stdout",
     "output_type": "stream",
     "text": [
      "----------------------------------------\n"
     ]
    },
    {
     "name": "stdin",
     "output_type": "stream",
     "text": [
      "Quer ver a tabuada de qual valor?  3\n"
     ]
    },
    {
     "name": "stdout",
     "output_type": "stream",
     "text": [
      "----------------------------------------\n",
      "3 x 1 = 3\n",
      "3 x 2 = 6\n",
      "3 x 3 = 9\n",
      "3 x 4 = 12\n",
      "3 x 5 = 15\n",
      "3 x 6 = 18\n",
      "3 x 7 = 21\n",
      "3 x 8 = 24\n",
      "3 x 9 = 27\n",
      "3 x 10 = 30\n",
      "----------------------------------------\n"
     ]
    },
    {
     "name": "stdin",
     "output_type": "stream",
     "text": [
      "Quer ver a tabuada de qual valor?  4\n"
     ]
    },
    {
     "name": "stdout",
     "output_type": "stream",
     "text": [
      "----------------------------------------\n",
      "4 x 1 = 4\n",
      "4 x 2 = 8\n",
      "4 x 3 = 12\n",
      "4 x 4 = 16\n",
      "4 x 5 = 20\n",
      "4 x 6 = 24\n",
      "4 x 7 = 28\n",
      "4 x 8 = 32\n",
      "4 x 9 = 36\n",
      "4 x 10 = 40\n",
      "----------------------------------------\n"
     ]
    },
    {
     "name": "stdin",
     "output_type": "stream",
     "text": [
      "Quer ver a tabuada de qual valor?  0\n"
     ]
    },
    {
     "name": "stdout",
     "output_type": "stream",
     "text": [
      "----------------------------------------\n",
      "0 x 1 = 0\n",
      "0 x 2 = 0\n",
      "0 x 3 = 0\n",
      "0 x 4 = 0\n",
      "0 x 5 = 0\n",
      "0 x 6 = 0\n",
      "0 x 7 = 0\n",
      "0 x 8 = 0\n",
      "0 x 9 = 0\n",
      "0 x 10 = 0\n",
      "----------------------------------------\n"
     ]
    },
    {
     "name": "stdin",
     "output_type": "stream",
     "text": [
      "Quer ver a tabuada de qual valor?  999\n"
     ]
    },
    {
     "name": "stdout",
     "output_type": "stream",
     "text": [
      "----------------------------------------\n",
      "999 x 1 = 999\n",
      "999 x 2 = 1998\n",
      "999 x 3 = 2997\n",
      "999 x 4 = 3996\n",
      "999 x 5 = 4995\n",
      "999 x 6 = 5994\n",
      "999 x 7 = 6993\n",
      "999 x 8 = 7992\n",
      "999 x 9 = 8991\n",
      "999 x 10 = 9990\n",
      "----------------------------------------\n"
     ]
    },
    {
     "name": "stdin",
     "output_type": "stream",
     "text": [
      "Quer ver a tabuada de qual valor?  -2\n"
     ]
    },
    {
     "name": "stdout",
     "output_type": "stream",
     "text": [
      "PROGRAMA TABUADA ENCERRADO. Volte sempre!\n"
     ]
    }
   ],
   "source": [
    "n = 0\n",
    "print('--'*20)\n",
    "while True:\n",
    "    n= int(input('Quer ver a tabuada de qual valor? '))\n",
    "    if n < 0:\n",
    "        break\n",
    "    print('--'*20)\n",
    "    for count in range(1, 11):\n",
    "        print(f'{n} x {count} = {n*count}')\n",
    "    print('--'*20)    \n",
    "\n",
    "print('PROGRAMA TABUADA ENCERRADO. Volte sempre!')"
   ]
  },
  {
   "cell_type": "markdown",
   "id": "06ec364f-5e15-47b8-9a51-0e890b8aa1cf",
   "metadata": {},
   "source": [
    "## Desafio 68: Faça um programa que jogue par ou ímpar com o computador. O jogo só será interrompido quando o jogador perder, mostrando o total de vitórias consecutivas que ele conquistou no final do jogo. "
   ]
  },
  {
   "cell_type": "code",
   "execution_count": 6,
   "id": "6bb94b8f-45fe-45c0-a858-b18d9d4a2c9d",
   "metadata": {},
   "outputs": [
    {
     "name": "stdout",
     "output_type": "stream",
     "text": [
      "-=-=-=-=-=-=-=-=-=-=-=-=-=-=-=-=-=-=-=-=\n",
      "VAMOS JOGAR PAR OU ÍMPAR\n",
      "-=-=-=-=-=-=-=-=-=-=-=-=-=-=-=-=-=-=-=-=\n"
     ]
    },
    {
     "name": "stdin",
     "output_type": "stream",
     "text": [
      "Diga um valor:  3\n",
      "Par ou Ímpar? [P/I]  p\n"
     ]
    },
    {
     "name": "stdout",
     "output_type": "stream",
     "text": [
      "----------------------------------------\n",
      "Você jogou 3 e o computador 2. Total de 5 deu ÍMPAR\n",
      "----------------------------------------\n",
      "Você PERDEU!\n",
      "=-=-=-=-=-=-=-=-=-=-=-=-=-=-=-=-=-=-=-=-\n",
      "GAME OVER! Você venceu 0 vezes\n"
     ]
    }
   ],
   "source": [
    "import random\n",
    "\n",
    "print('-='*20)\n",
    "print('VAMOS JOGAR PAR OU ÍMPAR')\n",
    "print('-='*20)\n",
    "\n",
    "count = 0\n",
    "# pc = n = 0\n",
    "\n",
    "while True:\n",
    "    n = int(input('Diga um valor: '))\n",
    "    pc = random.randint(0, 10)\n",
    "    soma = n + pc\n",
    "    PI =' '\n",
    "    while PI not in 'PI':\n",
    "        PI = str(input('Par ou Ímpar? [P/I] ')).upper().strip()[0]\n",
    "    print('--'*20)\n",
    "    if soma % 2 == 0 and PI == 'P':\n",
    "        print(f'Você jogou {n} e o computador {pc}. Total de {soma} deu PAR')\n",
    "        print('--'*20)\n",
    "        print('Você VENCEU!')\n",
    "        print('Vamos jogar novamente...')\n",
    "        count += 1\n",
    "    elif soma % 2 != 0 and PI == 'P':\n",
    "        print(f'Você jogou {n} e o computador {pc}. Total de {soma} deu ÍMPAR')\n",
    "        print('--'*20)\n",
    "        print('Você PERDEU!')\n",
    "        break\n",
    "    elif soma % 2 != 0 and PI =='I':\n",
    "        print(f'Você jogou {n} e o computador {pc}. Total de {soma} deu ÍMPAR')\n",
    "        print('--'*20)\n",
    "        print('Você VENCEU!')\n",
    "        count += 1\n",
    "        print('Vamos jogar novamente...')\n",
    "    elif soma % 2 == 0 and PI == 'I':\n",
    "        print(f'Você jogou {n} e o computador {pc}. Total de {soma} deu PAR')\n",
    "        print('--'*20)\n",
    "        print('Você PERDEU!')\n",
    "        break\n",
    "    print('--'*20)\n",
    "        \n",
    "print('=-'*20)\n",
    "print(f'GAME OVER! Você venceu {count} vezes')"
   ]
  },
  {
   "cell_type": "markdown",
   "id": "e7d0b477-789f-4cba-a103-080439026c6d",
   "metadata": {},
   "source": [
    "## Desafio 69: Crie um programa que leia a idade e o sexo de várias pessoas. A cada pessoa cadastrada, o programa deverá perguntar se o usuário quer ou não continuar. No final, mostre:\n",
    "A) quantas pessoas tem mais de 18 anos.\n",
    "B) quantos homens foram cadastrados.\n",
    "C) quantas mulheres tem menos de 20 anos."
   ]
  },
  {
   "cell_type": "code",
   "execution_count": 7,
   "id": "c241be98-f4ac-43bd-ab7b-2cf67d1e1ed9",
   "metadata": {},
   "outputs": [
    {
     "name": "stdin",
     "output_type": "stream",
     "text": [
      "Idade:  20\n",
      "Sexo: [M/F]  m\n",
      "Deseja continuar? [S/N]  s\n",
      "Idade:  50\n",
      "Sexo: [M/F]  s\n",
      "Sexo: [M/F]  f\n",
      "Deseja continuar? [S/N]  n\n"
     ]
    },
    {
     "name": "stdout",
     "output_type": "stream",
     "text": [
      "\n",
      "Maiores de idade cadastrados: 2\n",
      "Homens cadastrados: 1\n",
      "Mulheres com idade inferior a 20: 0\n",
      "\n"
     ]
    }
   ],
   "source": [
    "quantMaior = quantHomens = quantMulheres = 0\n",
    "while True:\n",
    "    idade = int(input('Idade: '))\n",
    "    sexo = ' '\n",
    "    while sexo not in 'MF':\n",
    "        sexo = str(input('Sexo: [M/F] ')).strip().upper()[0]\n",
    "\n",
    "    if idade >= 18:\n",
    "        quantMaior += 1\n",
    "\n",
    "    if sexo == 'M':\n",
    "        quantHomens += 1\n",
    "    elif idade < 20:\n",
    "        quantMulheres += 1\n",
    "\n",
    "    continuar = ' '\n",
    "    while continuar not in 'SN':\n",
    "        continuar = str(input('Deseja continuar? [S/N] ')).strip().upper()[0]\n",
    "\n",
    "    if continuar == 'N':\n",
    "        break\n",
    "\n",
    "print(f'''\n",
    "Maiores de idade cadastrados: {quantMaior}\n",
    "Homens cadastrados: {quantHomens}\n",
    "Mulheres com idade inferior a 20: {quantMulheres}\n",
    "''')"
   ]
  },
  {
   "cell_type": "markdown",
   "id": "17aed347-a4dd-46cf-afd3-cd5b9fd1459d",
   "metadata": {},
   "source": [
    "## Desafio 70: Crie um programa que leia o nome e o preço de vários produtos. O programa deverá perguntar se o usuário vai continuar ou não. No final, mostre:\n",
    "A) qual é o total gasto na compra.\n",
    "B) quantos produtos custam mais de R$1000.\n",
    "C) qual é o nome do produto mais barato. "
   ]
  },
  {
   "cell_type": "code",
   "execution_count": 9,
   "id": "29eced91-73c7-41fc-96d1-1ad31fcb941b",
   "metadata": {},
   "outputs": [
    {
     "name": "stdin",
     "output_type": "stream",
     "text": [
      "Nome:  pizza\n",
      "Preço: R$ 20\n",
      "Deseja continuar? [S/N] s\n",
      "Nome:  lapis\n",
      "Preço: R$ 2\n",
      "Deseja continuar? [S/N] n\n"
     ]
    },
    {
     "name": "stdout",
     "output_type": "stream",
     "text": [
      "\n",
      "Total Gasto na compra: R$22.00\n",
      "Qunatidade de produtos superior a R$1.000: 0\n",
      "O produto mais barato é lapis que custa R$2.00\n",
      "\n"
     ]
    }
   ],
   "source": [
    "maiorMil = totalGasto = c = barato = 0\n",
    "nbarato = ' '\n",
    "while True:\n",
    "    nome = str(input('Nome: '))\n",
    "    preco = float(input('Preço: R$'))\n",
    "\n",
    "    totalGasto += preco\n",
    "    c += 1\n",
    "    if c == 1:\n",
    "        barato = preco\n",
    "\n",
    "    if preco >= 1000:\n",
    "        maiorMil += 1\n",
    "\n",
    "    if barato > preco:\n",
    "        barato = preco\n",
    "        nbarato = nome\n",
    "\n",
    "    continuar = ' '\n",
    "    while continuar not in 'SN':\n",
    "        continuar = str(input('Deseja continuar? [S/N]')).strip().upper()[0]\n",
    "\n",
    "    if continuar == 'N':\n",
    "        break\n",
    "print(f'''\n",
    "Total Gasto na compra: R${totalGasto:.2f}\n",
    "Qunatidade de produtos superior a R$1.000: {maiorMil}\n",
    "O produto mais barato é {nbarato} que custa R${barato:.2f}\n",
    "''')"
   ]
  },
  {
   "cell_type": "markdown",
   "id": "6f20e33d-accb-4341-aea1-dcc2ee27d1ca",
   "metadata": {},
   "source": [
    "## Desafio 71: Crie um programa que simule o funcionamento de um caixa eletrônico. No início, pergunte ao usuário qual será o valor a ser sacado (número inteiro) e o programa vai informar quantas cédulas de cada valor serão entregues.\n",
    "OBS: considere que o caixa possui cédulas de 50 reais, 20 reais, 10 reais e 1 real."
   ]
  },
  {
   "cell_type": "code",
   "execution_count": 10,
   "id": "7ba10225-6103-433c-9f0d-ad192e017cf1",
   "metadata": {},
   "outputs": [
    {
     "name": "stdout",
     "output_type": "stream",
     "text": [
      "Cédulas disponíveis R$50, R$20, R$10 e R$1\n"
     ]
    },
    {
     "name": "stdin",
     "output_type": "stream",
     "text": [
      "Qual valor você deseja sacar? R$ 2000\n"
     ]
    },
    {
     "name": "stdout",
     "output_type": "stream",
     "text": [
      "Total de 40 de R$50.00\n"
     ]
    }
   ],
   "source": [
    "ced = 50.00\n",
    "cedTotal = 0\n",
    "\n",
    "print(\"Cédulas disponíveis R$50, R$20, R$10 e R$1\")\n",
    "sacar = int(input('Qual valor você deseja sacar? R$'))\n",
    "\n",
    "while True:\n",
    "    if sacar >= ced:\n",
    "        sacar -= ced\n",
    "        cedTotal += 1\n",
    "    else:\n",
    "        if cedTotal != 0:\n",
    "            print(f'Total de {cedTotal} de R${ced:.2f}')\n",
    "        if ced == 50.00:\n",
    "            ced = 20.00\n",
    "        elif ced == 20.00:\n",
    "            ced = 10.00\n",
    "        elif ced == 10.00:\n",
    "            ced = 1\n",
    "        cedTotal = 0\n",
    "        if sacar == 0:\n",
    "            break"
   ]
  },
  {
   "cell_type": "code",
   "execution_count": null,
   "id": "d24a5b9e-f73a-4cae-8a6e-26e69ff5a10d",
   "metadata": {},
   "outputs": [],
   "source": []
  },
  {
   "cell_type": "code",
   "execution_count": null,
   "id": "8b2005f0-ba8d-4e46-908b-921179a929fa",
   "metadata": {},
   "outputs": [],
   "source": []
  }
 ],
 "metadata": {
  "kernelspec": {
   "display_name": "Python 3 (ipykernel)",
   "language": "python",
   "name": "python3"
  },
  "language_info": {
   "codemirror_mode": {
    "name": "ipython",
    "version": 3
   },
   "file_extension": ".py",
   "mimetype": "text/x-python",
   "name": "python",
   "nbconvert_exporter": "python",
   "pygments_lexer": "ipython3",
   "version": "3.9.6"
  }
 },
 "nbformat": 4,
 "nbformat_minor": 5
}
