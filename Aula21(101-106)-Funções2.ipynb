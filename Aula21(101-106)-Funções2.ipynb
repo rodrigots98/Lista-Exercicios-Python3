{
 "cells": [
  {
   "cell_type": "markdown",
   "id": "18f2d670",
   "metadata": {},
   "source": [
    "#  - Aula 21 - Funções (parte 2)\n",
    "Nessa aula, vamos continuar nossos estudos de funções em Python, aprendendo mais sobre Interactive Help em Python, o uso de docstrings para documentar nossas funções, argumentos opcionais para dar mais dinamismo em funções Python, escopo de variáveis e retorno de resultados."
   ]
  },
  {
   "cell_type": "code",
   "execution_count": 1,
   "id": "53c0849f",
   "metadata": {},
   "outputs": [
    {
     "name": "stdout",
     "output_type": "stream",
     "text": [
      "Os resultados 120, 24, 1\n"
     ]
    }
   ],
   "source": [
    "def fatorial(num = 1):\n",
    "    f = 1\n",
    "    for c in range(num, 0, -1):\n",
    "        f *= c\n",
    "    return f\n",
    "\n",
    "\n",
    "f1 = fatorial(5)\n",
    "f2 = fatorial(4)\n",
    "f3 = fatorial()\n",
    "\n",
    "print(f'Os resultados {f1}, {f2}, {f3}')"
   ]
  },
  {
   "cell_type": "code",
   "execution_count": 2,
   "id": "d73947bf",
   "metadata": {},
   "outputs": [
    {
     "name": "stdout",
     "output_type": "stream",
     "text": [
      "Digite um número: 3\n",
      "False\n",
      "Não é par!\n"
     ]
    }
   ],
   "source": [
    "def par(n=0):\n",
    "    if n%2 == 0:\n",
    "        return True\n",
    "    else:\n",
    "        return False\n",
    "\n",
    "\n",
    "num= int(input('Digite um número: '))\n",
    "print(par(num))\n",
    "\n",
    "if par(num):\n",
    "    print('É par!')\n",
    "else:\n",
    "    print('Não é par!')"
   ]
  },
  {
   "cell_type": "markdown",
   "id": "db9861bd",
   "metadata": {},
   "source": [
    "## Desafio 101: Funções para votação\n",
    "       Crie um programa que tenha uma função chamada voto() que vai receber como parâmetro o ano de nascimento de uma pessoa retornando um valor literal indicando se uma pessoa tem voto NEGADO, OPCIONAL e OBRIGATÓRIO nas eleições."
   ]
  },
  {
   "cell_type": "code",
   "execution_count": 3,
   "id": "94de2394",
   "metadata": {},
   "outputs": [
    {
     "name": "stdout",
     "output_type": "stream",
     "text": [
      "Informe a data de nascimento: 1998\n",
      "Com 23 anos: Voto Obrigatório\n"
     ]
    }
   ],
   "source": [
    "def voto(ano):\n",
    "    from datetime import date\n",
    "    global idade\n",
    "    idade = date.today().year - ano\n",
    "    if idade < 16:\n",
    "        return 'Voto Negado'\n",
    "    elif idade >= 18 and idade < 70:\n",
    "        return 'Voto Obrigatório'\n",
    "    else:\n",
    "        return 'Voto Opcional'\n",
    "\n",
    "\n",
    "nascimento = int(input('Informe a data de nascimento: '))\n",
    "voto(nascimento)\n",
    "print(f'Com {idade} anos: {voto(nascimento)}')"
   ]
  },
  {
   "cell_type": "markdown",
   "id": "3f11e831",
   "metadata": {},
   "source": [
    "## Desafio 102: Função para Fatorial\n",
    "    Crie um programa que tenha uma função fatorial() que receba dois parâmetros:o primeiro que indique o número a calcular e outro chamado show, que será um valor lógico (opcional)indicando se será mostrado ou não na tela o processo de cálculo do fatorial."
   ]
  },
  {
   "cell_type": "code",
   "execution_count": 4,
   "id": "36e48d0d",
   "metadata": {},
   "outputs": [
    {
     "name": "stdout",
     "output_type": "stream",
     "text": [
      "Informe um número para calcular o fatorial: 4\n",
      "Mostrar na tela? [0-Não/1-Sim]1\n",
      "4 x 3 x 2 x 1 = 24\n"
     ]
    }
   ],
   "source": [
    "def fatorial(num, show=False):\n",
    "    fat = 1\n",
    "    for i in range(num, 0, -1):\n",
    "        fat *= i\n",
    "    if show:\n",
    "        for i in range(num, 0, -1):\n",
    "            if i == 1:\n",
    "                print('1', end='')\n",
    "            else:\n",
    "                print(i, end=' x ')\n",
    "        print(f' = {fat}')\n",
    "    else:\n",
    "        print(f'Fatorial de {num}! é {fat}')\n",
    "\n",
    "\n",
    "n = int(input('Informe um número para calcular o fatorial: '))\n",
    "mostrar = int(input('Mostrar na tela? [0-Não/1-Sim]'))\n",
    "fatorial(n, mostrar)"
   ]
  },
  {
   "cell_type": "markdown",
   "id": "c34fd5bb",
   "metadata": {},
   "source": [
    "## Desafio 103: Ficha do Jogador\n",
    "    Faça um programa que tenha uma função chamada ficha(), que receba dois parâmetros opcionais: o nome de um jogador e quantos gols ele marcou. O programa deverá ser capaz de mostrar a ficha do jogador,mesmo que algum dado não tenha sido informado"
   ]
  },
  {
   "cell_type": "code",
   "execution_count": 5,
   "id": "a2e05a94",
   "metadata": {},
   "outputs": [
    {
     "name": "stdout",
     "output_type": "stream",
     "text": [
      "------------------------------\n",
      "Nome do Jogador: Rodrigo\n",
      "Número de Gols: 20\n",
      "O jogador Rodrigo fez 20 gol(s) no campeonato.\n"
     ]
    }
   ],
   "source": [
    "def ficha(nome='<<desconhecido>>', gols=0):\n",
    "    print(f'O jogador {nome} fez {gols} gol(s) no campeonato.')\n",
    "\n",
    "\n",
    "#Programa princinpal\n",
    "print('-'*30)\n",
    "n = str(input('Nome do Jogador: '))\n",
    "g = str(input('Número de Gols: '))\n",
    "if g.isnumeric():\n",
    "    g = int(g)\n",
    "else:\n",
    "    g = 0\n",
    "if n.strip() == '':\n",
    "    ficha(gols=g)\n",
    "else:\n",
    "    ficha(n, g)"
   ]
  },
  {
   "cell_type": "markdown",
   "id": "81b808cd",
   "metadata": {},
   "source": [
    "## Desafio 104: Validando entrada de dados em Python\n",
    "    Crie um programa que tenha a função leiaInt(), que vai funcionar de forma semelhante 'a função input() do Python, só que fazendo a validação para aceitar apenas um valor numérico."
   ]
  },
  {
   "cell_type": "code",
   "execution_count": 7,
   "id": "a3802e5f",
   "metadata": {},
   "outputs": [
    {
     "name": "stdout",
     "output_type": "stream",
     "text": [
      "Digite um número: \n",
      "\u001b[1;31m[ERRO] Digite um número válido.\u001b[m\n",
      "Digite um número: d\n",
      "\u001b[1;31m[ERRO] Digite um número válido.\u001b[m\n",
      "Digite um número: f\n",
      "\u001b[1;31m[ERRO] Digite um número válido.\u001b[m\n",
      "Digite um número: a\n",
      "\u001b[1;31m[ERRO] Digite um número válido.\u001b[m\n",
      "Digite um número: g\n",
      "\u001b[1;31m[ERRO] Digite um número válido.\u001b[m\n",
      "Digite um número: 24\n",
      "\u001b[1;32mVocê acabou de digitar o número 24\u001b[m\n"
     ]
    }
   ],
   "source": [
    "def leiaInt(msg):\n",
    "    ok = False\n",
    "    valor = 0 \n",
    "    while True:\n",
    "        n = str(input(msg))\n",
    "        if n.isnumeric():\n",
    "            valor = int(n)\n",
    "            ok = True\n",
    "        else:\n",
    "            print('\\33[1;31m[ERRO] Digite um número válido.\\33[m')\n",
    "        if ok:\n",
    "            break\n",
    "    return valor\n",
    "\n",
    "\n",
    "\n",
    "\n",
    "#Programa principal\n",
    "n = leiaInt('Digite um número: ')\n",
    "print(f'\\33[1;32mVocê acabou de digitar o número {n}\\33[m')"
   ]
  },
  {
   "cell_type": "markdown",
   "id": "87430b4d",
   "metadata": {},
   "source": [
    "## Desafio 105: Validando entrada de dados em Python\n",
    "    Faça um programa que tenha uma função notas() que pode receber várias notas de alunos e vai retornar um dicionário com as seguintes informações:\n",
    "       - Quantidade de notas\n",
    "       - A maior nota\n",
    "       - A menor nota\n",
    "       - A média da turma\n",
    "       - A situação (opcional)\n",
    "    Adicione também as docstrings dessa função para consulta pelo desenvolvedor."
   ]
  },
  {
   "cell_type": "code",
   "execution_count": 8,
   "id": "bf19814a",
   "metadata": {},
   "outputs": [
    {
     "name": "stdout",
     "output_type": "stream",
     "text": [
      "-------------------------------------------------------\n",
      "{'total': 4, 'maior': 10, 'menor': 5.5, 'média': 7.875, 'situação': 'BOA'}\n",
      "-------------------------------------------------------\n",
      "Help on function notas in module __main__:\n",
      "\n",
      "notas(*n, s=False)\n",
      "    [Notas]\n",
      "    Função para categorizar dados(Notas) a serem informadas \n",
      "    não inporta a quantidade de notas \n",
      "    Returns:\n",
      "        [dci['total']] -- [Retorna o valor total de notas]\n",
      "        [dci['maior']] -- [Retorna o valor maior das notas]\n",
      "        [dci['menor']] -- [Retorna o valor menor das notas]\n",
      "        [dci['média']] -- [Retorna o valor a médias das notas]\n",
      "        [dci['situação']] -- [Retorna a situação do aluno]\n",
      "\n"
     ]
    }
   ],
   "source": [
    "def notas(*n, s=False):\n",
    "    \"\"\"[Notas]\n",
    "    Função para categorizar dados(Notas) a serem informadas \n",
    "    não inporta a quantidade de notas \n",
    "    Returns:\n",
    "        [dci['total']] -- [Retorna o valor total de notas]\n",
    "        [dci['maior']] -- [Retorna o valor maior das notas]\n",
    "        [dci['menor']] -- [Retorna o valor menor das notas]\n",
    "        [dci['média']] -- [Retorna o valor a médias das notas]\n",
    "        [dci['situação']] -- [Retorna a situação do aluno]\n",
    "    \"\"\"\n",
    "    dci = dict()\n",
    "    dci['total'] = len(n)\n",
    "    dci['maior'] = max(n)\n",
    "    dci['menor'] = min(n)\n",
    "    dci['média'] = (sum(n) / (dci['total']))\n",
    "\n",
    "    if s == True:\n",
    "        if dci['média'] >= 7:\n",
    "            dci['situação'] = 'BOA'\n",
    "        elif dci['média'] >= 5:\n",
    "            dci['situação'] = 'RAZOÁVEL'\n",
    "        else:\n",
    "            dci['situação'] = 'RUIM'\n",
    "    return dci\n",
    "\n",
    "\n",
    "#Programa princinpal\n",
    "print('-' * 55)\n",
    "print(notas(5.5, 9.5, 10, 6.5, s=True))\n",
    "print('-' * 55)\n",
    "help(notas)"
   ]
  },
  {
   "cell_type": "markdown",
   "id": "2cf7d7e7",
   "metadata": {},
   "source": [
    "## Desafio 106: Sistema interativo de ajuda em Python\n",
    "    Faça um mini-sistema que utilize o Interactive Help do Python.\n",
    "    O usuário vai digitar o comando e o manual vai aparecer.\n",
    "    Quando o usuário digitar a palavra 'FIM', o programa se encerrará. Importante: use cores."
   ]
  },
  {
   "cell_type": "code",
   "execution_count": 9,
   "id": "7e49edb3",
   "metadata": {},
   "outputs": [
    {
     "name": "stdout",
     "output_type": "stream",
     "text": [
      "\u001b[0;30;43m~~~~~~~~~~~~~~~~~~~~~~~~~~~\n",
      "  SISTEMA DE AJUDA PYHELP\n",
      "~~~~~~~~~~~~~~~~~~~~~~~~~~~\n",
      "\u001b[mFunção aou Biblioteca > print\n",
      "\u001b[0;30;44m~~~~~~~~~~~~~~~~~~~~~~~~~~~~~~~~~~~~~~~~~\n",
      "  Acessando o manual do comando 'print'\n",
      "~~~~~~~~~~~~~~~~~~~~~~~~~~~~~~~~~~~~~~~~~\n",
      "\u001b[m\u001b[7;30mHelp on built-in function print in module builtins:\n",
      "\n",
      "print(...)\n",
      "    print(value, ..., sep=' ', end='\\n', file=sys.stdout, flush=False)\n",
      "    \n",
      "    Prints the values to a stream, or to sys.stdout by default.\n",
      "    Optional keyword arguments:\n",
      "    file:  a file-like object (stream); defaults to the current sys.stdout.\n",
      "    sep:   string inserted between values, default a space.\n",
      "    end:   string appended after the last value, default a newline.\n",
      "    flush: whether to forcibly flush the stream.\n",
      "\n",
      "\u001b[m\n",
      "\u001b[0;30;43m~~~~~~~~~~~~~~~~~~~~~~~~~~~\n",
      "  SISTEMA DE AJUDA PYHELP\n",
      "~~~~~~~~~~~~~~~~~~~~~~~~~~~\n",
      "\u001b[mFunção aou Biblioteca > fim\n",
      "\u001b[0;30;41m~~~~~~~~~~~~\n",
      "  Até LOGO\n",
      "~~~~~~~~~~~~\n",
      "\u001b[m"
     ]
    }
   ],
   "source": [
    "from time import sleep\n",
    "c = ('\\33[m',   # 0 - sem cor\n",
    "    '\\33[0;30;41m', # 1 - vermelho\n",
    "    '\\33[0;30;42m', # 2 - verde\n",
    "    '\\33[0;30;43m', # 3 - amarelo\n",
    "    '\\33[0;30;44m', # 4 - azul\n",
    "    '\\33[0;30;45m', # 5 - roxo\n",
    "    '\\33[7;30m',    # 6 - branco\n",
    "    )\n",
    "\n",
    "\n",
    "def tit(msg, cor=0):\n",
    "    tam = len(msg) + 4\n",
    "    print(f\"{c[cor]}\", end='')\n",
    "    print('~'* tam)\n",
    "    print(f'  {msg}')\n",
    "    print('~'*tam)\n",
    "    print(f\"{c[0]}\", end='')\n",
    "    sleep(1)\n",
    "\n",
    "def ajuda(cmd):\n",
    "    tit(f'Acessando o manual do comando \\'{cmd}\\'', 4)\n",
    "    print(c[6], end='')\n",
    "    help(cmd)\n",
    "    print(c[0])\n",
    "    sleep(2)\n",
    "\n",
    "\n",
    "#Programa principal\n",
    "comando = ''\n",
    "while True:\n",
    "    tit(\"SISTEMA DE AJUDA PYHELP\", 3)\n",
    "    comando = str(input('Função aou Biblioteca > '))\n",
    "    if comando.upper() == 'FIM':\n",
    "        tit(\"Até LOGO\", 1)\n",
    "        break\n",
    "    else: \n",
    "        ajuda(comando)"
   ]
  },
  {
   "cell_type": "code",
   "execution_count": null,
   "id": "6f03a3fa",
   "metadata": {},
   "outputs": [],
   "source": []
  }
 ],
 "metadata": {
  "kernelspec": {
   "display_name": "Python 3 (ipykernel)",
   "language": "python",
   "name": "python3"
  },
  "language_info": {
   "codemirror_mode": {
    "name": "ipython",
    "version": 3
   },
   "file_extension": ".py",
   "mimetype": "text/x-python",
   "name": "python",
   "nbconvert_exporter": "python",
   "pygments_lexer": "ipython3",
   "version": "3.9.6"
  },
  "varInspector": {
   "cols": {
    "lenName": 16,
    "lenType": 16,
    "lenVar": 40
   },
   "kernels_config": {
    "python": {
     "delete_cmd_postfix": "",
     "delete_cmd_prefix": "del ",
     "library": "var_list.py",
     "varRefreshCmd": "print(var_dic_list())"
    },
    "r": {
     "delete_cmd_postfix": ") ",
     "delete_cmd_prefix": "rm(",
     "library": "var_list.r",
     "varRefreshCmd": "cat(var_dic_list()) "
    }
   },
   "types_to_exclude": [
    "module",
    "function",
    "builtin_function_or_method",
    "instance",
    "_Feature"
   ],
   "window_display": false
  }
 },
 "nbformat": 4,
 "nbformat_minor": 5
}
