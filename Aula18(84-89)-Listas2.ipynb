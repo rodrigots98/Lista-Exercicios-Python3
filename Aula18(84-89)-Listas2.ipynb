{
 "cells": [
  {
   "cell_type": "markdown",
   "id": "faddd215",
   "metadata": {},
   "source": [
    "# Listas (parte 2)\n",
    "Nessa aula, vamos aprender o que são LISTAS e como utilizar listas em Python. As listas são variáveis compostas que permitem armazenar vários valores em uma mesma estrutura, acessíveis por chaves individuais."
   ]
  },
  {
   "cell_type": "code",
   "execution_count": 1,
   "id": "28dc5eac",
   "metadata": {},
   "outputs": [
    {
     "name": "stdout",
     "output_type": "stream",
     "text": [
      "Pedro\n",
      "19\n",
      "João\n",
      "['Maria', 19]\n"
     ]
    }
   ],
   "source": [
    "pessoas = [['Pedro', 25],['Maria', 19], ['João', 32]]\n",
    "print(pessoas[0][0])\n",
    "print(pessoas[1][1])\n",
    "print(pessoas[2][0])\n",
    "print(pessoas[1])"
   ]
  },
  {
   "cell_type": "code",
   "execution_count": 2,
   "id": "b6e9f031",
   "metadata": {},
   "outputs": [
    {
     "name": "stdout",
     "output_type": "stream",
     "text": [
      "['Gustavo', 40]\n",
      "[['Gustavo', 40], ['Maria', 22]]\n"
     ]
    }
   ],
   "source": [
    "teste = list()\n",
    "teste.append('Gustavo')\n",
    "teste.append(40)\n",
    "print(teste)\n",
    "galera = list()\n",
    "galera.append(teste[:]) # é necessário '[:]' para realizar a copia de uma lista\n",
    "teste[0] = 'Maria'\n",
    "teste[1] = 22\n",
    "galera.append(teste[:])\n",
    "print(galera)"
   ]
  },
  {
   "cell_type": "code",
   "execution_count": 3,
   "id": "3d941969",
   "metadata": {},
   "outputs": [
    {
     "name": "stdout",
     "output_type": "stream",
     "text": [
      "['Gustavo', 40]\n",
      "Gustavo\n",
      "['Maria', 22]\n",
      "Maria\n"
     ]
    }
   ],
   "source": [
    "pessoas = [['Pedro', 25],['Maria', 19], ['João', 32]]\n",
    "for p in galera:\n",
    "    print(p)\n",
    "    print(p[0])"
   ]
  },
  {
   "cell_type": "code",
   "execution_count": 5,
   "id": "2f07d2a0",
   "metadata": {},
   "outputs": [
    {
     "name": "stdout",
     "output_type": "stream",
     "text": [
      "Nome: Rodrigo Souza\n",
      "Idade: 20\n",
      "Nome: Pedro\n",
      "Idade: 30\n",
      "Nome: Xavier\n",
      "Idade: 15\n",
      "Nome: Will\n",
      "Idade: 18\n",
      "Nome: Rafael\n",
      "Idade: 60\n",
      "[['Rodrigo Souza', 20], ['Pedro', 30], ['Xavier', 15], ['Will', 18], ['Rafael', 60]]\n",
      "-=-=-=-=-=-=-=-=-=-=-=-=-=-=-=-=-=-=-=-=\n",
      "Rodrigo Souza é menor idade\n",
      "Pedro é maior de idade.\n",
      "Xavier é menor idade\n",
      "Will é menor idade\n",
      "Rafael é maior de idade.\n",
      "Temos 2 maiores e 3 menores de idade.\n"
     ]
    }
   ],
   "source": [
    "galera = list()\n",
    "dado = list()\n",
    "totmai = totmen = 0\n",
    "\n",
    "for c in range(0, 5):\n",
    "    dado.append(str(input('Nome: ')))\n",
    "    dado.append(int(input('Idade: ')))\n",
    "    galera.append(dado[:])\n",
    "    dado.clear()\n",
    "    \n",
    "print(galera)\n",
    "print('-='*20)\n",
    "for p in galera:\n",
    "    if p[1] >= 21:\n",
    "        print(f'{p[0]} é maior de idade.')\n",
    "        totmai += 1\n",
    "    else:\n",
    "        print(f'{p[0]} é menor idade')\n",
    "        totmen += 1\n",
    "\n",
    "print(f'Temos {totmai} maiores e {totmen} menores de idade.')"
   ]
  },
  {
   "cell_type": "markdown",
   "id": "2b72cbbb",
   "metadata": {},
   "source": [
    "## Desafio 84: Faça um programa que leia nome e peso de várias pessoas, guardando tudo em uma lista. No final, mostre:\n",
    "A) Quantas pessoas foram cadastradas.\n",
    "B) Uma listagem com as pessoas mais pesadas.\n",
    "C) Uma listagem com as pessoas mais leves."
   ]
  },
  {
   "cell_type": "code",
   "execution_count": 2,
   "id": "214c5e7c",
   "metadata": {},
   "outputs": [
    {
     "name": "stdout",
     "output_type": "stream",
     "text": [
      "Nome: Rodrigo\n",
      "Idade: 23\n",
      "Quer continuar? Digite S ou N: s\n",
      "Nome: pedro\n",
      "Idade: 40\n",
      "Quer continuar? Digite S ou N: n\n",
      "Ao todo, você cadastrou 2 pessoas.\n",
      "O maior peso foi de 40 de pedro\n",
      "O menor peso foi de 23 de Rodrigo\n"
     ]
    }
   ],
   "source": [
    "pessoas = list()\n",
    "dado = list()\n",
    "cont = 0\n",
    "maxpeso = 0\n",
    "maxnome = ''\n",
    "minpeso = 0\n",
    "minnome = ''\n",
    "\n",
    "while True:\n",
    "    dado.append(str(input('Nome: ')))\n",
    "    dado.append(int(input('Idade: ')))\n",
    "    if maxpeso == 0 and minpeso == 0:\n",
    "        maxpeso = minpeso = dado[1]\n",
    "        maxnome = minnome = dado[0]\n",
    "    elif dado[1] > maxpeso:\n",
    "        maxpeso = dado[1]\n",
    "        maxnome = dado[0]\n",
    "    elif dado[1] < minpeso:\n",
    "        minpeso = dado[1]\n",
    "        minpeso = dado[0]\n",
    "    pessoas.append(dado[:])\n",
    "    dado.clear()\n",
    "    cont += 1\n",
    "    resposta = str(input('Quer continuar? Digite S ou N: ')).upper()\n",
    "    if resposta in 'N':\n",
    "        break\n",
    "\n",
    "print(f'Ao todo, você cadastrou {cont} pessoas.')\n",
    "print(f'O maior peso foi de {maxpeso} de {maxnome}')\n",
    "print(f'O menor peso foi de {minpeso} de {minnome}')"
   ]
  },
  {
   "cell_type": "code",
   "execution_count": 3,
   "id": "e74757c0",
   "metadata": {},
   "outputs": [
    {
     "name": "stdout",
     "output_type": "stream",
     "text": [
      "Nome: Rodrigo\n",
      "Peso: 20\n",
      "Quer continuar? [S/N]S\n",
      "Nome: Pedro\n",
      "Peso: 40\n",
      "Quer continuar? [S/N]n\n",
      "-=-=-=-=-=-=-=-=-=-=-=-=-=-=-=-=-=-=-=-=-=-=-=-=-=-=-=-=-=-=\n",
      "Ao todo, você cadastrou 2 pessoas. \n",
      "O maior peso foi de 40.0Kg. Peso de [Pedro] \n",
      "O menor peso foi de 20.0Kg. Peso de [Rodrigo] "
     ]
    }
   ],
   "source": [
    "temp = []\n",
    "princ = []\n",
    "mai = men = 0\n",
    "while True:\n",
    "    temp.append(str(input('Nome: ')))\n",
    "    temp.append(float(input('Peso: ')))\n",
    "    if len(princ) == 0:\n",
    "        mai = men = temp[1]\n",
    "    else:\n",
    "        if temp[1] > mai:\n",
    "            mai = temp[1]\n",
    "        if temp[1] < men:\n",
    "            men = temp[1]\n",
    "    princ.append(temp[:])\n",
    "    temp.clear()\n",
    "    resp = str(input('Quer continuar? [S/N]'))\n",
    "    if resp in 'Nn':\n",
    "        break\n",
    "print('-='*30)\n",
    "print(f'Ao todo, você cadastrou {len(princ)} pessoas. ')\n",
    "print(f'O maior peso foi de {mai}Kg. Peso de ',end ='')\n",
    "for p in princ:\n",
    "    if p[1] == mai:\n",
    "        print(f'[{p[0]}] ', end='')\n",
    "print()\n",
    "print(f'O menor peso foi de {men}Kg. Peso de ', end ='')\n",
    "for p in princ:\n",
    "    if p[1] == men:\n",
    "        print(f'[{p[0]}] ', end = '')"
   ]
  },
  {
   "cell_type": "markdown",
   "id": "d7482a6b",
   "metadata": {},
   "source": [
    "## Desafio 85: Crie um programa onde o usuário possa digitar sete valores numéricos e cadastre-os em uma lista única que mantenha separados os valores pares e ímpares. No final, mostre os valores pares e ímpares em ordem crescente."
   ]
  },
  {
   "cell_type": "code",
   "execution_count": 4,
   "id": "83cbac92",
   "metadata": {},
   "outputs": [
    {
     "name": "stdout",
     "output_type": "stream",
     "text": [
      "Digite o 1º valor: 4\n",
      "Digite o 2º valor: 5\n",
      "Digite o 3º valor: 6\n",
      "Digite o 4º valor: 7\n",
      "Digite o 5º valor: 4\n",
      "Digite o 6º valor: 5\n",
      "Digite o 7º valor: 1\n",
      "Os valores pares em ordem crescente: [4, 4, 6]\n",
      "Os valores ímpares em ordem crescente: [1, 5, 5, 7]\n",
      "[[4, 6, 4], [5, 7, 5, 1]]\n"
     ]
    }
   ],
   "source": [
    "lista = [[],[]]\n",
    "temp = 0\n",
    "\n",
    "for n in range(1,8):\n",
    "    temp = int(input(f'Digite o {n}º valor: '))\n",
    "    if temp % 2 == 0:\n",
    "        lista[0].append(temp)\n",
    "    else:\n",
    "        lista[1].append(temp)\n",
    "print(f'Os valores pares em ordem crescente: {sorted(lista[0])}')\n",
    "print(f'Os valores ímpares em ordem crescente: {sorted(lista[1])}')\n",
    "print(lista)"
   ]
  },
  {
   "cell_type": "markdown",
   "id": "cdd7a851",
   "metadata": {},
   "source": [
    "## Desafio 86: Crie um programa que declare uma matriz de dimensão 3x3 e preencha com valores lidos pelo teclado. No final, mostre a matriz na tela, com a formatação correta."
   ]
  },
  {
   "cell_type": "code",
   "execution_count": 5,
   "id": "11eeae11",
   "metadata": {},
   "outputs": [
    {
     "name": "stdout",
     "output_type": "stream",
     "text": [
      "Digite um valor para [0,0]: 4\n",
      "Digite um valor para [0,1]: 5\n",
      "Digite um valor para [0,2]: 8\n",
      "Digite um valor para [1,0]: 5\n",
      "Digite um valor para [1,1]: 1\n",
      "Digite um valor para [1,2]: 3\n",
      "Digite um valor para [2,0]: 5\n",
      "Digite um valor para [2,1]: 8\n",
      "Digite um valor para [2,2]: 6\n",
      "[[4, 5, 8], [5, 1, 3], [5, 8, 6]]\n",
      "-=-=-=-=-=-=-=-=-=-=-=-=-=-=-=-=-=-=-=-=-=-=-=-=-=-=-=-=-=-=\n",
      "[  4  ][  5  ][  8  ]\n",
      "[  5  ][  1  ][  3  ]\n",
      "[  5  ][  8  ][  6  ]\n"
     ]
    }
   ],
   "source": [
    "matriz = [[],[],[]]\n",
    "for i in range(0,3):\n",
    "    for c in range(0,3):\n",
    "        matriz[i].append(int(input(f'Digite um valor para [{i},{c}]: ')))\n",
    "print(matriz)\n",
    "print('-='*30)\n",
    "for i in range (0,3):\n",
    "    for c in range (0,3):\n",
    "        print(f'[{matriz[i][c]:^5}]', end='')\n",
    "    print()"
   ]
  },
  {
   "cell_type": "markdown",
   "id": "fb24c555",
   "metadata": {},
   "source": [
    "## Desafio 87: Aprimore o desafio anterior, mostrando no final: \n",
    "A) A soma de todos os valores pares digitados.\n",
    "B) A soma dos valores da terceira coluna.\n",
    "C) O maior valor da segunda linha."
   ]
  },
  {
   "cell_type": "code",
   "execution_count": 6,
   "id": "20487bd7",
   "metadata": {},
   "outputs": [
    {
     "name": "stdout",
     "output_type": "stream",
     "text": [
      "Digite um valor para [0,0]: 4\n",
      "Digite um valor para [0,1]: 6\n",
      "Digite um valor para [0,2]: 8\n",
      "Digite um valor para [1,0]: 5\n",
      "Digite um valor para [1,1]: 1\n",
      "Digite um valor para [1,2]: 3\n",
      "Digite um valor para [2,0]: 7\n",
      "Digite um valor para [2,1]: 3\n",
      "Digite um valor para [2,2]: 2\n",
      "[[4, 6, 8], [5, 1, 3], [7, 3, 2]]\n",
      "-=-=-=-=-=-=-=-=-=-=-=-=-=-=-=-=-=-=-=-=-=-=-=-=-=-=-=-=-=-=\n",
      "[  4  ][  6  ][  8  ]\n",
      "[  5  ][  1  ][  3  ]\n",
      "[  7  ][  3  ][  2  ]\n",
      "-=-=-=-=-=-=-=-=-=-=-=-=-=-=-=-=-=-=-=-=\n",
      "A soma dos valores pares é 20.\n",
      "A soma dos valores da terceira  coluna é 13.\n",
      "O maior valor da segunda linha é 5.\n"
     ]
    }
   ],
   "source": [
    "matriz = [[],[],[]]\n",
    "par = 0\n",
    "terccoluna = 0\n",
    "maiorsegunda = 0\n",
    "for i in range(0,3):\n",
    "    for c in range(0,3):\n",
    "        matriz[i].append(int(input(f'Digite um valor para [{i},{c}]: ')))\n",
    "print(matriz)\n",
    "print('-='*30)\n",
    "for i in range (0,3):\n",
    "    for c in range (0,3):\n",
    "        print(f'[{matriz[i][c]:^5}]', end='')\n",
    "        if matriz[i][c] % 2 ==0:\n",
    "            par += matriz[i][c] \n",
    "        if c == 2:\n",
    "            terccoluna += matriz[i][c]\n",
    "        if i == 1 and maiorsegunda == 0:\n",
    "            maiorsegunda = matriz[i][c]\n",
    "        if i == 1 and matriz [i][c] > maiorsegunda:\n",
    "            maiorsegunda = matriz [i][c]\n",
    "    print()\n",
    "\n",
    "print('-='*20)\n",
    "print(f'A soma dos valores pares é {par}.')\n",
    "print(f'A soma dos valores da terceira  coluna é {terccoluna}.')\n",
    "print(f'O maior valor da segunda linha é {maiorsegunda}.')"
   ]
  },
  {
   "cell_type": "markdown",
   "id": "f2f4a990",
   "metadata": {},
   "source": [
    "## Desafio 88: Faça um programa que ajude um jogador da MEGA SENA a criar palpites.O programa vai perguntar quantos jogos serão gerados e vai sortear 6 números entre 1 e 60 para cada jogo, cadastrando tudo em uma lista composta."
   ]
  },
  {
   "cell_type": "code",
   "execution_count": 7,
   "id": "01c006c1",
   "metadata": {},
   "outputs": [
    {
     "name": "stdout",
     "output_type": "stream",
     "text": [
      "------------------------------\n",
      "Jogo NA MEGA SENA\n",
      "------------------------------\n",
      "Quantos jogos você quer que eu sorteie? 4\n",
      "Jogo 1: [39, 30, 32, 8, 3, 51]\n",
      "Jogo 2: [0, 45, 43, 8, 40, 19]\n",
      "Jogo 3: [34, 22, 42, 49, 23, 17]\n",
      "Jogo 4: [35, 18, 7, 41, 54, 13]\n"
     ]
    }
   ],
   "source": [
    "from random import randint\n",
    "from time import sleep\n",
    "print('-'*30)\n",
    "print('Jogo NA MEGA SENA')\n",
    "print('-'*30)\n",
    "n = int(input('Quantos jogos você quer que eu sorteie? '))\n",
    "lista = [[] for _ in range(n)]\n",
    "\n",
    "for i in range(0,n):\n",
    "    for t in range(0,6):\n",
    "        s = randint(0,60)\n",
    "        lista[i].append((s))\n",
    "    print(f'Jogo {i+1}: {lista[i]}')\n",
    "    sleep(1)"
   ]
  },
  {
   "cell_type": "code",
   "execution_count": 8,
   "id": "16144169",
   "metadata": {},
   "outputs": [
    {
     "name": "stdout",
     "output_type": "stream",
     "text": [
      "------------------------------\n",
      "     Jogo NA MEGA SENA      \n",
      "------------------------------\n",
      "Quantos jogos você quer que eu sorteie? 5\n",
      "-=-=-= SORTEANDO 5 JOGOS  -=-=-=\n",
      "Jogo 1: [3, 10, 16, 46, 50, 54]\n",
      "Jogo 2: [8, 16, 19, 23, 31, 40]\n",
      "Jogo 3: [19, 20, 24, 31, 50, 51]\n",
      "Jogo 4: [1, 2, 25, 43, 44, 46]\n",
      "Jogo 5: [3, 13, 20, 26, 35, 46]\n",
      "-=-=-=-=-= < BOA SORTE! > -=-=-=-=-=\n"
     ]
    }
   ],
   "source": [
    "from random import randint\n",
    "from time import sleep\n",
    "print('-'*30)\n",
    "print('     Jogo NA MEGA SENA      ')\n",
    "print('-'*30)\n",
    "\n",
    "jogos = list()\n",
    "quant = int(input('Quantos jogos você quer que eu sorteie? '))\n",
    "lista = list()\n",
    "tot = 1\n",
    "while tot <= quant:\n",
    "    cont = 0\n",
    "    while True:\n",
    "        num = randint(1, 60)\n",
    "        if num not in lista:\n",
    "            lista.append(num)\n",
    "            cont += 1\n",
    "        if cont >= 6:\n",
    "            break\n",
    "    lista.sort()\n",
    "    jogos.append(lista[:])\n",
    "    lista.clear()\n",
    "    tot += 1\n",
    "print('-=' * 3, f'SORTEANDO {quant} JOGOS ', '-='*3)\n",
    "for i, l in enumerate(jogos):\n",
    "    print(f'Jogo {i+1}: {l}')\n",
    "    sleep(1)\n",
    "print('-='*5, '< BOA SORTE! >', '-=' * 5)"
   ]
  },
  {
   "cell_type": "markdown",
   "id": "5752bb75",
   "metadata": {},
   "source": [
    "## Desafio 89: Crie um programa que leia nome e duas notas de vários alunos e guarde tudo em uma lista composta. No final, mostre um boletim contendo a média de cada um e permita que o usuário possa mostrar as notas de cada aluno individualmente."
   ]
  },
  {
   "cell_type": "code",
   "execution_count": 9,
   "id": "eff94897",
   "metadata": {},
   "outputs": [
    {
     "name": "stdout",
     "output_type": "stream",
     "text": [
      "Nome: Rodrigo\n",
      "1º Nota: 5\n",
      "2º Nota: 7\n",
      "Continuar? [S/N]s\n",
      "Nome: Pedro\n",
      "1º Nota: 3\n",
      "2º Nota: 1\n",
      "Continuar? [S/N]S\n",
      "Nome: Willian\n",
      "1º Nota: 8\n",
      "2º Nota: 9\n",
      "Continuar? [S/N]n\n",
      "Nº   NOME      MÉDIA\n",
      "-------------------------\n",
      "0    Rodrigo        6.0\n",
      "1    Pedro          2.0\n",
      "2    Willian        8.5\n",
      "-------------------------\n",
      "Mostrar notas de qual aluno? (999 interrompe)0\n",
      "Notas do(a) Rodrigo são: [5.0, 7.0]\n",
      "Mostrar notas de qual aluno? (999 interrompe)1\n",
      "Notas do(a) Pedro são: [3.0, 1.0]\n",
      "Mostrar notas de qual aluno? (999 interrompe)999\n"
     ]
    }
   ],
   "source": [
    "boletim = list()\n",
    "while True:\n",
    "    nome = str(input('Nome: '))\n",
    "    n1 = float(input('1º Nota: '))\n",
    "    n2 = float(input('2º Nota: '))\n",
    "    media = (n1 + n2) / 2\n",
    "    boletim.append([nome, [n1, n2], media])\n",
    "\n",
    "    op = str(input('Continuar? [S/N]')).strip().upper()\n",
    "    if op == 'N':\n",
    "        break\n",
    "\n",
    "print(f'{\"Nº\":<5}{\"NOME\":<10}{\"MÉDIA\":>5}')\n",
    "print('-'*25)\n",
    "for i, v in enumerate(boletim):\n",
    "    print(f'{i:<5}{v[0]:<10}{v[2]:>8}')\n",
    "print('-'*25)\n",
    "\n",
    "while True:\n",
    "    ref = int(input('Mostrar notas de qual aluno? (999 interrompe)'))\n",
    "    if ref == 999:\n",
    "        break\n",
    "    print(f'Notas do(a) {boletim[ref][0]} são: {boletim[ref][1]}')"
   ]
  }
 ],
 "metadata": {
  "kernelspec": {
   "display_name": "Python 3 (ipykernel)",
   "language": "python",
   "name": "python3"
  },
  "language_info": {
   "codemirror_mode": {
    "name": "ipython",
    "version": 3
   },
   "file_extension": ".py",
   "mimetype": "text/x-python",
   "name": "python",
   "nbconvert_exporter": "python",
   "pygments_lexer": "ipython3",
   "version": "3.9.6"
  },
  "varInspector": {
   "cols": {
    "lenName": 16,
    "lenType": 16,
    "lenVar": 40
   },
   "kernels_config": {
    "python": {
     "delete_cmd_postfix": "",
     "delete_cmd_prefix": "del ",
     "library": "var_list.py",
     "varRefreshCmd": "print(var_dic_list())"
    },
    "r": {
     "delete_cmd_postfix": ") ",
     "delete_cmd_prefix": "rm(",
     "library": "var_list.r",
     "varRefreshCmd": "cat(var_dic_list()) "
    }
   },
   "types_to_exclude": [
    "module",
    "function",
    "builtin_function_or_method",
    "instance",
    "_Feature"
   ],
   "window_display": false
  }
 },
 "nbformat": 4,
 "nbformat_minor": 5
}
