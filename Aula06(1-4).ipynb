{
 "cells": [
  {
   "cell_type": "markdown",
   "id": "9b319d78-8d4d-4ec0-8e88-8d86608f7979",
   "metadata": {},
   "source": [
    "##  1.Crie um programa que escreva 'Olá, Mundo!' na tela.\n"
   ]
  },
  {
   "cell_type": "code",
   "execution_count": 1,
   "id": "c955a1d2-5c9e-4846-a2f2-81de3d5204e2",
   "metadata": {},
   "outputs": [
    {
     "name": "stdout",
     "output_type": "stream",
     "text": [
      "Olá, Mundo!\n"
     ]
    }
   ],
   "source": [
    "print('Olá, Mundo!')"
   ]
  },
  {
   "cell_type": "code",
   "execution_count": 2,
   "id": "02269e16-4669-4274-ad33-d37b792606dd",
   "metadata": {},
   "outputs": [
    {
     "name": "stdout",
     "output_type": "stream",
     "text": [
      "Olá, Mundo!\n"
     ]
    }
   ],
   "source": [
    "msg= 'Olá, Mundo!'\n",
    "print(msg)"
   ]
  },
  {
   "cell_type": "markdown",
   "id": "0eb8f85a-c449-4757-89a0-2dd0638cd652",
   "metadata": {},
   "source": [
    "## 2.Faça um programa que leia o nome de uma pessoa e mostre uma mensagem de boas-vindas."
   ]
  },
  {
   "cell_type": "code",
   "execution_count": null,
   "id": "83b6aefa-afee-44a0-87d8-4c47ca087832",
   "metadata": {},
   "outputs": [],
   "source": [
    "nome= input('Digite seu nome: ')\n",
    "print('É um prazer te conhecer {}!'.format(nome))\n",
    "#ou\n",
    "print(f'É um prazer te conhecer {nome}!')"
   ]
  },
  {
   "cell_type": "markdown",
   "id": "9e02c458-1b66-499f-81b0-4dbefef21083",
   "metadata": {},
   "source": [
    "# Aula 06A\n",
    "Nessa aula, vamos aprender como funcionam os tipos primitivos no Python e as peculiaridades do int() float() bool() e str(). E prints"
   ]
  },
  {
   "cell_type": "code",
   "execution_count": 3,
   "id": "d5bcfd49-fd41-4281-a43f-b2674040c057",
   "metadata": {},
   "outputs": [],
   "source": [
    "#  int = 7, -4, 0, 9875 \n",
    "#  float = 4.5, 0.076, -15.223, 7.0\n",
    "#  boal = True, False\n",
    "#  str = 'Olá', '7.5', ''\n",
    "\n",
    "#  print('A soma vale', s)\n",
    "#  print('A soma vale{}'.format(s))\n",
    "#  print(f'A soma vale {s}')"
   ]
  },
  {
   "cell_type": "markdown",
   "id": "57a829c6-aaec-46f5-aa5e-9f72294b0856",
   "metadata": {},
   "source": [
    "n1 = input('Digite um valor: ')\n",
    "print(type(n1))"
   ]
  },
  {
   "cell_type": "code",
   "execution_count": 5,
   "id": "0414f965-a8b9-4138-8828-b87609f8a294",
   "metadata": {},
   "outputs": [
    {
     "name": "stdin",
     "output_type": "stream",
     "text": [
      "Digite um valor:  4\n",
      "Digite outro:  5\n"
     ]
    },
    {
     "name": "stdout",
     "output_type": "stream",
     "text": [
      "A soma vale 45\n"
     ]
    }
   ],
   "source": [
    "n1 = input('Digite um valor: ')\n",
    "n2 = input('Digite outro: ')\n",
    "s = n1+n2\n",
    "print('A soma vale', s)"
   ]
  },
  {
   "cell_type": "code",
   "execution_count": 6,
   "id": "95744d82-53b1-4f14-bca4-9a70c64d5197",
   "metadata": {},
   "outputs": [
    {
     "name": "stdin",
     "output_type": "stream",
     "text": [
      "Digite um valor:  4\n",
      "Digite outro:  5\n"
     ]
    },
    {
     "name": "stdout",
     "output_type": "stream",
     "text": [
      "A soma vale 9\n"
     ]
    }
   ],
   "source": [
    "n1 = int(input('Digite um valor: '))\n",
    "n2 = int(input('Digite outro: '))\n",
    "s = n1+n2\n",
    "print('A soma vale', s)"
   ]
  },
  {
   "cell_type": "code",
   "execution_count": 7,
   "id": "53eaadd6-be5b-486a-a656-ce6d8775b733",
   "metadata": {},
   "outputs": [
    {
     "name": "stdin",
     "output_type": "stream",
     "text": [
      "Digite um valor:  3\n",
      "Digite outro:  4\n"
     ]
    },
    {
     "name": "stdout",
     "output_type": "stream",
     "text": [
      "A soma entre 3 e 4 vale 7\n"
     ]
    }
   ],
   "source": [
    "n1 = int(input('Digite um valor: '))\n",
    "n2 = int(input('Digite outro: '))\n",
    "s = n1+n2\n",
    "print(f'A soma entre {n1} e {n2} vale {s}')"
   ]
  },
  {
   "cell_type": "markdown",
   "id": "b4ef1f92-002f-4c73-89d7-53b1eb646b9e",
   "metadata": {},
   "source": [
    "# Aula 06B"
   ]
  },
  {
   "cell_type": "code",
   "execution_count": 10,
   "id": "09e2d724-3f8a-4464-be0d-fadc41ad7f51",
   "metadata": {},
   "outputs": [
    {
     "name": "stdin",
     "output_type": "stream",
     "text": [
      "Digite um valor:  4\n"
     ]
    },
    {
     "name": "stdout",
     "output_type": "stream",
     "text": [
      "4.0\n",
      "<class 'float'>\n"
     ]
    }
   ],
   "source": [
    "n = float(input('Digite um valor: '))\n",
    "print(n)\n",
    "print(type(n))"
   ]
  },
  {
   "cell_type": "code",
   "execution_count": 11,
   "id": "e47b3083-43a7-468a-906f-984c013baaec",
   "metadata": {},
   "outputs": [
    {
     "name": "stdin",
     "output_type": "stream",
     "text": [
      "Digite algo:  5\n"
     ]
    },
    {
     "name": "stdout",
     "output_type": "stream",
     "text": [
      "True\n",
      "False\n",
      "True\n"
     ]
    }
   ],
   "source": [
    "n = input('Digite algo: ')\n",
    "print(n.isnumeric()) #números\n",
    "print(n.isalpha()) #letras\n",
    "print(n.isalnum()) #letras e números"
   ]
  },
  {
   "cell_type": "markdown",
   "id": "9f5633da-c4bc-4b33-a2d7-d9d94fd3b32f",
   "metadata": {},
   "source": [
    "## Desafio 03-  Crie um programa que leia dois números e mostre a soma entre eles\n"
   ]
  },
  {
   "cell_type": "code",
   "execution_count": 12,
   "id": "d7fca790-d1d3-45fc-8005-2e90a6d06555",
   "metadata": {},
   "outputs": [
    {
     "name": "stdin",
     "output_type": "stream",
     "text": [
      "Digite um número:  4\n",
      "Digite outro:  5\n"
     ]
    },
    {
     "name": "stdout",
     "output_type": "stream",
     "text": [
      "A soma entre 4 e 5 vale 9\n"
     ]
    }
   ],
   "source": [
    "n1 = int(input('Digite um número: '))\n",
    "n2 = int(input('Digite outro: '))\n",
    "s = n1+n2\n",
    "print((f'A soma entre {n1} e {n2} vale {s}'))"
   ]
  },
  {
   "cell_type": "markdown",
   "id": "01ab92d0-c567-4862-a83a-aae83d50c3d5",
   "metadata": {},
   "source": [
    "## Desafio 04- Faça um programa que leia algo pelo teclado e mostre na tela o seu tipo primitivo e todas as informações possíveis sobre ele"
   ]
  },
  {
   "cell_type": "code",
   "execution_count": 13,
   "id": "0a66ef6b-ba5e-4094-852c-225c7c1b5e76",
   "metadata": {},
   "outputs": [
    {
     "name": "stdin",
     "output_type": "stream",
     "text": [
      "Digite qualquer coisa:  Rodrigo 05\n"
     ]
    },
    {
     "name": "stdout",
     "output_type": "stream",
     "text": [
      "Você escreveu Rodrigo 05\n",
      "Você escreveu o tipo:  <class 'str'>\n",
      "Ele é alfanúmerico?  False\n",
      "Ele é númerico?  False\n",
      "Ele é alfabético?  False\n",
      "Ele está em letras minúsculas?  False\n",
      "Ele está em letras maiúsculas?  False\n",
      "Ele é imprimível?  True\n",
      "Ele é um espaço?  False\n",
      "Ele é um dígito?  False\n",
      "Fim!\n"
     ]
    }
   ],
   "source": [
    "x = input('Digite qualquer coisa: ')\n",
    "print(f'Você escreveu {x}')\n",
    "print('Você escreveu o tipo: ', type(x))\n",
    "print('Ele é alfanúmerico? ', x.isalnum())\n",
    "print('Ele é númerico? ', x.isnumeric())\n",
    "print('Ele é alfabético? ', x.isalpha())\n",
    "print('Ele está em letras minúsculas? ', x.islower())\n",
    "print('Ele está em letras maiúsculas? ', x.isupper())\n",
    "print('Ele é imprimível? ', x.isprintable())\n",
    "print('Ele é um espaço? ', x.isspace())\n",
    "print('Ele é um dígito? ', x.isdigit())\n",
    "print('Fim!')"
   ]
  },
  {
   "cell_type": "code",
   "execution_count": null,
   "id": "3e136264-b3df-4dbd-9ba5-3910876fee0e",
   "metadata": {},
   "outputs": [],
   "source": []
  },
  {
   "cell_type": "code",
   "execution_count": null,
   "id": "738157f1-8464-42af-8334-ae782d025c65",
   "metadata": {},
   "outputs": [],
   "source": []
  }
 ],
 "metadata": {
  "kernelspec": {
   "display_name": "Python 3 (ipykernel)",
   "language": "python",
   "name": "python3"
  },
  "language_info": {
   "codemirror_mode": {
    "name": "ipython",
    "version": 3
   },
   "file_extension": ".py",
   "mimetype": "text/x-python",
   "name": "python",
   "nbconvert_exporter": "python",
   "pygments_lexer": "ipython3",
   "version": "3.9.6"
  }
 },
 "nbformat": 4,
 "nbformat_minor": 5
}
