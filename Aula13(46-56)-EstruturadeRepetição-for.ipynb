{
 "cells": [
  {
   "cell_type": "markdown",
   "id": "1fd1ce06-19b6-4f5f-96e3-a2f61943f452",
   "metadata": {},
   "source": [
    "# -----------------------------------------------------------------------------------\n",
    "#  - Aula 13 - Estrutura de Repetição for\n",
    "Nessa aula, vamos começar nossos estudos com os laços e vamos fazer primeiro o “for”, que é uma estrutura versátil e simples de entender. Por exemplo:\n"
   ]
  },
  {
   "cell_type": "code",
   "execution_count": 1,
   "id": "46b2e475-8538-466c-9402-d80bfdc0528e",
   "metadata": {},
   "outputs": [
    {
     "name": "stdout",
     "output_type": "stream",
     "text": [
      "0\n",
      "1\n",
      "2\n",
      "3\n",
      "Acabou\n"
     ]
    }
   ],
   "source": [
    "#exemplo\n",
    "for c in range(0, 4):\n",
    "    print(c)\n",
    "\n",
    "print('Acabou')"
   ]
  },
  {
   "cell_type": "code",
   "execution_count": 2,
   "id": "40ea33d3-df2b-4e4f-9532-45dc5c190fe8",
   "metadata": {},
   "outputs": [
    {
     "name": "stdout",
     "output_type": "stream",
     "text": [
      "Oi\n",
      "Oi\n",
      "Oi\n",
      "Oi\n",
      "Oi\n",
      "Oi\n",
      "FIM\n"
     ]
    }
   ],
   "source": [
    "for c in range(0, 6): #NÃO CONSIDERA O ÚLTIMO NÚMERO!\n",
    "    print('Oi')\n",
    "print('FIM')"
   ]
  },
  {
   "cell_type": "code",
   "execution_count": 3,
   "id": "a2d27137-f32a-4774-bf45-03974d6edba6",
   "metadata": {},
   "outputs": [
    {
     "name": "stdout",
     "output_type": "stream",
     "text": [
      "Oi\n",
      "Oi\n",
      "Oi\n",
      "Oi\n",
      "Oi\n",
      "Oi\n",
      "FIM\n"
     ]
    }
   ],
   "source": [
    "for c in range(6, 0, -1):\n",
    "    print('Oi')\n",
    "print('FIM')"
   ]
  },
  {
   "cell_type": "code",
   "execution_count": 4,
   "id": "472e6dda-17d0-4bd7-82f2-09c1736d8840",
   "metadata": {},
   "outputs": [
    {
     "name": "stdout",
     "output_type": "stream",
     "text": [
      "Oi\n",
      "Oi\n",
      "Oi\n",
      "FIM\n"
     ]
    }
   ],
   "source": [
    "for c in range(0, 6, 2): #PULA 2 EM 2!\n",
    "    print('Oi')\n",
    "print('FIM')"
   ]
  },
  {
   "cell_type": "code",
   "execution_count": 5,
   "id": "8031fdf4-82c2-435e-96d3-038f9f60c030",
   "metadata": {},
   "outputs": [
    {
     "name": "stdin",
     "output_type": "stream",
     "text": [
      "Digite um número:  3\n"
     ]
    },
    {
     "name": "stdout",
     "output_type": "stream",
     "text": [
      "0\n",
      "1\n",
      "2\n",
      "3\n",
      "FIM\n"
     ]
    }
   ],
   "source": [
    "n = int(input('Digite um número: '))\n",
    "for c in range(0, n+1):\n",
    "    print(c)\n",
    "print('FIM')"
   ]
  },
  {
   "cell_type": "code",
   "execution_count": 6,
   "id": "b9bb7b85-7e39-4a7a-8b73-1b8d5e2e536d",
   "metadata": {},
   "outputs": [
    {
     "name": "stdin",
     "output_type": "stream",
     "text": [
      "Início:  3\n",
      "Fim:  7\n",
      "Passo:  2\n"
     ]
    },
    {
     "name": "stdout",
     "output_type": "stream",
     "text": [
      "3\n",
      "5\n",
      "7\n",
      "FIM\n"
     ]
    }
   ],
   "source": [
    "i = int(input('Início: '))\n",
    "f = int(input('Fim: '))\n",
    "p = int(input('Passo: '))\n",
    "for c in range(i, f+1, p):\n",
    "    print(c)\n",
    "print('FIM')"
   ]
  },
  {
   "cell_type": "code",
   "execution_count": 7,
   "id": "38e78fbd-701b-459e-b6d8-83546cf8f813",
   "metadata": {},
   "outputs": [
    {
     "name": "stdin",
     "output_type": "stream",
     "text": [
      "Digite um valor:  1\n",
      "Digite um valor:  9\n",
      "Digite um valor:  4\n"
     ]
    },
    {
     "name": "stdout",
     "output_type": "stream",
     "text": [
      "fim\n"
     ]
    }
   ],
   "source": [
    "for c in range(0, 3):\n",
    "    n = int(input('Digite um valor: '))\n",
    "print('fim')"
   ]
  },
  {
   "cell_type": "code",
   "execution_count": 8,
   "id": "9ae35db2-97db-4b2b-abd7-a0f0859e8766",
   "metadata": {},
   "outputs": [
    {
     "name": "stdin",
     "output_type": "stream",
     "text": [
      "Digite um valor:  3\n",
      "Digite um valor:  9\n",
      "Digite um valor:  4\n"
     ]
    },
    {
     "name": "stdout",
     "output_type": "stream",
     "text": [
      "O somatório de todos os valores foi 16\n"
     ]
    }
   ],
   "source": [
    "s = 0\n",
    "for c in range(0, 3):\n",
    "    n = int(input('Digite um valor: '))\n",
    "    s += n\n",
    "print(f'O somatório de todos os valores foi {s}')"
   ]
  },
  {
   "cell_type": "markdown",
   "id": "6a6abe1d-0a74-4b4d-84d2-75dd823de805",
   "metadata": {},
   "source": [
    "## Desafio 46- Faça um programa que mostre na tela uma contagem regressiva para estouro de fogos de artifício, indo de 10 até 0, com uma pausa de 1 segundo entre eles."
   ]
  },
  {
   "cell_type": "code",
   "execution_count": 9,
   "id": "b4c3a98f-b80d-4ece-89ee-7b4109dfec6d",
   "metadata": {},
   "outputs": [
    {
     "name": "stdout",
     "output_type": "stream",
     "text": [
      "-=-=-=-=-=-=-=-=-=-=-=-=-=-=-=-=-=-=-=-=\n",
      "Fogos de Artifício\n",
      "-=-=-=-=-=-=-=-=-=-=-=-=-=-=-=-=-=-=-=-=\n",
      "10!\n",
      "9!\n",
      "8!\n",
      "7!\n",
      "6!\n",
      "5!\n",
      "4!\n",
      "3!\n",
      "2!\n",
      "1!\n",
      "0!\n",
      "BUM! BUM! POOW!!!\n"
     ]
    }
   ],
   "source": [
    "from time import sleep\n",
    "print('-='*20)\n",
    "print('Fogos de Artifício')\n",
    "print('-='*20)\n",
    "for c in range (10, -1, -1):\n",
    "    print(f'{c}!')\n",
    "    sleep(1)\n",
    "sleep(1)\n",
    "print(\"BUM! BUM! POOW!!!\")\n"
   ]
  },
  {
   "cell_type": "markdown",
   "id": "73b17b29-de35-47b0-812c-956e512389ab",
   "metadata": {},
   "source": [
    "## Desafio 47- Crie um programa que mostre na tela todos os números pares que estão no intervalo entre 1 e 50."
   ]
  },
  {
   "cell_type": "code",
   "execution_count": 10,
   "id": "597e66a4-dca5-43df-b6ce-37ac2d8a0453",
   "metadata": {},
   "outputs": [
    {
     "name": "stdout",
     "output_type": "stream",
     "text": [
      "-=-=-=-=-=-=-=-=-=-=-=-=-=-=-=-=-=-=-=-=\n",
      "Números Pares\n",
      "-=-=-=-=-=-=-=-=-=-=-=-=-=-=-=-=-=-=-=-=\n",
      "2 4 6 8 10 12 14 16 18 20 22 24 26 28 30 32 34 36 38 40 42 44 46 48 50 FIM\n"
     ]
    }
   ],
   "source": [
    "print('-='*20)\n",
    "print('Números Pares')\n",
    "print('-='*20)\n",
    "for c in range(1, 50, 2):\n",
    "    print(c+1, end=' ')\n",
    "print('FIM')"
   ]
  },
  {
   "cell_type": "markdown",
   "id": "e8da0663-ea70-46ac-87fa-fef6ecc4b54a",
   "metadata": {},
   "source": [
    "## Desafio 48- Faça um programa que calcule a soma entre todos os números ímpares que são múltiplos de três e que se encontram no intervalo de 1 até 500."
   ]
  },
  {
   "cell_type": "code",
   "execution_count": 11,
   "id": "8951735a-cf6d-4e98-bd2d-379999cd64bb",
   "metadata": {},
   "outputs": [
    {
     "name": "stdout",
     "output_type": "stream",
     "text": [
      "-=-=-=-=-=-=-=-=-=-=-=-=-=-=-=-=-=-=-=-=\n",
      "Soma de números Ímpares\n",
      "-=-=-=-=-=-=-=-=-=-=-=-=-=-=-=-=-=-=-=-=\n",
      "A soma de todos os 83 valores solicitados é 20667\n"
     ]
    }
   ],
   "source": [
    "print('-='*20)\n",
    "print('Soma de números Ímpares')\n",
    "print('-='*20)\n",
    "soma= 0\n",
    "cont= 0\n",
    "for c in range(1, 501, 2):\n",
    "    if c%3 == 0:\n",
    "        cont = cont + 1\n",
    "        soma+=c\n",
    "print(f'A soma de todos os {cont} valores solicitados é {soma}')"
   ]
  },
  {
   "cell_type": "markdown",
   "id": "b75be01b-0567-4539-b35d-b88526d1b14a",
   "metadata": {},
   "source": [
    "## Desafio 49- Refaça o DESAFIO 009, mostrando a tabuada de um número que o usuário escolher, só que agora utilizando um laço for."
   ]
  },
  {
   "cell_type": "code",
   "execution_count": 12,
   "id": "834a1b43-59a8-477f-99c0-f179a53ef2d4",
   "metadata": {},
   "outputs": [
    {
     "name": "stdin",
     "output_type": "stream",
     "text": [
      "Tabuada do numero:  3\n"
     ]
    },
    {
     "name": "stdout",
     "output_type": "stream",
     "text": [
      "----------\n",
      "3 x 0 = 0\n",
      "3 x 1 = 3\n",
      "3 x 2 = 6\n",
      "3 x 3 = 9\n",
      "3 x 4 = 12\n",
      "3 x 5 = 15\n",
      "3 x 6 = 18\n",
      "3 x 7 = 21\n",
      "3 x 8 = 24\n",
      "3 x 9 = 27\n",
      "3 x 10 = 30\n",
      "----------\n"
     ]
    }
   ],
   "source": [
    "#Desafio 09- Faça um programa que leia um número Inteiro qualquer e mostre na tela a sua tabuada\n",
    "\n",
    "tabuada=int(input(\"Tabuada do numero: \"))\n",
    "print('-'*10)\n",
    "for count in range(0, 11):\n",
    "    print(f'{tabuada} x {count} = {tabuada*count}')\n",
    "print('-'*10)"
   ]
  },
  {
   "cell_type": "markdown",
   "id": "2afd6d89-b807-40c8-8f0f-ffaef84f5371",
   "metadata": {},
   "source": [
    "## Desafio 50- Desenvolva um programa que leia seis números inteiros e mostre a soma apenas daqueles que forem pares. Se o valor digitado for ímpar, desconsidere-o"
   ]
  },
  {
   "cell_type": "code",
   "execution_count": 13,
   "id": "9c07cc9f-cfb4-485e-bffd-342d272b0e23",
   "metadata": {},
   "outputs": [
    {
     "name": "stdin",
     "output_type": "stream",
     "text": [
      "Digite o 1º valor:  3\n",
      "Digite o 2º valor:  5\n",
      "Digite o 3º valor:  6\n",
      "Digite o 4º valor:  4\n",
      "Digite o 5º valor:  5\n",
      "Digite o 6º valor:  8\n"
     ]
    },
    {
     "name": "stdout",
     "output_type": "stream",
     "text": [
      "A soma apenas dos 3 números pares foi: 18\n"
     ]
    }
   ],
   "source": [
    "soma = 0\n",
    "cont = 0\n",
    "for c in range(1,7):\n",
    "    n = int(input(f'Digite o {c}º valor: '))\n",
    "    if n%2 == 0:\n",
    "        soma += n\n",
    "        cont += 1\n",
    "print(f'A soma apenas dos {cont} números pares foi: {soma}')"
   ]
  },
  {
   "cell_type": "markdown",
   "id": "392373a0-3ddb-40a9-a064-05c51551f10e",
   "metadata": {},
   "source": [
    "## Desafio 51- Desenvolva um programa que leia o primeiro termo e a razão de um Progressão Aritmética. No final, mostre os 10 primeiros termos dessa progressão."
   ]
  },
  {
   "cell_type": "code",
   "execution_count": 14,
   "id": "f50220b3-357b-4a09-a5f4-8eab36e68f25",
   "metadata": {},
   "outputs": [
    {
     "name": "stdin",
     "output_type": "stream",
     "text": [
      "Digite o termo:  3\n",
      "Razão:  2\n"
     ]
    },
    {
     "name": "stdout",
     "output_type": "stream",
     "text": [
      "===================================\n",
      "(3-> 5-> 7-> 9-> 11-> 13-> 15-> 17-> 19-> 21-> FIM)"
     ]
    }
   ],
   "source": [
    "#Entrada\n",
    "ter = int(input('Digite o termo: '))\n",
    "ras = int(input('Razão: '))\n",
    "dez = ter + (10 - 1) * ras\n",
    "#condição\n",
    "print('='*35)\n",
    "print('(',end='')\n",
    "for c in range(ter, dez + ras, ras):#Está multiplicado a razão pra da um PA de 10 primeiros\n",
    "    print(f\"{c}\", end='-> ')#Saida\n",
    "print('FIM)',end='')"
   ]
  },
  {
   "cell_type": "markdown",
   "id": "9a037b9b-60c3-4c93-b365-9ed3aa26008d",
   "metadata": {},
   "source": [
    "## Desafio 52- Faça um programa que leia um número inteiro e diga se ele é ou não um número primo."
   ]
  },
  {
   "cell_type": "code",
   "execution_count": 17,
   "id": "40af7417-c2d4-4897-9771-96fbb31149b8",
   "metadata": {},
   "outputs": [
    {
     "name": "stdin",
     "output_type": "stream",
     "text": [
      "Digite um número:  40\n"
     ]
    },
    {
     "name": "stdout",
     "output_type": "stream",
     "text": [
      "\u001b[33m1 \u001b[33m2 \u001b[31m3 \u001b[33m4 \u001b[33m5 \u001b[31m6 \u001b[31m7 \u001b[33m8 \u001b[31m9 \u001b[33m10 \u001b[31m11 \u001b[31m12 \u001b[31m13 \u001b[31m14 \u001b[31m15 \u001b[31m16 \u001b[31m17 \u001b[31m18 \u001b[31m19 \u001b[33m20 \u001b[31m21 \u001b[31m22 \u001b[31m23 \u001b[31m24 \u001b[31m25 \u001b[31m26 \u001b[31m27 \u001b[31m28 \u001b[31m29 \u001b[31m30 \u001b[31m31 \u001b[31m32 \u001b[31m33 \u001b[31m34 \u001b[31m35 \u001b[31m36 \u001b[31m37 \u001b[31m38 \u001b[31m39 \u001b[33m40 \n",
      "O número 40 foi divisível 8 vezes\n",
      "E por isso ele não é PRIMO!\n"
     ]
    }
   ],
   "source": [
    "n = int(input(\"Digite um número: \"))\n",
    "mult=0\n",
    "\n",
    "for count in range(1,n+1):\n",
    "    if n % count == 0:\n",
    "        print('\\033[33m', end='')\n",
    "        mult+= 1\n",
    "    else:\n",
    "        print('\\033[31m', end='')\n",
    "    print (f'{count} ', end='')\n",
    "print(f'\\nO número {n} foi divisível {mult} vezes')\n",
    "if mult == 2:\n",
    "    print('E por isso ele é PRIMO!')\n",
    "else:\n",
    "    print('E por isso ele não é PRIMO!')"
   ]
  },
  {
   "cell_type": "markdown",
   "id": "ac78f70a-8d98-4834-be89-cd43e152e2bd",
   "metadata": {},
   "source": [
    "## Desafio 53- Crie um programa que leia uma frase qualquer e diga se ela é um palíndromo, desconsiderando os espaços."
   ]
  },
  {
   "cell_type": "code",
   "execution_count": 18,
   "id": "6ae2d8c9-13f3-41eb-b301-223a2d6074a7",
   "metadata": {},
   "outputs": [
    {
     "name": "stdin",
     "output_type": "stream",
     "text": [
      "Diga uma frase:  rodrigo trindade souza\n"
     ]
    },
    {
     "name": "stdout",
     "output_type": "stream",
     "text": [
      "O inverso de RODRIGOTRINDADESOUZA é AZUOSEDADNIRTOGIRDOR\n",
      "Não forma um palíndromo\n"
     ]
    }
   ],
   "source": [
    "aux = str(input(\"Diga uma frase: \")).strip().upper()\n",
    "palavras = aux.split()\n",
    "frase = ''.join(palavras)\n",
    "tamanho = len(frase)-1\n",
    "inverso = ''\n",
    "for i in range(tamanho, -1, -1):\n",
    "    inverso += frase[i]\n",
    "\n",
    "print(\"O inverso de {} é {}\".format(frase, inverso))\n",
    "\n",
    "if frase == inverso:\n",
    "    print(\"Forma um palíndromo\")\n",
    "else:\n",
    "    print(\"Não forma um palíndromo\")"
   ]
  },
  {
   "cell_type": "code",
   "execution_count": 19,
   "id": "f5f4651b-e89f-4d82-880c-18b235dcdb44",
   "metadata": {},
   "outputs": [
    {
     "name": "stdin",
     "output_type": "stream",
     "text": [
      "Diga uma frase:  rodrigo trindade souza\n"
     ]
    },
    {
     "name": "stdout",
     "output_type": "stream",
     "text": [
      "O inverso de RODRIGOTRINDADESOUZA é AZUOSEDADNIRTOGIRDOR\n",
      "Não forma um palíndromo\n"
     ]
    }
   ],
   "source": [
    "aux = str(input(\"Diga uma frase: \")).strip().upper()\n",
    "palavras = aux.split()\n",
    "frase = ''.join(palavras)\n",
    "inverso = frase[::-1]\n",
    "\n",
    "print(f\"O inverso de {frase} é {inverso}\")\n",
    "\n",
    "if frase == inverso:\n",
    "    print(\"Forma um palíndromo\")\n",
    "else:\n",
    "    print(\"Não forma um palíndromo\")"
   ]
  },
  {
   "cell_type": "markdown",
   "id": "034ab56c-3f8b-4050-808b-9f1e29e824b8",
   "metadata": {},
   "source": [
    "## Desafio 54- Crie um programa que leia o ano de nascimento de sete pessoas. No final, mostre quantas pessoas ainda não atingiram a maioridade e quantas já são maiores."
   ]
  },
  {
   "cell_type": "code",
   "execution_count": 20,
   "id": "caaf7ad3-6ff1-4be7-ac52-b3be87c43265",
   "metadata": {},
   "outputs": [
    {
     "name": "stdin",
     "output_type": "stream",
     "text": [
      "Em que ano a 1 pessoa nasceu?  1998\n",
      "Em que ano a 2 pessoa nasceu?  2000\n",
      "Em que ano a 3 pessoa nasceu?  2010\n",
      "Em que ano a 4 pessoa nasceu?  1995\n",
      "Em que ano a 5 pessoa nasceu?  1986\n",
      "Em que ano a 6 pessoa nasceu?  1976\n",
      "Em que ano a 7 pessoa nasceu?  1989\n"
     ]
    },
    {
     "name": "stdout",
     "output_type": "stream",
     "text": [
      "O numero de pessoas maiores de idade é: 6.\n",
      "O número de pessoas menores que 18 anos é: 1.\n"
     ]
    }
   ],
   "source": [
    "from datetime import date\n",
    "\n",
    "menores= 0\n",
    "maiores= 0\n",
    "for i in range(1,8):\n",
    "    n= int(input(f'Em que ano a {i} pessoa nasceu? '))\n",
    "    if (date.today().year) - n < 18:\n",
    "        menores += 1\n",
    "    else:\n",
    "        maiores += 1\n",
    "print(f'O numero de pessoas maiores de idade é: {maiores}.')\n",
    "print(f'O número de pessoas menores que 18 anos é: {menores}.')"
   ]
  },
  {
   "cell_type": "markdown",
   "id": "5ae74913-0238-4eb3-a5df-4b99ad6f6f3c",
   "metadata": {},
   "source": [
    "## Desafio 55- Faça um programa que leia o peso de cinco pessoas. No final, mostre qual foi o maior e o menor peso lidos."
   ]
  },
  {
   "cell_type": "code",
   "execution_count": 21,
   "id": "e669fdf8-8ff3-4380-a2f3-2f8f31a7f50c",
   "metadata": {},
   "outputs": [
    {
     "name": "stdin",
     "output_type": "stream",
     "text": [
      "Peso da 1ª pessoa:  78\n",
      "Peso da 2ª pessoa:  89\n",
      "Peso da 3ª pessoa:  50\n",
      "Peso da 4ª pessoa:  66\n",
      "Peso da 5ª pessoa:  77\n"
     ]
    },
    {
     "name": "stdout",
     "output_type": "stream",
     "text": [
      "O menor peso da lista é: 50.0 kg\n",
      "O menor peso da lista é: 89.0 kg\n"
     ]
    }
   ],
   "source": [
    "lista = []\n",
    "for i in range(1,6):\n",
    "    n = float(input(f'Peso da {i}ª pessoa: '))\n",
    "    lista.append(n)\n",
    "lista = sorted(lista)\n",
    "print(f'O menor peso da lista é: {lista[0]} kg')\n",
    "print(f'O menor peso da lista é: {lista[-1]} kg')"
   ]
  },
  {
   "cell_type": "markdown",
   "id": "25fc164d-a290-41b6-a6db-0a8c1b725c05",
   "metadata": {},
   "source": [
    "## Desafio 56- Desenvolva um programa que leia o nome, idade e sexo de 4 pessoas. No final do programa, mostre:\n",
    "##### - A média de idade do grupo.\n",
    "##### - Qual é o nome do homem mais velho.\n",
    "##### - Quantas mulheres têm menos de 20 anos."
   ]
  },
  {
   "cell_type": "code",
   "execution_count": 23,
   "id": "1abfc45e-0eff-4c0f-80cb-500db333a34a",
   "metadata": {},
   "outputs": [
    {
     "name": "stdout",
     "output_type": "stream",
     "text": [
      "----- 1ª PESSOA -----\n"
     ]
    },
    {
     "name": "stdin",
     "output_type": "stream",
     "text": [
      "Nome:  rodrigo\n",
      "Sexo [M/F]:  m\n",
      "Idade:  50\n"
     ]
    },
    {
     "name": "stdout",
     "output_type": "stream",
     "text": [
      "----- 2ª PESSOA -----\n"
     ]
    },
    {
     "name": "stdin",
     "output_type": "stream",
     "text": [
      "Nome:  jorge\n",
      "Sexo [M/F]:  m\n",
      "Idade:  45\n"
     ]
    },
    {
     "name": "stdout",
     "output_type": "stream",
     "text": [
      "----- 3ª PESSOA -----\n"
     ]
    },
    {
     "name": "stdin",
     "output_type": "stream",
     "text": [
      "Nome:  ana\n",
      "Sexo [M/F]:  f\n",
      "Idade:  18\n"
     ]
    },
    {
     "name": "stdout",
     "output_type": "stream",
     "text": [
      "----- 4ª PESSOA -----\n"
     ]
    },
    {
     "name": "stdin",
     "output_type": "stream",
     "text": [
      "Nome:  luiza\n",
      "Sexo [M/F]:  f\n",
      "Idade:  40\n"
     ]
    },
    {
     "name": "stdout",
     "output_type": "stream",
     "text": [
      "-=-=-=-=-=-=-=-=-=-=-=-=-=-=-=-=-=-=-=-=\n",
      "A média de idade do grupo é: 38.25.\n",
      "O nome do homem mais velho é: Rodrigo.\n",
      "1 mulheres possuem menos que 20 anos.\n"
     ]
    }
   ],
   "source": [
    "idade= []\n",
    "mulheres20 = []\n",
    "homens = {}\n",
    "for c in range(1,5):\n",
    "    print(f'----- {c}ª PESSOA -----')\n",
    "    nome = str(input('Nome: ')).strip().capitalize()\n",
    "    sexo = str(input('Sexo [M/F]: ')).strip().capitalize()\n",
    "    idade2 = int(input('Idade: '))\n",
    "    idade.append(idade2)\n",
    "    if idade2 <20 and sexo == 'F':\n",
    "        mulheres20.append(idade2)\n",
    "    elif sexo == 'M':\n",
    "        homens [nome] = idade2\n",
    "homens = {k: v for k, v in sorted(homens.items(), key=lambda item: item[1])}\n",
    "print('-='*20)\n",
    "print(f'A média de idade do grupo é: {(sum(idade)/len(idade))}.')\n",
    "print(f'O nome do homem mais velho é: {sorted(homens)[-1]}.')\n",
    "print(f'{len(mulheres20)} mulheres possuem menos que 20 anos.')\n"
   ]
  }
 ],
 "metadata": {
  "kernelspec": {
   "display_name": "Python 3 (ipykernel)",
   "language": "python",
   "name": "python3"
  },
  "language_info": {
   "codemirror_mode": {
    "name": "ipython",
    "version": 3
   },
   "file_extension": ".py",
   "mimetype": "text/x-python",
   "name": "python",
   "nbconvert_exporter": "python",
   "pygments_lexer": "ipython3",
   "version": "3.9.6"
  }
 },
 "nbformat": 4,
 "nbformat_minor": 5
}
