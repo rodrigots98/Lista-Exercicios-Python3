{
 "cells": [
  {
   "cell_type": "markdown",
   "id": "42547717-c035-470d-beba-d4e551630982",
   "metadata": {},
   "source": [
    "# -----------------------------------------------------------------------------------\n",
    "#  - Aula 16 - Tuplas\n",
    "Nessa aula, vamos aprender o que são TUPLAS e como utilizar tuplas em Python. As tuplas são variáveis compostas e imutáveis que permitem armazenar vários valores em uma mesma estrutura, acessíveis por chaves individuais."
   ]
  },
  {
   "cell_type": "code",
   "execution_count": 1,
   "id": "d998ad18-7d61-4736-96a7-1fadfa81cb3f",
   "metadata": {},
   "outputs": [
    {
     "name": "stdout",
     "output_type": "stream",
     "text": [
      "Hambúrguer\n",
      "Pudim\n",
      "('Sucos', 'Pizza')\n",
      "('Pizza', 'Pudim', 'Batata Frita')\n",
      "('Hambúrguer', 'Sucos')\n",
      "('Pizza', 'Pudim', 'Batata Frita')\n",
      "-=-=-=-=-=-=-=-=-=-=-=-=-=-=-=-=-=-=-=-=\n",
      "Eu vou comer Hambúrguer\n",
      "Eu vou comer Sucos\n",
      "Eu vou comer Pizza\n",
      "Eu vou comer Pudim\n",
      "Eu vou comer Batata Frita\n",
      "Comi pra caramba!\n",
      "-=-=-=-=-=-=-=-=-=-=-=-=-=-=-=-=-=-=-=-=\n",
      "5\n",
      "-=-=-=-=-=-=-=-=-=-=-=-=-=-=-=-=-=-=-=-=\n",
      "Hambúrguer\n",
      "Sucos\n",
      "Pizza\n",
      "Pudim\n",
      "Batata Frita\n",
      "-=-=-=-=-=-=-=-=-=-=-=-=-=-=-=-=-=-=-=-=\n",
      "Eu vou comer Hambúrguer na posição 0\n",
      "Eu vou comer Sucos na posição 1\n",
      "Eu vou comer Pizza na posição 2\n",
      "Eu vou comer Pudim na posição 3\n",
      "Eu vou comer Batata Frita na posição 4\n",
      "-=-=-=-=-=-=-=-=-=-=-=-=-=-=-=-=-=-=-=-=\n",
      "['Batata Frita', 'Hambúrguer', 'Pizza', 'Pudim', 'Sucos']\n"
     ]
    }
   ],
   "source": [
    "lanche = ('Hambúrguer', 'Sucos', 'Pizza', 'Pudim', 'Batata Frita')\n",
    "print(lanche[0])\n",
    "print(lanche[-2])\n",
    "print(lanche[1:3])\n",
    "print(lanche[2:])\n",
    "print(lanche[:2])\n",
    "print(lanche[-3:])\n",
    "#Tuplas são imutáveis\n",
    "# lanche[1] = 'Refrigerante'\n",
    "print('-='*20)\n",
    "\n",
    "for comida in lanche:\n",
    "    print(f'Eu vou comer {comida}')\n",
    "print('Comi pra caramba!')\n",
    "\n",
    "print('-='*20)\n",
    "print(len(lanche))\n",
    "print('-='*20)\n",
    "\n",
    "for cont in range(0, len(lanche)):\n",
    "    print(lanche[cont])\n",
    "print('-='*20)\n",
    "\n",
    "for pos, comida in enumerate (lanche):\n",
    "    print(f'Eu vou comer {comida} na posição {pos}')\n",
    "print('-='*20)\n",
    "\n",
    "print(sorted(lanche))"
   ]
  },
  {
   "cell_type": "code",
   "execution_count": 2,
   "id": "f2f6bf2d-d310-44cf-8bb9-517995488067",
   "metadata": {},
   "outputs": [
    {
     "name": "stdout",
     "output_type": "stream",
     "text": [
      "(2, 5, 4, 5, 8, 1, 2)\n",
      "7\n",
      "2\n",
      "4\n",
      "1\n"
     ]
    }
   ],
   "source": [
    "a = (2, 5, 4)\n",
    "b = (5, 8 , 1 , 2)\n",
    "c = a + b\n",
    "print(c)\n",
    "print(len(c))\n",
    "print(c.count(5)) #contagem de numeros 5\n",
    "print(c.index(8))  #posição do número 8\n",
    "print(c.index(5, 1)) #posição do 5 apartir da posição 1"
   ]
  },
  {
   "cell_type": "code",
   "execution_count": 3,
   "id": "3d1e9f2f-fb4e-4d7b-a06b-e3622d2111a5",
   "metadata": {},
   "outputs": [
    {
     "name": "stdout",
     "output_type": "stream",
     "text": [
      "('Gustavo', 39, 'M', 99, 98)\n"
     ]
    },
    {
     "ename": "NameError",
     "evalue": "name 'pessoa' is not defined",
     "output_type": "error",
     "traceback": [
      "\u001b[1;31m---------------------------------------------------------------------------\u001b[0m",
      "\u001b[1;31mNameError\u001b[0m                                 Traceback (most recent call last)",
      "\u001b[1;32m~\\AppData\\Local\\Temp/ipykernel_10036/1888738890.py\u001b[0m in \u001b[0;36m<module>\u001b[1;34m\u001b[0m\n\u001b[0;32m      2\u001b[0m \u001b[0mprint\u001b[0m\u001b[1;33m(\u001b[0m\u001b[0mpessoa\u001b[0m\u001b[1;33m)\u001b[0m\u001b[1;33m\u001b[0m\u001b[1;33m\u001b[0m\u001b[0m\n\u001b[0;32m      3\u001b[0m \u001b[1;32mdel\u001b[0m \u001b[1;33m(\u001b[0m\u001b[0mpessoa\u001b[0m\u001b[1;33m)\u001b[0m\u001b[1;33m\u001b[0m\u001b[1;33m\u001b[0m\u001b[0m\n\u001b[1;32m----> 4\u001b[1;33m \u001b[0mprint\u001b[0m\u001b[1;33m(\u001b[0m\u001b[0mpessoa\u001b[0m\u001b[1;33m)\u001b[0m\u001b[1;33m\u001b[0m\u001b[1;33m\u001b[0m\u001b[0m\n\u001b[0m",
      "\u001b[1;31mNameError\u001b[0m: name 'pessoa' is not defined"
     ]
    }
   ],
   "source": [
    "pessoa = ('Gustavo', 39, 'M', 99,98)\n",
    "print(pessoa)\n",
    "del (pessoa)\n",
    "print(pessoa)"
   ]
  },
  {
   "cell_type": "markdown",
   "id": "15f4aada-1024-472a-bc92-b50881dd13c1",
   "metadata": {},
   "source": [
    "## Desafio 72: Crie um programa que tenha uma dupla totalmente preenchida com uma contagem por extenso, de zero até vinte. Seu programa deverá ler um número pelo teclado (entre 0 e 20) e mostrá-lo por extenso."
   ]
  },
  {
   "cell_type": "code",
   "execution_count": 5,
   "id": "b27f4568-a84c-4769-af82-dbf572b2131d",
   "metadata": {},
   "outputs": [
    {
     "name": "stdin",
     "output_type": "stream",
     "text": [
      "Digite um numero de 0 a 20:  4\n"
     ]
    },
    {
     "name": "stdout",
     "output_type": "stream",
     "text": [
      "Você digitou o numero quatro!\n"
     ]
    }
   ],
   "source": [
    "extensos = ('zero', 'um', 'dois', 'três','quatro', 'cinco', 'seis', 'sete', 'oito','nove','dez',\n",
    "            'onze', 'doze', 'treze', 'quatorze','quinze', 'dezesseis', 'dezessete', 'dezoito', 'dezenove', 'vinte')\n",
    "numero = int(input('Digite um numero de 0 a 20: '))\n",
    "while numero not in range(0,21):\n",
    "\tnumero = int(input('Tente novamente.Digite um numero de 0 a 20: '))\n",
    "print(f'Você digitou o numero {extensos[numero]}!')"
   ]
  },
  {
   "cell_type": "markdown",
   "id": "0cdc8d91-c9cd-4356-a8fb-4483991e2f62",
   "metadata": {},
   "source": [
    "## Desafio 73: Crie uma tupla preenchida com os 20 primeiros colocados da Tabela do Campeonato Brasileiro de Futebol, na ordem de colocação. Depois mostre:\n",
    "a) Os 5 primeiros times.\n",
    "b) Os últimos 4 colocados.\n",
    "c) Times em ordem alfabética. \n",
    "d) Em que posição está o time da Chapecoense."
   ]
  },
  {
   "cell_type": "code",
   "execution_count": null,
   "id": "4d3bea54-c549-4d80-bb3f-a9abc9279782",
   "metadata": {},
   "outputs": [
    {
     "name": "stdout",
     "output_type": "stream",
     "text": [
      "-=-=-=-=-=-=-=-=-=-=-=-=-=-=-=-=-=-=-=-=\n",
      "Lista de times do Brasileirão: ('Atlético-MG', 'Palmeiras', 'Fortaleza', 'Red Bull Bragantino', 'Flamengo', 'Corinthians', 'Athletico', 'Fluminense', 'Atlético-GO', 'Ceará', 'Cuiabá', 'Internacional', 'Juventude', 'Santos', 'São Paulo', 'Bahia', 'América-MG', 'Sport', 'Grêmio', 'Chapecoense')\n",
      "-=-=-=-=-=-=-=-=-=-=-=-=-=-=-=-=-=-=-=-=\n",
      "Os 4 primeiros são ('Atlético-MG', 'Palmeiras', 'Fortaleza', 'Red Bull Bragantino', 'Flamengo')\n",
      "-=-=-=-=-=-=-=-=-=-=-=-=-=-=-=-=-=-=-=-=\n",
      "Os 4 últimos são ('América-MG', 'Sport', 'Grêmio', 'Chapecoense')\n",
      "-=-=-=-=-=-=-=-=-=-=-=-=-=-=-=-=-=-=-=-=\n",
      "Times em ordem alfabética: ['América-MG', 'Athletico', 'Atlético-GO', 'Atlético-MG', 'Bahia', 'Ceará', 'Chapecoense', 'Corinthians', 'Cuiabá', 'Flamengo', 'Fluminense', 'Fortaleza', 'Grêmio', 'Internacional', 'Juventude', 'Palmeiras', 'Red Bull Bragantino', 'Santos', 'Sport', 'São Paulo']\n",
      "Posição do time Chapecoense: 20\n"
     ]
    }
   ],
   "source": [
    "top20 = ('Atlético-MG', 'Palmeiras','Fortaleza','Red Bull Bragantino','Flamengo','Corinthians','Athletico','Fluminense',\n",
    "         'Atlético-GO','Ceará','Cuiabá','Internacional','Juventude','Santos','São Paulo','Bahia',\n",
    "         'América-MG','Sport','Grêmio','Chapecoense')\n",
    "print('-='*20)\n",
    "print(f'Lista de times do Brasileirão: {top20}')\n",
    "print('-='*20)\n",
    "print(f'Os 4 primeiros são {top20[:5]}')\n",
    "print('-='*20)\n",
    "print(f'Os 4 últimos são {top20[-4:]}')\n",
    "print('-='*20)\n",
    "print(f'Times em ordem alfabética: {sorted(top20)}')\n",
    "print(f'Posição do time Chapecoense: {top20.index(\"Chapecoense\")+1}')"
   ]
  },
  {
   "cell_type": "markdown",
   "id": "e5371493-3fa9-4449-82e8-e64ca3be8253",
   "metadata": {},
   "source": [
    "## Desafio 74: Crie um programa que vai gerar cinco números aleatórios e colocar em uma tupla. Depois disso, mostre a listagem de números gerados e também indique o menor e o maior valor que estão na tupla."
   ]
  },
  {
   "cell_type": "code",
   "execution_count": 7,
   "id": "f1a90c4c-15e2-4d1e-ba5a-1162b0a43a5c",
   "metadata": {},
   "outputs": [
    {
     "name": "stdout",
     "output_type": "stream",
     "text": [
      "Os valores sorteados foram: (1, 3, 4, 9, 6)\n",
      "O maior valor sorteado foi 9\n",
      "O menor valor sorteado foi 1\n"
     ]
    }
   ],
   "source": [
    "from random import randint\n",
    "\n",
    "tupla = tuple(randint(1, 10) for i in range(5))\n",
    "print(f'Os valores sorteados foram: {tupla}')\n",
    "print(f'O maior valor sorteado foi {sorted(tupla)[-1]}')\n",
    "print(f'O menor valor sorteado foi {sorted(tupla)[0]}')"
   ]
  },
  {
   "cell_type": "code",
   "execution_count": 8,
   "id": "c37d1167-6c3e-4852-8ee2-7f8d41eb045e",
   "metadata": {},
   "outputs": [
    {
     "name": "stdout",
     "output_type": "stream",
     "text": [
      "Os valores sorteados foram: 5 3 7 8 3 \n",
      "O maior valor sorteado foi 8\n",
      "O menor valor sorteado foi 3\n"
     ]
    }
   ],
   "source": [
    "from random import randint\n",
    "\n",
    "tupla = (randint(1, 10), randint(1, 10), randint(1, 10), randint(1, 10), randint(1, 10))\n",
    "print(f'Os valores sorteados foram: ',end = '')\n",
    "for n in tupla:\n",
    "    print(f'{n} ', end='')\n",
    "print(f'\\nO maior valor sorteado foi {max(tupla)}')\n",
    "print(f'O menor valor sorteado foi {min(tupla)}')"
   ]
  },
  {
   "cell_type": "markdown",
   "id": "249e1248-408f-47a8-a69e-212ab7057007",
   "metadata": {},
   "source": [
    "## Desafio 75: Desenvolva um programa que leia quatro valores pelo teclado e guarde-os em uma tupla. No final, mostre:\n",
    "\n",
    "A) Quantas vezes apareceu o valor 9.\n",
    "B) Em que posição foi digitado o primeiro valor 3.\n",
    "C) Quais foram os números pares."
   ]
  },
  {
   "cell_type": "code",
   "execution_count": 9,
   "id": "727c2772-9f32-4fea-be78-61f41913dbe9",
   "metadata": {},
   "outputs": [
    {
     "name": "stdin",
     "output_type": "stream",
     "text": [
      "Digite um valor:  4\n",
      "Digite um valor:  5\n",
      "Digite um valor:  8\n",
      "Digite um valor:  5\n"
     ]
    },
    {
     "name": "stdout",
     "output_type": "stream",
     "text": [
      "O numero nove aparece 0 vezes\n",
      "Não foi digitado valor 3\n",
      "Valores pares digitados foram {8, 4} "
     ]
    }
   ],
   "source": [
    "valores = tuple(int(input('Digite um valor: ')) for i in range(1, 5))\n",
    "print(f'O numero nove aparece {valores.count(9)} vezes')\n",
    "print(f'Valor 3 foi digitado pela primeira vez na {valores.index(3)+1}º posição' if 3 in valores else 'Não foi digitado valor 3')\n",
    "print('Valores pares digitados foram', end=' ')\n",
    "print({n for n in valores if n % 2 == 0}, end=' ')"
   ]
  },
  {
   "cell_type": "code",
   "execution_count": null,
   "id": "17bb0e1a-c084-4475-b733-c6189f19abab",
   "metadata": {},
   "outputs": [
    {
     "name": "stdin",
     "output_type": "stream",
     "text": [
      "Digite um valor:  3\n",
      "Digite um valor:  6\n",
      "Digite um valor:  8\n",
      "Digite um valor:  5\n"
     ]
    },
    {
     "name": "stdout",
     "output_type": "stream",
     "text": [
      "O numero nove aparece 0 vezes\n",
      "Valor 3 foi digitado pela primeira vez na 1º posição\n",
      "Valores pares digitados foram 6 8 "
     ]
    }
   ],
   "source": [
    "valores = tuple(int(input('Digite um valor: ')) for i in range(1, 5))\n",
    "print(f'O numero nove aparece {valores.count(9)} vezes') \n",
    "if 3 in valores:\n",
    "    print(f'Valor 3 foi digitado pela primeira vez na {valores.index(3)+1}º posição') \n",
    "else:\n",
    "    print('Não foi digitado valor 3')\n",
    "print('Valores pares digitados foram', end=' ')\n",
    "for n in valores:\n",
    "    if n % 2 ==0:\n",
    "        print(n, end= ' ')"
   ]
  },
  {
   "cell_type": "markdown",
   "id": "85460614-edb8-410a-839d-9cdb4f93290c",
   "metadata": {},
   "source": [
    "## Desafio 76: Crie um programa que tenha uma tupla única com nomes de produtos e seus respectivos preços, na sequência. No final, mostre uma listagem de preços, organizando os dados em forma tabular."
   ]
  },
  {
   "cell_type": "code",
   "execution_count": 11,
   "id": "e8f1bde0-2474-46bf-bc5c-0a24c719fdd1",
   "metadata": {},
   "outputs": [
    {
     "name": "stdout",
     "output_type": "stream",
     "text": [
      "==================================================\n",
      "                LISTAGEM DE PREÇOS                \n",
      "==================================================\n",
      "Lápis...................................  R$    1.75\n",
      "Borracha................................  R$    2.00\n",
      "Caderno.................................  R$   15.90\n",
      "Estojo..................................  R$   25.00\n",
      "Transferidor............................  R$    4.20\n",
      "Compasso................................  R$    9.99\n",
      "Mochila.................................  R$  120.32\n",
      "Canetas.................................  R$   22.30\n",
      "Livro...................................  R$   34.90\n",
      "==================================================\n"
     ]
    }
   ],
   "source": [
    "produtos = (\"Lápis\", 1.75, \"Borracha\", 2.00, \"Caderno\", 15.90, \"Estojo\", 25.00, \"Transferidor\", 4.20,\n",
    "            \"Compasso\", 9.99, \"Mochila\", 120.32, \"Canetas\", 22.30, \"Livro\", 34.90)\n",
    "\n",
    "print(\"=\"*50)\n",
    "print(\"{:^50}\".format(\"LISTAGEM DE PREÇOS\"))\n",
    "print(\"=\"*50)\n",
    "\n",
    "for c in range(0, len(produtos), 2):\n",
    "    print(f\"{produtos[c]:.<40}\", f\" R$ {produtos[c+1]:>7.2f}\")\n",
    "\n",
    "print(\"=\"*50)"
   ]
  },
  {
   "cell_type": "markdown",
   "id": "ef284e43-a4aa-4174-a456-beb23fe951c9",
   "metadata": {},
   "source": [
    "## Desafio 77: Crie um programa que tenha uma tupla com várias palavras (não usar acentos). Depois disso, você deve mostrar, para cada palavra, quais são as suas vogais.\n"
   ]
  },
  {
   "cell_type": "code",
   "execution_count": 12,
   "id": "c811ff1f-21de-4769-8119-8f22be03b1fc",
   "metadata": {},
   "outputs": [
    {
     "name": "stdout",
     "output_type": "stream",
     "text": [
      "Galadriel: ['a', 'a', 'i', 'e'] - 4 vogais\n",
      "Luthien tinuviel: ['u', 'i', 'e', 'i', 'u', 'i', 'e'] - 7 vogais\n",
      "Erik killmonger: ['e', 'i', 'i', 'o', 'e'] - 5 vogais\n",
      "Kendrick lamar: ['e', 'i', 'a', 'a'] - 4 vogais\n",
      "Charlotte galves: ['a', 'o', 'e', 'a', 'e'] - 5 vogais\n",
      "Roberta pires: ['o', 'e', 'a', 'i', 'e'] - 5 vogais\n",
      "Amanda: ['a', 'a', 'a'] - 3 vogais\n"
     ]
    }
   ],
   "source": [
    "tupla = (\n",
    "    \"Galadriel\", \"Luthien Tinuviel\", \"Erik Killmonger\", \n",
    "    \"Kendrick Lamar\", \"Charlotte Galves\", \"Roberta Pires\", \"Amanda\"\n",
    "    )\n",
    "\n",
    "vogais = [\"a\", \"e\", \"i\", \"o\", \"u\"]\n",
    "\n",
    "for nome in tupla:\n",
    "    nome = str(nome).lower()\n",
    "    lista = []\n",
    "\n",
    "    for letra in nome:\n",
    "        for i in vogais:\n",
    "            if letra == i:\n",
    "                lista.append(letra)\n",
    "\n",
    "    print(f\"{nome.capitalize()}: {lista} - {len(lista)} vogais\")\n",
    "    del(lista)"
   ]
  },
  {
   "cell_type": "code",
   "execution_count": 13,
   "id": "51ad9d62-70f5-496a-8612-1e3c7114264f",
   "metadata": {},
   "outputs": [
    {
     "name": "stdout",
     "output_type": "stream",
     "text": [
      "\n",
      "Na palavra GALADRIEL temos a a i e \n",
      "Na palavra LUTHIEN TINUVIEL temos u i e i u i e \n",
      "Na palavra ERIK KILLMONGER temos E i i o e \n",
      "Na palavra KENDRICK LAMAR temos e i a a \n",
      "Na palavra CHARLOTTE GALVES temos a o e a e \n",
      "Na palavra ROBERTA PIRES temos o e a i e \n",
      "Na palavra AMANDA temos A a a "
     ]
    }
   ],
   "source": [
    "palavras = (\n",
    "    \"Galadriel\", \"Luthien Tinuviel\", \"Erik Killmonger\", \n",
    "    \"Kendrick Lamar\", \"Charlotte Galves\", \"Roberta Pires\", \"Amanda\"\n",
    "    )\n",
    "\n",
    "for p in palavras:\n",
    "    print(f'\\nNa palavra {p.upper()} temos ', end='')\n",
    "    for letra in p:\n",
    "        if letra.lower() in 'aeiou':\n",
    "            print(letra, end= ' ')"
   ]
  }
 ],
 "metadata": {
  "kernelspec": {
   "display_name": "Python 3 (ipykernel)",
   "language": "python",
   "name": "python3"
  },
  "language_info": {
   "codemirror_mode": {
    "name": "ipython",
    "version": 3
   },
   "file_extension": ".py",
   "mimetype": "text/x-python",
   "name": "python",
   "nbconvert_exporter": "python",
   "pygments_lexer": "ipython3",
   "version": "3.9.6"
  }
 },
 "nbformat": 4,
 "nbformat_minor": 5
}
