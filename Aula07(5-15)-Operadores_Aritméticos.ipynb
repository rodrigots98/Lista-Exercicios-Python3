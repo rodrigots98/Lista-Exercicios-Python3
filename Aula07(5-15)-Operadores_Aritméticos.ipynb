{
 "cells": [
  {
   "cell_type": "markdown",
   "id": "02da7432-6aec-431d-95b1-aa173a865886",
   "metadata": {},
   "source": [
    "## Aula 07 - Operadores Aritméticos"
   ]
  },
  {
   "cell_type": "code",
   "execution_count": 2,
   "id": "36b1ddcf-9e4e-4da0-8797-664eaf0aa270",
   "metadata": {},
   "outputs": [],
   "source": [
    "# + adição\n",
    "# - subtração\n",
    "# * multiplicação\n",
    "# / divisão\n",
    "\n",
    "# ** potência\n",
    "# // divisão inteira\n",
    "# % Resto da divisão\n",
    "\n",
    "# 5+2 == 7\n",
    "# 5-2 == 3\n",
    "# 5*2 == 10\n",
    "# 5/2 == 2.5\n",
    "\n",
    "# 5**2 == 25\n",
    "# 5//2 == 2\n",
    "# 5%2 == 1\n",
    "\n",
    "# Ordem de Precedência\n",
    "# 1 ()\n",
    "# 2 **\n",
    "# 3 * / // %\n",
    "# 4 + - \n"
   ]
  },
  {
   "cell_type": "markdown",
   "id": "c242f06c-7b72-4619-bb6d-717e326716d1",
   "metadata": {},
   "source": [
    "# Aula 07a - Operadores Aritméticos\n"
   ]
  },
  {
   "cell_type": "code",
   "execution_count": 3,
   "id": "458210f8-918f-49bc-bf74-8764a819d840",
   "metadata": {},
   "outputs": [
    {
     "name": "stdout",
     "output_type": "stream",
     "text": [
      "64\n",
      "64\n",
      "5.026525695313479\n",
      "Oi Oi Oi Oi Oi \n",
      "====================\n"
     ]
    },
    {
     "name": "stdin",
     "output_type": "stream",
     "text": [
      "Qual é seu nome?  Rodrigo\n"
     ]
    },
    {
     "name": "stdout",
     "output_type": "stream",
     "text": [
      "Prazer em te conhecer Rodrigo             !\n",
      "Prazer em te conhecer              Rodrigo!\n",
      "Prazer em te conhecer       Rodrigo       !\n",
      "Prazer em te conhecer ======Rodrigo=======!\n"
     ]
    }
   ],
   "source": [
    "print(4**3)\n",
    "print(pow(4,3))\n",
    "print(127**(1/3))\n",
    "print('Oi '*5)\n",
    "print('===='*5)\n",
    "\n",
    "nome = input('Qual é seu nome? ')\n",
    "print(f'Prazer em te conhecer {nome:20}!')\n",
    "print(f'Prazer em te conhecer {nome:>20}!')\n",
    "print(f'Prazer em te conhecer {nome:^20}!')\n",
    "print(f'Prazer em te conhecer {nome:=^20}!')"
   ]
  },
  {
   "cell_type": "code",
   "execution_count": 5,
   "id": "afda5cba-c981-44cb-8427-f3cb628e860b",
   "metadata": {},
   "outputs": [
    {
     "name": "stdin",
     "output_type": "stream",
     "text": [
      "Um valor:  3\n",
      "Outro valor:  4\n"
     ]
    },
    {
     "name": "stdout",
     "output_type": "stream",
     "text": [
      "A soma vale 7\n",
      "A soma é 7,\n",
      "o produto é 12, e a \n",
      "divisão é 0.750 A divisão inteira é 0 e potência 81\n"
     ]
    }
   ],
   "source": [
    "n1 = int(input('Um valor: '))\n",
    "n2 = int(input('Outro valor: '))\n",
    "s = n1+n2\n",
    "m = n1*n2\n",
    "d = n1/n2\n",
    "di = n1//n2\n",
    "e = n1**n2\n",
    "print (f'A soma vale {n1+n2}')\n",
    "print (f'A soma é {s},\\no produto é {m}, e a \\ndivisão é {d:.3f}', end = ' ')\n",
    "print (f'A divisão inteira é {di} e potência {e}')"
   ]
  },
  {
   "cell_type": "markdown",
   "id": "fca834c7-0d12-4e71-b45c-0347fb4ddd21",
   "metadata": {},
   "source": [
    "## Desafio 05- Faça um programa que leia um número inteiro e mostre na tela o seu sucessor e seu antecessor"
   ]
  },
  {
   "cell_type": "code",
   "execution_count": 6,
   "id": "a6955d5d-8b64-4a0f-b458-3c821eda09c6",
   "metadata": {},
   "outputs": [
    {
     "name": "stdin",
     "output_type": "stream",
     "text": [
      "Digite um número:  3\n"
     ]
    },
    {
     "name": "stdout",
     "output_type": "stream",
     "text": [
      "Analisando o número 3, o seu sucessor é 4 e seu antecessor é 2\n",
      "Analisando o número 3, o seu sucessor é 4 e seu antecessor é 2\n"
     ]
    }
   ],
   "source": [
    "n = int(input('Digite um número: '))\n",
    "nsuc = n +1\n",
    "nant = n - 1\n",
    "print(f'Analisando o número {n}, o seu sucessor é {nsuc} e seu antecessor é {nant}')\n",
    "print(f'Analisando o número {n}, o seu sucessor é {n+1} e seu antecessor é {n-1}')"
   ]
  },
  {
   "cell_type": "markdown",
   "id": "afa23613-b3a8-4dc7-a6b8-a955d5d96604",
   "metadata": {},
   "source": [
    "## Desafio 06- Crie um algoritmo que leia um número e mostre o seu dobro, triplo e raiz quadrada"
   ]
  },
  {
   "cell_type": "code",
   "execution_count": 7,
   "id": "2085676b-1e3e-4342-8a39-359708418876",
   "metadata": {},
   "outputs": [
    {
     "name": "stdin",
     "output_type": "stream",
     "text": [
      "Digite um número:  3\n"
     ]
    },
    {
     "name": "stdout",
     "output_type": "stream",
     "text": [
      "O número é 3, seu dobro 6, seu triplo 9 e sua raíz quadrada 1.7320508075688772.\n",
      "O número é 3, seu dobro vale 6. \n",
      "Seu triplo 9 e sua raíz quadrada 1.73\n"
     ]
    }
   ],
   "source": [
    "n = int(input('Digite um número: '))\n",
    "dobro = n*2\n",
    "triplo = n*3\n",
    "raiz = n**0.5\n",
    "print(f'O número é {n}, seu dobro {dobro}, seu triplo {triplo} e sua raíz quadrada {raiz}.')\n",
    "print(f'O número é {n}, seu dobro vale {n*2}. \\nSeu triplo {n*3} e sua raíz quadrada {n**0.5:.2f}')"
   ]
  },
  {
   "cell_type": "markdown",
   "id": "bfadb2b3-92f3-4cbe-8c12-364e00a7317d",
   "metadata": {},
   "source": [
    "## Desafio 07- Desenvolva um programa que leia as duas notas de um aluno , calcule e mostre a sua média"
   ]
  },
  {
   "cell_type": "code",
   "execution_count": 8,
   "id": "a2309123-4257-4d38-9767-308ca32209e7",
   "metadata": {},
   "outputs": [
    {
     "name": "stdin",
     "output_type": "stream",
     "text": [
      "Digite o nome do aluno:  Rodrigo\n",
      "Digite a primeira nota:  9\n",
      "Digite a segunda nota:  5\n"
     ]
    },
    {
     "name": "stdout",
     "output_type": "stream",
     "text": [
      "A nota média do aluno Rodrigo foi 7.0!\n"
     ]
    }
   ],
   "source": [
    "nome = str(input('Digite o nome do aluno: '))\n",
    "n1 = float(input('Digite a primeira nota: '))\n",
    "n2 = float(input('Digite a segunda nota: '))\n",
    "media = (n1+n2)/2\n",
    "print(f'A nota média do aluno {nome} foi {media:.1f}!')"
   ]
  },
  {
   "cell_type": "markdown",
   "id": "02866c5f-66b6-4632-b307-253b6a4d3b90",
   "metadata": {},
   "source": [
    "## Desafio 08- Escreva um programa que leia um valor em metros e o exiba convertido em centímetros e milímetros"
   ]
  },
  {
   "cell_type": "code",
   "execution_count": 9,
   "id": "e1b06b98-61ec-45d7-afaa-839f8bea4f92",
   "metadata": {},
   "outputs": [
    {
     "name": "stdin",
     "output_type": "stream",
     "text": [
      "Digite a distância:  20\n"
     ]
    },
    {
     "name": "stdout",
     "output_type": "stream",
     "text": [
      "A medida de 20.0m corresponde a 2000cm e 20000 mm\n"
     ]
    }
   ],
   "source": [
    "dist = float(input('Digite a distância: '))\n",
    "cm = dist*100\n",
    "mm = dist*1000\n",
    "print(f'A medida de {dist}m corresponde a {cm:.0f}cm e {mm:.0f} mm')"
   ]
  },
  {
   "cell_type": "markdown",
   "id": "68a770c6-7f27-4efe-8fa9-b516a67f2668",
   "metadata": {},
   "source": [
    "## Desafio 09- Faça um programa que leia um número Inteiro qualquer e mostre na tela a sua tabuada"
   ]
  },
  {
   "cell_type": "code",
   "execution_count": 10,
   "id": "20833092-d56d-4728-8f5b-e6098e1e517c",
   "metadata": {},
   "outputs": [
    {
     "name": "stdin",
     "output_type": "stream",
     "text": [
      "Tabuada do numero:  3\n"
     ]
    },
    {
     "name": "stdout",
     "output_type": "stream",
     "text": [
      "----------\n",
      "3 x 0 = 0\n",
      "3 x 1 = 3\n",
      "3 x 2 = 6\n",
      "3 x 3 = 9\n",
      "3 x 4 = 12\n",
      "3 x 5 = 15\n",
      "3 x 6 = 18\n",
      "3 x 7 = 21\n",
      "3 x 8 = 24\n",
      "3 x 9 = 27\n",
      "3 x 10 = 30\n",
      "----------\n"
     ]
    }
   ],
   "source": [
    "tabuada=int(input(\"Tabuada do numero: \"))\n",
    "print('-'*10)\n",
    "for count in range(11):\n",
    "    print(f'{tabuada} x {count} = {tabuada*count}')\n",
    "    count=+1\n",
    "print('-'*10)"
   ]
  },
  {
   "cell_type": "markdown",
   "id": "90284f73-ac36-4c49-bb5d-e4362c4ad692",
   "metadata": {},
   "source": [
    "## Desafio 10- Crie um programa que leia quanto dinheiro uma pessoa tem na carteira e mostre quantos Dólares ela pode comprar.\n",
    "Considerar US$ 1.00 = R$ 3.27"
   ]
  },
  {
   "cell_type": "code",
   "execution_count": 11,
   "id": "d5034361-dd8e-440c-affb-6b72b6fb45da",
   "metadata": {},
   "outputs": [
    {
     "name": "stdin",
     "output_type": "stream",
     "text": [
      "Digite o valor na carteira: R$ 20\n"
     ]
    },
    {
     "name": "stdout",
     "output_type": "stream",
     "text": [
      "Com R$20.00 é possível comprar US$6.12!!!\n"
     ]
    }
   ],
   "source": [
    "carteira = float(input('Digite o valor na carteira: R$'))\n",
    "dolar = carteira/3.27\n",
    "print(f'Com R${carteira:.2f} é possível comprar US${dolar:.2f}!!!')"
   ]
  },
  {
   "cell_type": "markdown",
   "id": "1d91898f-1ba3-4354-ab4b-1180cb8df6d1",
   "metadata": {},
   "source": [
    "## Desafio 11- Faça um programa que leia a largura e a altura de uma parede em metros, calcule sua área e a quantidade de tinta necessária para pintá-la, sabendo que cada litro de tinta, pinta uma área de 2m²"
   ]
  },
  {
   "cell_type": "code",
   "execution_count": 12,
   "id": "e31a6c3d-bf60-4314-913d-0dca90fbd7e9",
   "metadata": {},
   "outputs": [
    {
     "name": "stdin",
     "output_type": "stream",
     "text": [
      "Digite a largura da parede:  20\n",
      "Digite a altura da parede:  10\n"
     ]
    },
    {
     "name": "stdout",
     "output_type": "stream",
     "text": [
      "Uma parede com 10.0m de altura e uma largura de 20.0m, possui 200.0m² de área,sendo necessário adquirir 100.0L de tinta\n"
     ]
    }
   ],
   "source": [
    "width = float(input('Digite a largura da parede: '))\n",
    "height = float(input('Digite a altura da parede: '))\n",
    "area = width*height\n",
    "tinta = area/2\n",
    "print(f'Uma parede com {height}m de altura e uma largura de {width}m, possui {area}m² de área,sendo necessário adquirir {tinta}L de tinta')"
   ]
  },
  {
   "cell_type": "markdown",
   "id": "686f92fe-8632-460f-9f3d-480a5f422092",
   "metadata": {},
   "source": [
    "## Desafio 12- Faça um algoritmo que leia o preço de um produto e mostre seu novo preço, com 5% de desconto."
   ]
  },
  {
   "cell_type": "code",
   "execution_count": 13,
   "id": "8ed0e45a-92aa-41c4-b827-9bd69c03d852",
   "metadata": {},
   "outputs": [
    {
     "name": "stdin",
     "output_type": "stream",
     "text": [
      "Digite o preço do produto:  20\n"
     ]
    },
    {
     "name": "stdout",
     "output_type": "stream",
     "text": [
      "Com um desconto de 5% o valor é: R$19.0\n"
     ]
    }
   ],
   "source": [
    "preco = float(input('Digite o preço do produto: '))\n",
    "desconto= preco*0.95\n",
    "print(f'Com um desconto de 5% o valor é: R${desconto}')"
   ]
  },
  {
   "cell_type": "markdown",
   "id": "e6438dbb-d622-460c-87e0-d6785365cdef",
   "metadata": {},
   "source": [
    "## Desafio 13- Faça um algoritmo que leia O salário de um funcionário e mostre seu novo salário, com 15% de aumento."
   ]
  },
  {
   "cell_type": "code",
   "execution_count": 15,
   "id": "3b4945ff-163f-4378-b833-57980910ad92",
   "metadata": {},
   "outputs": [
    {
     "name": "stdin",
     "output_type": "stream",
     "text": [
      "Digite o valor do salário: R$ 3000\n"
     ]
    },
    {
     "name": "stdout",
     "output_type": "stream",
     "text": [
      "O salário do funcionário é: R$3000.0\n",
      "O novo salário do funcionário com 15% de aumento será: R$3450.00\n"
     ]
    }
   ],
   "source": [
    "salario = float(input('Digite o valor do salário: R$'))\n",
    "aumento = salario*1.15\n",
    "print(f'O salário do funcionário é: R${salario}')\n",
    "print(f'O novo salário do funcionário com 15% de aumento será: R${aumento:.2f}')"
   ]
  },
  {
   "cell_type": "markdown",
   "id": "7a33c5aa-ac66-4830-973f-c0c46dc2554e",
   "metadata": {},
   "source": [
    "## Desafio 14- Escreva um programa que converta uma temperatura digitada em ºC e converta para ºF."
   ]
  },
  {
   "cell_type": "code",
   "execution_count": 16,
   "id": "cada52f0-b39b-4887-84ad-d08ea1b952aa",
   "metadata": {},
   "outputs": [
    {
     "name": "stdin",
     "output_type": "stream",
     "text": [
      "Informe a temperatura em ºC:  25\n"
     ]
    },
    {
     "name": "stdout",
     "output_type": "stream",
     "text": [
      "A temperatura de 25.0ºC correponde a 77.0ºF\n"
     ]
    }
   ],
   "source": [
    "c= float(input('Informe a temperatura em ºC: '))\n",
    "f= ((9*c)/5)+32\n",
    "print(f'A temperatura de {c}ºC correponde a {f}ºF')"
   ]
  },
  {
   "cell_type": "markdown",
   "id": "53101f0c-c032-4b49-a793-394c292757e3",
   "metadata": {},
   "source": [
    "## Desafio 15- Escreva um programa que pergunte a quantidade Km percorridos por um carro alugado e a quantidade de dias pelos quais ele foi alugado. Calcule o preço a pagar, sabendo que o carro custa 60 reais POR DIA E 0,15 reais por km rodado."
   ]
  },
  {
   "cell_type": "code",
   "execution_count": 17,
   "id": "23897d37-8d3d-460a-b4d6-1183af60e2a9",
   "metadata": {},
   "outputs": [
    {
     "name": "stdin",
     "output_type": "stream",
     "text": [
      "Quantos dias alugados?  20\n",
      "Quantos km rodados?  2000\n"
     ]
    },
    {
     "name": "stdout",
     "output_type": "stream",
     "text": [
      "O total a pagar é de R$1500.00\n"
     ]
    }
   ],
   "source": [
    "dias = int(input('Quantos dias alugados? '))\n",
    "km = float(input('Quantos km rodados? '))\n",
    "pago = (dias*60) + (km*0.15)\n",
    "print(f'O total a pagar é de R${pago:.2f}')"
   ]
  }
 ],
 "metadata": {
  "kernelspec": {
   "display_name": "Python 3 (ipykernel)",
   "language": "python",
   "name": "python3"
  },
  "language_info": {
   "codemirror_mode": {
    "name": "ipython",
    "version": 3
   },
   "file_extension": ".py",
   "mimetype": "text/x-python",
   "name": "python",
   "nbconvert_exporter": "python",
   "pygments_lexer": "ipython3",
   "version": "3.9.6"
  }
 },
 "nbformat": 4,
 "nbformat_minor": 5
}
