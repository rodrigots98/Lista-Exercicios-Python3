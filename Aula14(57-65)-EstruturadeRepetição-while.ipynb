{
 "cells": [
  {
   "cell_type": "markdown",
   "id": "17d998e1-635d-4881-9f8f-e06f49b95b19",
   "metadata": {},
   "source": [
    "# -----------------------------------------------------------------------------------\n",
    "#  - Aula 14 - Estrutura de Repetição while\n",
    "Nessa aula, vamos continuar a estudar os laços e vamos aprender a usar a estrutura de repetição while no Python."
   ]
  },
  {
   "cell_type": "code",
   "execution_count": 1,
   "id": "66f776b3-b1b9-464d-98c7-ac95653a6af3",
   "metadata": {},
   "outputs": [
    {
     "name": "stdout",
     "output_type": "stream",
     "text": [
      "1\n",
      "2\n",
      "3\n",
      "4\n",
      "5\n",
      "6\n",
      "7\n",
      "8\n",
      "9\n",
      "fim\n"
     ]
    }
   ],
   "source": [
    "# for c in range(1,10):\n",
    "#     print(c)\n",
    "# print('fim')\n",
    "c= 1\n",
    "while c < 10:\n",
    "    print(c)\n",
    "    c +=1\n",
    "print('fim')"
   ]
  },
  {
   "cell_type": "code",
   "execution_count": 2,
   "id": "209bd3c9-67e7-4474-aeff-7d727edf9678",
   "metadata": {},
   "outputs": [
    {
     "name": "stdin",
     "output_type": "stream",
     "text": [
      "Digite um valor:  4\n",
      "Digite um valor:  6\n",
      "Digite um valor:  8\n",
      "Digite um valor:  3\n",
      "Digite um valor:  4\n",
      "Digite um valor:  5\n",
      "Digite um valor:  6\n",
      "Digite um valor:  0\n"
     ]
    },
    {
     "name": "stdout",
     "output_type": "stream",
     "text": [
      "FIM\n"
     ]
    }
   ],
   "source": [
    "n = 1\n",
    "while n != 0:\n",
    "    n = int(input('Digite um valor: '))\n",
    "print('FIM')"
   ]
  },
  {
   "cell_type": "code",
   "execution_count": 3,
   "id": "92ac30b4-159c-4472-8704-69ad4c37ed77",
   "metadata": {},
   "outputs": [
    {
     "name": "stdin",
     "output_type": "stream",
     "text": [
      "Digite um valor:  5\n",
      "Quer continuar? [S/N]  s\n",
      "Digite um valor:  4\n",
      "Quer continuar? [S/N]  s\n",
      "Digite um valor:  3\n",
      "Quer continuar? [S/N]  n\n"
     ]
    },
    {
     "name": "stdout",
     "output_type": "stream",
     "text": [
      "FIM\n"
     ]
    }
   ],
   "source": [
    "r = 'S'\n",
    "while r == 'S':\n",
    "    n = int(input('Digite um valor: '))\n",
    "    r = str(input('Quer continuar? [S/N] ')).upper()\n",
    "print('FIM')"
   ]
  },
  {
   "cell_type": "code",
   "execution_count": 4,
   "id": "39eb2eb7-5098-479a-900b-40d19571ebf7",
   "metadata": {},
   "outputs": [
    {
     "name": "stdin",
     "output_type": "stream",
     "text": [
      "Digite um valor:  4\n",
      "Digite um valor:  5\n",
      "Digite um valor:  4\n",
      "Digite um valor:  6\n",
      "Digite um valor:  7\n",
      "Digite um valor:  0\n"
     ]
    },
    {
     "name": "stdout",
     "output_type": "stream",
     "text": [
      "Você digitou 3 números pares e 2 números ímpares!\n"
     ]
    }
   ],
   "source": [
    "n = 1\n",
    "par = impar = 0\n",
    "while n != 0:\n",
    "    n = int(input('Digite um valor: '))\n",
    "    if n!= 0:\n",
    "        if  n % 2 == 0:\n",
    "            par += 1\n",
    "        else:\n",
    "            impar +=1\n",
    "print(f'Você digitou {par} números pares e {impar} números ímpares!')"
   ]
  },
  {
   "cell_type": "markdown",
   "id": "bc4dbf85-d9b1-44a6-b57b-6a82b32d2e4f",
   "metadata": {},
   "source": [
    "## Desafio 57- Faça um programa que leia o sexo de uma pessoa, mas só aceite os valores 'M' ou 'F'. Caso esteja errado, peça a digitação novamente até ter um valor correto."
   ]
  },
  {
   "cell_type": "code",
   "execution_count": 6,
   "id": "4c056fa5-9a67-48a8-86b1-a4ac6beae611",
   "metadata": {},
   "outputs": [
    {
     "name": "stdin",
     "output_type": "stream",
     "text": [
      "Digite o seu sexo: [M/F]  s\n"
     ]
    },
    {
     "name": "stdout",
     "output_type": "stream",
     "text": [
      "Digite novamente!\n"
     ]
    },
    {
     "name": "stdin",
     "output_type": "stream",
     "text": [
      "Digite o seu sexo: [M/F]  f\n"
     ]
    },
    {
     "name": "stdout",
     "output_type": "stream",
     "text": [
      "Sexo Feminino registrado\n"
     ]
    }
   ],
   "source": [
    "sexo = ''\n",
    "while not (sexo == 'M' or sexo == 'F'):\n",
    "    sexo = str(input('Digite o seu sexo: [M/F] ')).strip().upper()[0]\n",
    "    if ('M' != sexo != 'F'):\n",
    "        print('Digite novamente!')\n",
    "    elif sexo== 'M':\n",
    "        print('Sexo Masculino registrado.')\n",
    "    else:\n",
    "        print('Sexo Feminino registrado')"
   ]
  },
  {
   "cell_type": "code",
   "execution_count": 7,
   "id": "e174c0c8-3d58-44b1-adc7-f252e3b0a962",
   "metadata": {},
   "outputs": [
    {
     "name": "stdin",
     "output_type": "stream",
     "text": [
      "Informe seu sexo: [M/F] s\n",
      "Dados inválidos. Por favor, informe seu sexo:  a\n",
      "Dados inválidos. Por favor, informe seu sexo:  f\n"
     ]
    },
    {
     "name": "stdout",
     "output_type": "stream",
     "text": [
      "Sexo F registrado com sucesso\n"
     ]
    }
   ],
   "source": [
    "sexo = str(input('Informe seu sexo: [M/F]')).strip().upper()[0]\n",
    "while sexo not in 'MnFf':\n",
    "    sexo = str(input('Dados inválidos. Por favor, informe seu sexo: ')).strip().upper()[0]\n",
    "print(f'Sexo {sexo} registrado com sucesso')"
   ]
  },
  {
   "cell_type": "markdown",
   "id": "e25392e3-cfc8-4ab3-be50-a8e7f8c4174d",
   "metadata": {},
   "source": [
    "## Desafio 58- Melhore o jogo do DESAFIO 028 onde o computador vai \"pensar\" em um número entre 0 e 10. Só que agora o jogador vai tentar adivinhar até acertar, mostrando no final quantos palpites foram necessários para vencer.\n",
    "\n",
    "Desafio 28- Escreva um programa que faça o computador \"pensar\" em um número inteiro entre 0 e 5 e peça para o usuário tentar descobrir qual foi o número escolhido pelo computador.\n",
    "O programa deverá escrever na tela se o usuário venceu ou perdeu."
   ]
  },
  {
   "cell_type": "code",
   "execution_count": 8,
   "id": "23f96f45-f2e2-40fa-a5c2-c2065419ed6f",
   "metadata": {},
   "outputs": [
    {
     "name": "stdout",
     "output_type": "stream",
     "text": [
      "Sou seu computador... Acabei de pensar em um número entre 0 e 10.\n"
     ]
    },
    {
     "name": "stdin",
     "output_type": "stream",
     "text": [
      "Qual é seu palpite?  4\n"
     ]
    },
    {
     "name": "stdout",
     "output_type": "stream",
     "text": [
      "Menos... Tente mais uma vez.\n"
     ]
    },
    {
     "name": "stdin",
     "output_type": "stream",
     "text": [
      "Qual é seu palpite?  5\n"
     ]
    },
    {
     "name": "stdout",
     "output_type": "stream",
     "text": [
      "Menos... Tente mais uma vez.\n"
     ]
    },
    {
     "name": "stdin",
     "output_type": "stream",
     "text": [
      "Qual é seu palpite?  7\n"
     ]
    },
    {
     "name": "stdout",
     "output_type": "stream",
     "text": [
      "Menos... Tente mais uma vez.\n"
     ]
    },
    {
     "name": "stdin",
     "output_type": "stream",
     "text": [
      "Qual é seu palpite?  1\n"
     ]
    },
    {
     "name": "stdout",
     "output_type": "stream",
     "text": [
      "Acertou com 4 tentativas!\n"
     ]
    }
   ],
   "source": [
    "from random import randint\n",
    "computador= randint(0,10)\n",
    "print('Sou seu computador... Acabei de pensar em um número entre 0 e 10.')\n",
    "acertou = False\n",
    "palpites = 0\n",
    "while not acertou:\n",
    "    jogador= int(input('Qual é seu palpite? '))\n",
    "    palpites += 1\n",
    "    if jogador==computador:\n",
    "        acertou = True\n",
    "    else:\n",
    "        if jogador <computador:\n",
    "            print('Mais... Tente mais uma vez.')\n",
    "        elif jogador > computador:\n",
    "            print('Menos... Tente mais uma vez.')\n",
    "print(f'Acertou com {palpites} tentativas!')"
   ]
  },
  {
   "cell_type": "markdown",
   "id": "db30a5f4-4d9a-4365-96c7-1367e4b004c9",
   "metadata": {},
   "source": [
    "## Desafio 59- Crie um programa que leia dois valores e mostre um menu na tela:\n",
    "[ 1 ] somar\n",
    "[ 2 ] multiplicar\n",
    "[ 3 ] maior\n",
    "[ 4 ] novos números\n",
    "[ 5 ] sair do programa\n",
    "##### Seu programa deverá realizar a operação solicitada em cada caso.\n"
   ]
  },
  {
   "cell_type": "code",
   "execution_count": 9,
   "id": "02dc2883-9267-42cd-a973-6eebd081750c",
   "metadata": {},
   "outputs": [
    {
     "name": "stdin",
     "output_type": "stream",
     "text": [
      "Digite um valor:  3\n",
      "Digite outro valor:  4\n"
     ]
    },
    {
     "name": "stdout",
     "output_type": "stream",
     "text": [
      "-=-=-=-=-=-=-=-=-=-=-=-=-=-=-=-=-=-=-=-=\n",
      "    [ 1 ] somar\n",
      "    [ 2 ] multiplicar\n",
      "    [ 3 ] maior\n",
      "    [ 4 ] novos números\n",
      "    [ 5 ] sair do programa\n"
     ]
    },
    {
     "name": "stdin",
     "output_type": "stream",
     "text": [
      ">>>>Escolha uma operação:  2\n"
     ]
    },
    {
     "name": "stdout",
     "output_type": "stream",
     "text": [
      "Multiplicação: 3.0 x 4.0 = 12.0\n",
      "-=-=-=-=-=-=-=-=-=-=-=-=-=-=-=-=-=-=-=-=\n",
      "    [ 1 ] somar\n",
      "    [ 2 ] multiplicar\n",
      "    [ 3 ] maior\n",
      "    [ 4 ] novos números\n",
      "    [ 5 ] sair do programa\n"
     ]
    },
    {
     "name": "stdin",
     "output_type": "stream",
     "text": [
      ">>>>Escolha uma operação:  1\n"
     ]
    },
    {
     "name": "stdout",
     "output_type": "stream",
     "text": [
      "Soma: 3.0 + 4.0 = 7.0\n",
      "-=-=-=-=-=-=-=-=-=-=-=-=-=-=-=-=-=-=-=-=\n",
      "    [ 1 ] somar\n",
      "    [ 2 ] multiplicar\n",
      "    [ 3 ] maior\n",
      "    [ 4 ] novos números\n",
      "    [ 5 ] sair do programa\n"
     ]
    },
    {
     "name": "stdin",
     "output_type": "stream",
     "text": [
      ">>>>Escolha uma operação:  3\n"
     ]
    },
    {
     "name": "stdout",
     "output_type": "stream",
     "text": [
      "4.0 é maior que 3.0.\n",
      "-=-=-=-=-=-=-=-=-=-=-=-=-=-=-=-=-=-=-=-=\n",
      "    [ 1 ] somar\n",
      "    [ 2 ] multiplicar\n",
      "    [ 3 ] maior\n",
      "    [ 4 ] novos números\n",
      "    [ 5 ] sair do programa\n"
     ]
    },
    {
     "name": "stdin",
     "output_type": "stream",
     "text": [
      ">>>>Escolha uma operação:  4\n"
     ]
    },
    {
     "name": "stdout",
     "output_type": "stream",
     "text": [
      "Informe os números novamente: \n"
     ]
    },
    {
     "name": "stdin",
     "output_type": "stream",
     "text": [
      "Digite um valor:  5\n",
      "Digite outro valor:  6\n"
     ]
    },
    {
     "name": "stdout",
     "output_type": "stream",
     "text": [
      "-=-=-=-=-=-=-=-=-=-=-=-=-=-=-=-=-=-=-=-=\n",
      "    [ 1 ] somar\n",
      "    [ 2 ] multiplicar\n",
      "    [ 3 ] maior\n",
      "    [ 4 ] novos números\n",
      "    [ 5 ] sair do programa\n"
     ]
    },
    {
     "name": "stdin",
     "output_type": "stream",
     "text": [
      ">>>>Escolha uma operação:  5\n"
     ]
    },
    {
     "name": "stdout",
     "output_type": "stream",
     "text": [
      "Finalizando...\n",
      "-=-=-=-=-=-=-=-=-=-=-=-=-=-=-=-=-=-=-=-=\n",
      "Fim do programa!\n"
     ]
    }
   ],
   "source": [
    "lista = []\n",
    "oper = 0\n",
    "n1 = float(input('Digite um valor: '))\n",
    "n2 = float(input('Digite outro valor: '))\n",
    "while (oper != 5):\n",
    "    print('-='*20)\n",
    "    print('''    [ 1 ] somar\n",
    "    [ 2 ] multiplicar\n",
    "    [ 3 ] maior\n",
    "    [ 4 ] novos números\n",
    "    [ 5 ] sair do programa''')\n",
    "    oper = int(input('>>>>Escolha uma operação: '))\n",
    "    if oper == 1:\n",
    "        print(f'Soma: {n1} + {n2} = {n1+n2}')\n",
    "    elif oper == 2:\n",
    "        print(f'Multiplicação: {n1} x {n2} = {n1*n2}')\n",
    "    elif oper == 3:\n",
    "        lista.append(n1)\n",
    "        lista.append(n2)\n",
    "        sorted(lista)\n",
    "        print(f'{lista[-1]} é maior que {lista[0]}.')\n",
    "    elif oper == 4:\n",
    "        print('Informe os números novamente: ')\n",
    "        n1 = float(input('Digite um valor: '))\n",
    "        n2 = float(input('Digite outro valor: '))\n",
    "    elif oper == 5:\n",
    "        print('Finalizando...')\n",
    "    else:\n",
    "        print('Opção inválida. Tente novamente.')\n",
    "print('-='*20)\n",
    "print('Fim do programa!')"
   ]
  },
  {
   "cell_type": "markdown",
   "id": "4fb61cb3-c4a1-4405-8fa5-4512dfd42959",
   "metadata": {},
   "source": [
    "## Desafio 60- Faça um programa que leia um número qualquer e mostre o seu fatorial.\n",
    "\n",
    "Ex: 5! = 5 x 4 x 3 x 2 x 1 = 120"
   ]
  },
  {
   "cell_type": "code",
   "execution_count": 10,
   "id": "4e3df4ac-1274-475a-a35c-3cb371f3a1ff",
   "metadata": {},
   "outputs": [
    {
     "name": "stdin",
     "output_type": "stream",
     "text": [
      "Digite um número:  4\n"
     ]
    },
    {
     "name": "stdout",
     "output_type": "stream",
     "text": [
      "4! = 4 x 3 x 2 x 1 = 24\n"
     ]
    }
   ],
   "source": [
    "import numpy\n",
    "n1 = int(input('Digite um número: '))\n",
    "n2 = n1\n",
    "lista= [n2]\n",
    "while n2 != 1:\n",
    "    n2 -= 1\n",
    "    lista.append(n2)\n",
    "print(f'{n1}! = {\" x \".join(map(str, lista))} = {numpy.prod(lista)}')"
   ]
  },
  {
   "cell_type": "code",
   "execution_count": 11,
   "id": "badb35f7-08e4-48d2-99a4-48982f2a9949",
   "metadata": {},
   "outputs": [
    {
     "name": "stdin",
     "output_type": "stream",
     "text": [
      "Digite um número para calcular seu Fatorial:  4\n"
     ]
    },
    {
     "name": "stdout",
     "output_type": "stream",
     "text": [
      "Calculando 4! = 4 x 3 x 2 x 1 = 24\n"
     ]
    }
   ],
   "source": [
    "n = int(input('Digite um número para calcular seu Fatorial: '))\n",
    "c = n\n",
    "f = 1\n",
    "print(f'Calculando {n}! = ', end = '')\n",
    "while c > 0:\n",
    "    print(f'{c}', end= '')\n",
    "    print(' x ' if c >1 else ' = ', end='')\n",
    "    f *= c\n",
    "    c -= 1\n",
    "print(f)"
   ]
  },
  {
   "cell_type": "code",
   "execution_count": 13,
   "id": "32848f79-24ad-4691-a6db-26e0fb139053",
   "metadata": {},
   "outputs": [
    {
     "name": "stdin",
     "output_type": "stream",
     "text": [
      "Digite um número para calcular seu Fatorial:  4\n"
     ]
    },
    {
     "name": "stdout",
     "output_type": "stream",
     "text": [
      "O fatorial de 4 é 24\n"
     ]
    }
   ],
   "source": [
    "from math import factorial\n",
    "n = int(input('Digite um número para calcular seu Fatorial: '))\n",
    "f = factorial(n)\n",
    "print(f'O fatorial de {n} é {f}')\n"
   ]
  },
  {
   "cell_type": "markdown",
   "id": "a3b27b68-0797-4107-9e7f-b2f6a2a3b170",
   "metadata": {},
   "source": [
    "## Desafio 61- Refaça o DESAFIO 051, lendo o primeiro termo e a razão de uma PA, mostrando os 10 primeiros termos da progressão usando a estrutura while.\n",
    "Desafio 51- Desenvolva um programa que leia o primeiro termo e a razão de um Progressão Aritmética. No final, mostre os 10 primeiros termos dessa progressão."
   ]
  },
  {
   "cell_type": "code",
   "execution_count": 14,
   "id": "6ad29160-27a1-4aef-8b20-588ac6783107",
   "metadata": {},
   "outputs": [
    {
     "name": "stdin",
     "output_type": "stream",
     "text": [
      "Digite o termo:  2\n",
      "Razão:  4\n"
     ]
    },
    {
     "name": "stdout",
     "output_type": "stream",
     "text": [
      "(2-> 6-> 10-> 14-> 18-> 22-> 26-> 30-> 34-> 38-> FIM)"
     ]
    }
   ],
   "source": [
    "#Entrada\n",
    "ter = int(input('Digite o termo: '))\n",
    "ras = int(input('Razão: '))\n",
    "dez = ter + (10 - 1) * ras\n",
    "n1 = ter-ras\n",
    "#condição\n",
    "print('(',end='')\n",
    "while n1 <=(dez-ras):\n",
    "    n1 += ras\n",
    "    print(f'{n1}', end='-> ')\n",
    "print('FIM)', end='')"
   ]
  },
  {
   "cell_type": "code",
   "execution_count": 15,
   "id": "cf6f1b03-bd76-495c-b400-3ffa041ac50b",
   "metadata": {},
   "outputs": [
    {
     "name": "stdin",
     "output_type": "stream",
     "text": [
      "Primeiro termo:  2\n",
      "Razão da PA:  4\n"
     ]
    },
    {
     "name": "stdout",
     "output_type": "stream",
     "text": [
      "2 -> 6 -> 10 -> 14 -> 18 -> 22 -> 26 -> 30 -> 34 -> 38 -> FIM\n"
     ]
    }
   ],
   "source": [
    "primeiro = int(input('Primeiro termo: '))\n",
    "razão = int(input('Razão da PA: '))\n",
    "termo = primeiro\n",
    "cont = 1\n",
    "while cont <= 10:\n",
    "    print(f'{termo} -> ', end='')\n",
    "    termo += razão\n",
    "    cont += 1\n",
    "print('FIM')"
   ]
  },
  {
   "cell_type": "markdown",
   "id": "8939be8a-1bf5-4ad5-8620-df6c8da4589d",
   "metadata": {},
   "source": [
    "## Desafio 62- Melhore o DESAFIO 061, perguntando para o usuário se ele quer mostrar mais alguns termos. O programa encerrará quando ele disser que quer mostrar 0 termos."
   ]
  },
  {
   "cell_type": "code",
   "execution_count": 16,
   "id": "7c37c88a-2278-477f-88b3-150e92f3c8f6",
   "metadata": {},
   "outputs": [
    {
     "name": "stdout",
     "output_type": "stream",
     "text": [
      "\n"
     ]
    },
    {
     "name": "stdin",
     "output_type": "stream",
     "text": [
      "Digite o termo:  4\n",
      "Razão:  2\n"
     ]
    },
    {
     "name": "stdout",
     "output_type": "stream",
     "text": [
      "(4-> 6-> 8-> 10-> 12-> 14-> 16-> 18-> 20-> 22-> FIM)\n"
     ]
    },
    {
     "name": "stdin",
     "output_type": "stream",
     "text": [
      "Digite o termo:  2\n",
      "Razão:  2\n"
     ]
    },
    {
     "name": "stdout",
     "output_type": "stream",
     "text": [
      "(2-> 4-> 6-> 8-> 10-> 12-> 14-> 16-> 18-> 20-> FIM)\n"
     ]
    },
    {
     "name": "stdin",
     "output_type": "stream",
     "text": [
      "Digite o termo:  0\n"
     ]
    }
   ],
   "source": [
    "ter= 1\n",
    "while ter != 0:\n",
    "    print('')\n",
    "    ter = int(input('Digite o termo: '))\n",
    "    if ter==0:\n",
    "        break\n",
    "    ras = int(input('Razão: '))\n",
    "    dez = ter + (10 - 1) * ras\n",
    "    n1 = ter-ras\n",
    "    print('(',end='')\n",
    "    while n1 <=(dez-ras):\n",
    "        n1 += ras\n",
    "        print(f'{n1}', end='-> ')\n",
    "    print('FIM)', end='')"
   ]
  },
  {
   "cell_type": "markdown",
   "id": "1095333b-77cf-4eec-a62d-a2a685677e5b",
   "metadata": {},
   "source": [
    "## Desafio 63- Escreva um programa que leia um número N inteiro qualquer e mostre na tela os N primeiros elementos de uma Sequência de Fibonacci. \n",
    "\n",
    "Ex: 0 - 1 - 1 - 2 - 3 - 5 - 8"
   ]
  },
  {
   "cell_type": "code",
   "execution_count": 20,
   "id": "64e0951e-6aa6-4ad1-bd1b-d9b8d8176b9f",
   "metadata": {},
   "outputs": [
    {
     "name": "stdin",
     "output_type": "stream",
     "text": [
      "Que termo deseja encontrar:  8\n"
     ]
    },
    {
     "name": "stdout",
     "output_type": "stream",
     "text": [
      "21\n"
     ]
    }
   ],
   "source": [
    "n = int(input(\"Que termo deseja encontrar: \"))\n",
    "ultimo=1\n",
    "penultimo=1\n",
    "\n",
    "\n",
    "if (n==1) or (n==2):\n",
    "    print(\"1\")\n",
    "else:\n",
    "    count=3\n",
    "    while count <= n:\n",
    "        termo = ultimo + penultimo\n",
    "        penultimo = ultimo\n",
    "        ultimo = termo\n",
    "        count += 1\n",
    "    print(termo)"
   ]
  },
  {
   "cell_type": "markdown",
   "id": "32ec26d9-4bf4-44d6-838e-b4b1ee1c5c93",
   "metadata": {},
   "source": [
    "## Desafio 64- Crie um programa que leia vários números inteiros pelo teclado. O programa só vai parar quando o usuário digitar o valor 999, que é a condição de parada. No final, mostre quantos números foram digitados e qual foi a soma entre eles (desconsiderando o flag)."
   ]
  },
  {
   "cell_type": "code",
   "execution_count": 21,
   "id": "5cca7af9-7db0-4f56-ba34-29f093c2661e",
   "metadata": {},
   "outputs": [
    {
     "name": "stdout",
     "output_type": "stream",
     "text": [
      "-=-=-=-=-=-=-=-=-=-=-=-=-=-=-=-=-=-=-=-=\n"
     ]
    },
    {
     "name": "stdin",
     "output_type": "stream",
     "text": [
      "Digite um número: [999] para parar:  444\n"
     ]
    },
    {
     "name": "stdout",
     "output_type": "stream",
     "text": [
      "-=-=-=-=-=-=-=-=-=-=-=-=-=-=-=-=-=-=-=-=\n"
     ]
    },
    {
     "name": "stdin",
     "output_type": "stream",
     "text": [
      "Digite um número: [999] para parar:  333\n"
     ]
    },
    {
     "name": "stdout",
     "output_type": "stream",
     "text": [
      "-=-=-=-=-=-=-=-=-=-=-=-=-=-=-=-=-=-=-=-=\n"
     ]
    },
    {
     "name": "stdin",
     "output_type": "stream",
     "text": [
      "Digite um número: [999] para parar:  999\n"
     ]
    },
    {
     "name": "stdout",
     "output_type": "stream",
     "text": [
      "Foram digitados 2 números. A soma entre eles deu 777.\n"
     ]
    }
   ],
   "source": [
    "n=0\n",
    "list= []\n",
    "while n != 999:\n",
    "    print('-='*20)\n",
    "    n= int(input('Digite um número: [999] para parar: '))\n",
    "    list.append(n)\n",
    "list.pop()\n",
    "print(f'Foram digitados {len(list)} números. A soma entre eles deu {sum(list)}.')"
   ]
  },
  {
   "cell_type": "markdown",
   "id": "99cabcbb-a53a-4e0d-996d-2d596410a5d4",
   "metadata": {},
   "source": [
    "## Desafio 65- Crie um programa que leia vários números inteiros pelo teclado. No final da execução, mostre a média entre todos os valores e qual foi o maior e o menor valores lidos. O programa deve perguntar ao usuário se ele quer ou não continuar a digitar valores."
   ]
  },
  {
   "cell_type": "code",
   "execution_count": 22,
   "id": "2623f7f7-ebbf-4d7b-9b5f-0fd46827a999",
   "metadata": {},
   "outputs": [
    {
     "name": "stdout",
     "output_type": "stream",
     "text": [
      "-=-=-=-=-=-=-=-=-=-=-=-=-=-=-=-=-=-=-=-=\n"
     ]
    },
    {
     "name": "stdin",
     "output_type": "stream",
     "text": [
      "Digite um número:  4\n",
      "Quer continuar? [S/N]  s\n"
     ]
    },
    {
     "name": "stdout",
     "output_type": "stream",
     "text": [
      "-=-=-=-=-=-=-=-=-=-=-=-=-=-=-=-=-=-=-=-=\n"
     ]
    },
    {
     "name": "stdin",
     "output_type": "stream",
     "text": [
      "Digite um número:  6\n",
      "Quer continuar? [S/N]  s\n"
     ]
    },
    {
     "name": "stdout",
     "output_type": "stream",
     "text": [
      "-=-=-=-=-=-=-=-=-=-=-=-=-=-=-=-=-=-=-=-=\n"
     ]
    },
    {
     "name": "stdin",
     "output_type": "stream",
     "text": [
      "Digite um número:  4\n",
      "Quer continuar? [S/N]  n\n"
     ]
    },
    {
     "name": "stdout",
     "output_type": "stream",
     "text": [
      "A média entre os valores deu: 4.666666666666667 .\n",
      "O menor valor lido foi 4 e o maior 4.\n"
     ]
    }
   ],
   "source": [
    "n=0\n",
    "list= []\n",
    "cancel = ''\n",
    "while cancel != 'N':\n",
    "    print('-='*20)\n",
    "    n= int(input('Digite um número: '))\n",
    "    list.append(n)\n",
    "    cancel = str(input('Quer continuar? [S/N] ')).upper().strip()[0]\n",
    "sorted(list)\n",
    "print(f'A média entre os valores deu: {sum(list)/len(list)} .')\n",
    "print(f'O menor valor lido foi {list[0]} e o maior {list[-1]}.')"
   ]
  }
 ],
 "metadata": {
  "kernelspec": {
   "display_name": "Python 3 (ipykernel)",
   "language": "python",
   "name": "python3"
  },
  "language_info": {
   "codemirror_mode": {
    "name": "ipython",
    "version": 3
   },
   "file_extension": ".py",
   "mimetype": "text/x-python",
   "name": "python",
   "nbconvert_exporter": "python",
   "pygments_lexer": "ipython3",
   "version": "3.9.6"
  }
 },
 "nbformat": 4,
 "nbformat_minor": 5
}
