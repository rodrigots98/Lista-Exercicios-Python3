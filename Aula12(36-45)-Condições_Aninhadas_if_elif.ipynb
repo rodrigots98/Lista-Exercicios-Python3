{
 "cells": [
  {
   "cell_type": "markdown",
   "id": "8ce707cc-b476-417c-b41d-f4bac4b1cdfc",
   "metadata": {},
   "source": [
    "# CONDIÇÕES EM PYTHON - IF..ELIF"
   ]
  },
  {
   "cell_type": "markdown",
   "id": "b4554077-1dc4-4d1d-b592-e41b0bc4a45b",
   "metadata": {},
   "source": [
    "## - Aula 12 - Condições Aninhadas\n"
   ]
  },
  {
   "cell_type": "code",
   "execution_count": 2,
   "id": "8afa2fcd-6018-4f8a-bbbf-9fb5d62578e2",
   "metadata": {},
   "outputs": [],
   "source": [
    "#if carro.esquerda():\n",
    "#    bloco 1\n",
    "#elif carro.direita():\n",
    "#    bloco 2\n",
    "#elif carro.ré():\n",
    "#    bloco 3\n",
    "#else:\n",
    "#    bloco 4"
   ]
  },
  {
   "cell_type": "code",
   "execution_count": 4,
   "id": "02cd6475-e08c-4fda-8b9b-3f11692e5803",
   "metadata": {},
   "outputs": [
    {
     "name": "stdin",
     "output_type": "stream",
     "text": [
      "Qual é seu nome?  Ana\n"
     ]
    },
    {
     "name": "stdout",
     "output_type": "stream",
     "text": [
      "Belo nome feminino\n",
      "Tenha um bom dia, Ana\n"
     ]
    }
   ],
   "source": [
    "nome = str(input('Qual é seu nome? '))\n",
    "if nome == 'Rodrigo':\n",
    "    print('Que nome bonito!')\n",
    "elif nome == 'Pedro' or nome =='Maria' or nome =='Paulo':\n",
    "    print('Seu nome é bem popular no Brasil!')\n",
    "elif nome in 'Ana Cláudia Jéssica Juliana':\n",
    "    print('Belo nome feminino')\n",
    "else:\n",
    "    print('Seu nome é bem normal.')\n",
    "print(f'Tenha um bom dia, {nome}')"
   ]
  },
  {
   "cell_type": "markdown",
   "id": "b0e17525-47be-4812-8898-a935ac55b9d0",
   "metadata": {},
   "source": [
    "## Desafio 36- Escreva um programa para aprovar o empréstimo bancário para a compra de uma casa. O programa vai perguntar **o valor da casa**, o **salário** do comprador e em **quantos anos** ele vai pagar.\n",
    "### Calcule o valor da prestação mensal, sabendo que ela não pode exceder **30%** do salário ou então o empréstimo será negado."
   ]
  },
  {
   "cell_type": "code",
   "execution_count": 6,
   "id": "7de3cd41-8ee1-4482-a872-95952ab9d809",
   "metadata": {},
   "outputs": [
    {
     "name": "stdout",
     "output_type": "stream",
     "text": [
      "-=-=-=-=-=-=-=-=-=-=-=-=-=-=-=-=-=-=-=-=\n",
      "Empréstimo Bancário\n",
      "-=-=-=-=-=-=-=-=-=-=-=-=-=-=-=-=-=-=-=-=\n"
     ]
    },
    {
     "name": "stdin",
     "output_type": "stream",
     "text": [
      "Qual o valor da casa? R$ 200000\n",
      "Qual o valor do seu salário? R$ 5000\n",
      "Quantos anos de financiamento?  20\n"
     ]
    },
    {
     "name": "stdout",
     "output_type": "stream",
     "text": [
      "Para pagar uma casa de R$200000.00 em 20.0 anos a prestação será de R$833.33.\n",
      "O empréstimo bancário foi NEGADO, o mínimo é de R$250.00!\n"
     ]
    }
   ],
   "source": [
    "print('-='*20)\n",
    "print('Empréstimo Bancário')\n",
    "print('-='*20)\n",
    "valor = float(input('Qual o valor da casa? R$'))\n",
    "salario = float(input('Qual o valor do seu salário? R$'))\n",
    "anos= float(input('Quantos anos de financiamento? '))\n",
    "prestacaomensal= (valor)/(anos*12)\n",
    "print(f'Para pagar uma casa de R${valor:.2f} em {anos} anos', end='')\n",
    "print(f' a prestação será de R${prestacaomensal:.2f}.')\n",
    "if salario <= (prestacaomensal*0.30):\n",
    "    print('O empréstimo bancário foi APROVADO!')\n",
    "else:\n",
    "    print(f'O empréstimo bancário foi NEGADO, o mínimo é de R${prestacaomensal*0.30:.2f}!')"
   ]
  },
  {
   "cell_type": "markdown",
   "id": "886e0fc5-fd2a-4a19-91aa-f82ff2f5687e",
   "metadata": {},
   "source": [
    "## Desafio 37- Escreva um programa que leia um número inteiro qualquer e peça para o usuário escolher qual será a base de conversão:\n",
    "### - 1 para binário\n",
    "### - 2 para octal\n",
    "### - 3 para hexadecimal"
   ]
  },
  {
   "cell_type": "code",
   "execution_count": 7,
   "id": "6fa5f590-cd96-4bc4-8e01-e823f839336b",
   "metadata": {},
   "outputs": [
    {
     "name": "stdout",
     "output_type": "stream",
     "text": [
      "-=-=-=-=-=-=-=-=-=-=-=-=-=-=-=-=-=-=-=-=\n",
      "Conversor de número: binário, octal ou hexadecimal\n",
      "-=-=-=-=-=-=-=-=-=-=-=-=-=-=-=-=-=-=-=-=\n"
     ]
    },
    {
     "name": "stdin",
     "output_type": "stream",
     "text": [
      "Escreva um número inteiro qualquer:  4\n"
     ]
    },
    {
     "name": "stdout",
     "output_type": "stream",
     "text": [
      "Escolha uma das base para conversão:\n",
      "[1] converter para BINÁRIO\n",
      "[2] converter para OCTAL \n",
      "[3] converter para HEXADECIMAL\n"
     ]
    },
    {
     "name": "stdin",
     "output_type": "stream",
     "text": [
      "Sua opção:  1\n"
     ]
    },
    {
     "name": "stdout",
     "output_type": "stream",
     "text": [
      "Número 4 convertido para binário: 100.\n"
     ]
    }
   ],
   "source": [
    "print('-='*20)\n",
    "print('Conversor de número: binário, octal ou hexadecimal')\n",
    "print('-='*20)\n",
    "\n",
    "n = int(input('Escreva um número inteiro qualquer: '))\n",
    "print('''Escolha uma das base para conversão:\n",
    "[1] converter para BINÁRIO\n",
    "[2] converter para OCTAL \n",
    "[3] converter para HEXADECIMAL''')\n",
    "opção= int(input('Sua opção: '))\n",
    "\n",
    "if opção==1:\n",
    "    print(f'Número {n} convertido para binário: {bin(n)[2:]}.')\n",
    "elif opção==2:\n",
    "    print(f'Número {n} convertido para octal: {oct(n)[2:]}.')\n",
    "elif opção==3:\n",
    "    print(f'Número {n} convertido para hexadecimal: {hex(n)[2:]}')\n",
    "else:\n",
    "    print('Opção inválida, tente novamente!')"
   ]
  },
  {
   "cell_type": "markdown",
   "id": "91be695f-0799-4afc-b120-fbb392647044",
   "metadata": {},
   "source": [
    "## Desafio 38- Escreva um programa que leia dois números inteiros e compare-os, mostrando na tela uma mensagem:\n",
    "### - O primeiro valor é maior\n",
    "### - O segundo valor é maior\n",
    "### - Não existe valor maior, os dois são iguais"
   ]
  },
  {
   "cell_type": "code",
   "execution_count": 8,
   "id": "ccb909e8-2331-41a9-b02a-0cd9acdec4ab",
   "metadata": {},
   "outputs": [
    {
     "name": "stdin",
     "output_type": "stream",
     "text": [
      "Digite um número inteiro qualquer:  4\n",
      "Digite outro número inteiro qualquer:  5\n"
     ]
    },
    {
     "name": "stdout",
     "output_type": "stream",
     "text": [
      "O segundo valor 5 é maior que 4\n"
     ]
    }
   ],
   "source": [
    "n1 = int(input('Digite um número inteiro qualquer: '))\n",
    "n2 = int(input('Digite outro número inteiro qualquer: '))\n",
    "if n1>n2:\n",
    "    print(f'O primeiro valor {n1} é maior que {n2}')\n",
    "elif n2>n1:\n",
    "    print(f'O segundo valor {n2} é maior que {n1}')\n",
    "else:\n",
    "    print('Não existe valor maior, os dois são iguais!')"
   ]
  },
  {
   "cell_type": "markdown",
   "id": "c98dca32-3c2b-4b2c-a97e-fde3e9695378",
   "metadata": {},
   "source": [
    "## Desafio 39- Faça um programa que leia o ano de nascimento de um jovem e informe, de acordo com sua idade:\n",
    "### - Se ele ainda vai se alistar ao serviço militar.\n",
    "### - Se é a hora de se alistar.\n",
    "### - Se já passou do tempo do alistamento.\n",
    "\n",
    "### Seu programa também deverá mostrar o tempo que falta ou que passou do prazo."
   ]
  },
  {
   "cell_type": "code",
   "execution_count": 9,
   "id": "0e24fed3-fe4c-4947-8e68-144c9853c09b",
   "metadata": {},
   "outputs": [
    {
     "name": "stdout",
     "output_type": "stream",
     "text": [
      "-=-=-=-=-=-=-=-=-=-=-=-=-=-=-=-=-=-=-=-=\n",
      "Calculadora de tempo de alistamento\n",
      "-=-=-=-=-=-=-=-=-=-=-=-=-=-=-=-=-=-=-=-=\n"
     ]
    },
    {
     "name": "stdin",
     "output_type": "stream",
     "text": [
      "Informe o seu ano de nascimento:  1998\n"
     ]
    },
    {
     "name": "stdout",
     "output_type": "stream",
     "text": [
      "Você passou 5 anos do tempo de alistamento!\n"
     ]
    }
   ],
   "source": [
    "from datetime import date\n",
    "\n",
    "print('-='*20)\n",
    "print('Calculadora de tempo de alistamento')\n",
    "print('-='*20)\n",
    "data = int(input('Informe o seu ano de nascimento: '))\n",
    "ano= (date.today().year)-data\n",
    "if ano<18:\n",
    "    print(f'Falta {18-ano} anos para se alistar!')\n",
    "elif ano==18:\n",
    "    print(f'Está na hora de se alistar! Você já possui {ano} anos.')\n",
    "else:\n",
    "    print(f'Você passou {ano-18} anos do tempo de alistamento!')"
   ]
  },
  {
   "cell_type": "markdown",
   "id": "dcaa6c9b-be82-4a05-88ce-54808ddb924a",
   "metadata": {},
   "source": [
    "## Desafio 40-  Crie um programa que leia duas notas de um aluno e calcule sua média, mostrando uma mensagem no final, de acordo com a média atingida:\n",
    "### - Média abaixo de 5.0: REPROVADO\n",
    "### - Média entre 5.0 e 6.9: RECUPERAÇÃO\n",
    "### - MÉDIA 7.0 ou superior: APROVADO"
   ]
  },
  {
   "cell_type": "code",
   "execution_count": 10,
   "id": "0130519d-72cf-47b5-aceb-25b70204fa74",
   "metadata": {},
   "outputs": [
    {
     "name": "stdout",
     "output_type": "stream",
     "text": [
      "-=-=-=-=-=-=-=-=-=-=-=-=-=-=-=-=-=-=-=-=\n",
      "Calculadora de Nota\n",
      "-=-=-=-=-=-=-=-=-=-=-=-=-=-=-=-=-=-=-=-=\n"
     ]
    },
    {
     "name": "stdin",
     "output_type": "stream",
     "text": [
      "Digite a nota 1 do aluno:  7\n",
      "Digite a nota 2 do aluno:  5\n"
     ]
    },
    {
     "name": "stdout",
     "output_type": "stream",
     "text": [
      "Você está em recuperação, sua nota média foi 6.0!\n"
     ]
    }
   ],
   "source": [
    "print('-='*20)\n",
    "print('Calculadora de Nota')\n",
    "print('-='*20)\n",
    "\n",
    "nota1= float(input('Digite a nota 1 do aluno: '))\n",
    "nota2= float(input('Digite a nota 2 do aluno: '))\n",
    "media= (nota1+nota2)/2\n",
    "if media >= 7:\n",
    "    print(f'Parabéns! Você está aprovado, sua nota média foi {media:.1f}!')\n",
    "elif 7 > media >=5:\n",
    "    print(f'Você está em recuperação, sua nota média foi {media:.1f}!')\n",
    "else:\n",
    "    print(f'Você está reprovado, sua nota média foi {media:.1f}!')"
   ]
  },
  {
   "cell_type": "markdown",
   "id": "84ff9817-7156-493b-82d7-2df0931c9290",
   "metadata": {},
   "source": [
    "## Desafio 41- A Confederação Nacional de Natação precisa de um programa que leia o ano de nascimento de um atleta e mostre sua categoria, de acordo com a idade:\n",
    "### - Até 9 anos: MIRIM\n",
    "### - Até 14 anos: INFANTIL\n",
    "### - Até 19 anos: JUNIOR\n",
    "### - Até 20 anos: SÊNIOR\n",
    "### - Acima: MASTER"
   ]
  },
  {
   "cell_type": "code",
   "execution_count": 11,
   "id": "8eef1ca7-e7c0-4572-8182-8ed8d6ebd4ac",
   "metadata": {},
   "outputs": [
    {
     "name": "stdout",
     "output_type": "stream",
     "text": [
      "-=-=-=-=-=-=-=-=-=-=-=-=-=-=-=-=-=-=-=-=\n",
      "Categoria do Atleta - Confederação Nacional de Natação\n",
      "-=-=-=-=-=-=-=-=-=-=-=-=-=-=-=-=-=-=-=-=\n"
     ]
    },
    {
     "name": "stdin",
     "output_type": "stream",
     "text": [
      "Digite o ano de nascimento:  1998\n"
     ]
    },
    {
     "name": "stdout",
     "output_type": "stream",
     "text": [
      "O(a) atleta está na categoria Master!\n"
     ]
    }
   ],
   "source": [
    "from datetime import date\n",
    "\n",
    "print('-='*20)\n",
    "print('Categoria do Atleta - Confederação Nacional de Natação')\n",
    "print('-='*20)\n",
    "\n",
    "ano= int(input('Digite o ano de nascimento: '))\n",
    "idade= (date.today().year)-ano\n",
    "if idade <= 9:\n",
    "    print('O(a) atleta está na categoria Mirim!')\n",
    "elif idade <=14:\n",
    "    print('O(a) atleta está na categoria Infantil!')\n",
    "elif idade <=19:\n",
    "    print('O(a) atleta está na categoria Junior!')\n",
    "elif idade <=20:\n",
    "    print('O(a) atleta está na categoria Sênior!')\n",
    "else:\n",
    "    print('O(a) atleta está na categoria Master!')"
   ]
  },
  {
   "cell_type": "markdown",
   "id": "d2aefee1-7bda-487e-9821-9122efbd5446",
   "metadata": {},
   "source": [
    "## Desafio 42- Refaça o DESAFIO 035 dos triângulos, acrescentando o recurso de mostrar que tipo de triângulo será formado:\n",
    "### - Equilátero: todos os lados iguais\n",
    "### - Isósceles: dois lados iguais\n",
    "### - Escaleno: todos os lados diferentes"
   ]
  },
  {
   "cell_type": "code",
   "execution_count": 12,
   "id": "be0ccd24-6924-4765-9e49-a9dca1961dc3",
   "metadata": {},
   "outputs": [
    {
     "name": "stdout",
     "output_type": "stream",
     "text": [
      "-=-=-=-=-=-=-=-=-=-=-=-=-=-=-=-=-=-=-=-=\n",
      "Analisador de Triângulos\n",
      "-=-=-=-=-=-=-=-=-=-=-=-=-=-=-=-=-=-=-=-=\n"
     ]
    },
    {
     "name": "stdin",
     "output_type": "stream",
     "text": [
      "Primeiro segmento:  3\n",
      "Segundo segmento:  5\n",
      "Terceiro segmento:  6\n"
     ]
    },
    {
     "name": "stdout",
     "output_type": "stream",
     "text": [
      "Os segmentos acima PODEM FORMAR um triângulo!\n",
      "ESCALENO\n"
     ]
    }
   ],
   "source": [
    "print('-='*20)\n",
    "print('Analisador de Triângulos')\n",
    "print('-='*20)\n",
    "n1= float(input('Primeiro segmento: '))\n",
    "n2= float(input('Segundo segmento: '))\n",
    "n3= float(input('Terceiro segmento: '))\n",
    "\n",
    "if n1<n2+n3 and n2<n1+n3 and n3<n1+n2:\n",
    "    print('Os segmentos acima PODEM FORMAR um triângulo!')\n",
    "    if n1==n2==n3:\n",
    "        print('EQUILÁTERO!')\n",
    "    elif n1!= n2 != n3 != n1:\n",
    "        print('ESCALENO')\n",
    "    else:\n",
    "        print('ISÓSCELES!')\n",
    "else:\n",
    "    print('Os segmentos acima NÃO PODEM FORMAR triângulo!')"
   ]
  },
  {
   "cell_type": "markdown",
   "id": "7ca71206-ba07-4e52-9fde-84ffa9d285bd",
   "metadata": {},
   "source": [
    "## Desafio 43- Desenvolva uma lógica que leia o peso e altura de uma pessoa, calcule seu IMC e mostre seu status, de acordo com a tabela abaixo:\n",
    "### - Abaixo de 18.5: Abaixo do Peso\n",
    "### - Entre 18.5 e 25: Peso ideal\n",
    "### - 25 até 30: sobrepeso\n",
    "### - 30 até 40: Obesidade\n",
    "### - Acima de 40: Obesidade mórbida"
   ]
  },
  {
   "cell_type": "code",
   "execution_count": 13,
   "id": "8532bedf-599d-4921-8a2d-7318c9ecd0dc",
   "metadata": {},
   "outputs": [
    {
     "name": "stdout",
     "output_type": "stream",
     "text": [
      "-=-=-=-=-=-=-=-=-=-=-=-=-=-=-=-=-=-=-=-=\n",
      "Calculadora IMC\n",
      "-=-=-=-=-=-=-=-=-=-=-=-=-=-=-=-=-=-=-=-=\n"
     ]
    },
    {
     "name": "stdin",
     "output_type": "stream",
     "text": [
      "Qual é seu peso? (Kg) 74\n",
      "Qual é sua altura? (m)  1.70\n"
     ]
    },
    {
     "name": "stdout",
     "output_type": "stream",
     "text": [
      "Seu IMC é 25.61, você está com sobrepeso!\n"
     ]
    }
   ],
   "source": [
    "print('-='*20)\n",
    "print('Calculadora IMC')\n",
    "print('-='*20)\n",
    "peso = float(input('Qual é seu peso? (Kg)'))\n",
    "altura = float(input('Qual é sua altura? (m) '))\n",
    "imc =  peso/(altura*altura)\n",
    "if imc <= 18.5:\n",
    "    print(f'Seu IMC é {imc:.2f}, você está abaixo do peso!')\n",
    "elif imc<=25>18.5:\n",
    "    print(f'Seu IMC é {imc:.2f}, você está com peso ideal!')\n",
    "elif imc<=30>25:\n",
    "    print(f'Seu IMC é {imc:.2f}, você está com sobrepeso!')\n",
    "elif imc<=40>30:\n",
    "    print(f'Seu IMC é {imc:.2f}, você está com OBESIDADE!')\n",
    "else:\n",
    "    print(f'Seu IMC é {imc:.2f}, você está com OBESIDADE MÓRBIDA!')"
   ]
  },
  {
   "cell_type": "markdown",
   "id": "a839fa5d-24d0-42dc-985c-08fd46f95665",
   "metadata": {},
   "source": [
    "## Desafio 44- Elabore um programa que calcule o valor a ser pago por um produto, considerando o seu preço normal e condição de pagamento:\n",
    "### - À vista dinheiro/cheque: 10% de desconto\n",
    "### - À vista no cartão: 5% de desconto\n",
    "### - Em até 2x no cartão: preço normal\n",
    "### - 3x ou mais no cartão: 20% de juros"
   ]
  },
  {
   "cell_type": "code",
   "execution_count": 14,
   "id": "ab1e24d3-6b45-4b1e-bbd3-fa15ee8cd88e",
   "metadata": {},
   "outputs": [
    {
     "name": "stdout",
     "output_type": "stream",
     "text": [
      "-=-=-=-=-=-=-=-=-=-=-=-=-=-=-=-=-=-=-=-=\n",
      "Condições de Pagamento\n",
      "-=-=-=-=-=-=-=-=-=-=-=-=-=-=-=-=-=-=-=-=\n"
     ]
    },
    {
     "name": "stdin",
     "output_type": "stream",
     "text": [
      "Qual o valor da compra? R$ 2000\n"
     ]
    },
    {
     "name": "stdout",
     "output_type": "stream",
     "text": [
      " FORMAS DE PAGAMENTO\n",
      "[1] à vista dinheiro/cheque\n",
      "[2] à vista cartão\n",
      "[3] 2x no cartão\n",
      "[4] 3x ou mais no cartão\n"
     ]
    },
    {
     "name": "stdin",
     "output_type": "stream",
     "text": [
      "Qual é a opção?  4\n",
      "Quantas parcelas?  4\n"
     ]
    },
    {
     "name": "stdout",
     "output_type": "stream",
     "text": [
      "Sua compra será parcelada em 4x de R$600.00.\n",
      "Sua compra de R$2000.00 vai custar R$2400.00 no final.\n"
     ]
    }
   ],
   "source": [
    "print('-='*20)\n",
    "print('Condições de Pagamento')\n",
    "print('-='*20)\n",
    "preço= float(input('Qual o valor da compra? R$'))\n",
    "print(''' FORMAS DE PAGAMENTO\n",
    "[1] à vista dinheiro/cheque\n",
    "[2] à vista cartão\n",
    "[3] 2x no cartão\n",
    "[4] 3x ou mais no cartão''')\n",
    "forma= int(input('Qual é a opção? '))\n",
    "\n",
    "if forma==1:\n",
    "    total = preço*0.90\n",
    "elif forma==2:\n",
    "    total = preço*0.95\n",
    "elif forma==3:\n",
    "    total = preço\n",
    "    parcela= total/2\n",
    "    print(f'Sua compra será parcelada em 2x de R${parcela:.2f} SEM JUROS!')\n",
    "elif forma==4:\n",
    "    total= preço*1.20\n",
    "    totparc= int(input('Quantas parcelas? '))\n",
    "    parcela= total/totparc\n",
    "    print(F'Sua compra será parcelada em {totparc}x de R${parcela:.2f}.')\n",
    "else:\n",
    "    total = preço\n",
    "    print('OPÇÃO INVÁLIDA de pagamento. Tente Novamente!')\n",
    "print(f'Sua compra de R${preço:.2F} vai custar R${total:.2f} no final.')\n",
    "\n"
   ]
  },
  {
   "cell_type": "markdown",
   "id": "a928e66f-6b65-499c-82de-7a397132e545",
   "metadata": {},
   "source": [
    "## Desafio 45- Crie um programa que faça o computador jogar Jokenpô com você"
   ]
  },
  {
   "cell_type": "code",
   "execution_count": 15,
   "id": "c83eceed-60d2-4a00-b888-fd6c5aef0e95",
   "metadata": {},
   "outputs": [
    {
     "name": "stdin",
     "output_type": "stream",
     "text": [
      "Escolha uma opcao para se jogar: \n",
      "\n",
      "[0] Pedra\n",
      "[1] Papel\n",
      "[2] Tesoura\n",
      " \n",
      "Digite sua escolha:  0\n"
     ]
    },
    {
     "name": "stdout",
     "output_type": "stream",
     "text": [
      "JO\n",
      "\n",
      "KEN\n",
      "\n",
      "POOH!!!\n",
      "\n",
      "-=-=-=-=-=-=-=-=-=-=-=-=-=-=-=-=-=-=-=-=\n",
      "O computador escolheu: Papel.\n",
      "O jogador escolheu: Pedra.\n",
      "-=-=-=-=-=-=-=-=-=-=-=-=-=-=-=-=-=-=-=-=\n",
      "Computador perdeu\n"
     ]
    }
   ],
   "source": [
    "from random import randint\n",
    "from time import sleep\n",
    "\n",
    "lista = (\"Pedra\", \"Papel\", \"Tesoura\")\n",
    "\n",
    "computador = randint(0,2)\n",
    "\n",
    "perguntar = int(input('''Escolha uma opcao para se jogar: \n",
    "\n",
    "[0] Pedra\n",
    "[1] Papel\n",
    "[2] Tesoura\n",
    " \n",
    "Digite sua escolha: '''))\n",
    "\n",
    "print(\"JO\\n\")\n",
    "sleep(1)\n",
    "print(\"KEN\\n\")\n",
    "sleep(1)\n",
    "print(\"POOH!!!\\n\")\n",
    "\n",
    "print(\"-=\"*20)\n",
    "print(f\"O computador escolheu: {lista[computador]}.\")\n",
    "print(f\"O jogador escolheu: {lista[perguntar]}.\")\n",
    "print(\"-=\"*20)\n",
    "\n",
    "if computador == 0:\n",
    "    if perguntar == 0:\n",
    "        print(\"Empate!\")\n",
    "    elif perguntar == 1:\n",
    "        print(\"Jogador perdeu\")\n",
    "    elif perguntar == 2:\n",
    "        print(\"Computador venceu\")\n",
    "    else:\n",
    "        print(\"Operacao invalida\")\n",
    "\n",
    "elif computador == 1:\n",
    "    if perguntar == 0:\n",
    "        print(\"Computador perdeu\")\n",
    "    elif perguntar == 1:\n",
    "        print(\"Empate!\")\n",
    "    elif perguntar == 2:\n",
    "        print(\"Jogador venceu\")\n",
    "    else:\n",
    "        print(\"Operacao invalida\")\n",
    "elif computador == 2:\n",
    "    if perguntar == 0:\n",
    "        print(\"Jogador venceu\")\n",
    "    elif perguntar == 1:\n",
    "        print(\"Computador venceu\")\n",
    "    elif perguntar == 2:\n",
    "        print(\"Empate!\")\n",
    "    else:\n",
    "        print(\"Operacao invalida\")\n",
    "else:\n",
    "    print(\"Operacao invalida\")"
   ]
  }
 ],
 "metadata": {
  "kernelspec": {
   "display_name": "Python 3 (ipykernel)",
   "language": "python",
   "name": "python3"
  },
  "language_info": {
   "codemirror_mode": {
    "name": "ipython",
    "version": 3
   },
   "file_extension": ".py",
   "mimetype": "text/x-python",
   "name": "python",
   "nbconvert_exporter": "python",
   "pygments_lexer": "ipython3",
   "version": "3.9.6"
  }
 },
 "nbformat": 4,
 "nbformat_minor": 5
}
