{
 "cells": [
  {
   "cell_type": "markdown",
   "id": "4a00e129-2345-4d09-b3ae-301b33ff0f5c",
   "metadata": {},
   "source": [
    "# Aula 10- Condições simples e compostas\n",
    "Nessa aula, vamos aprender como utilizar estruturas condicionais simples e compostas nos seus programas em Python."
   ]
  },
  {
   "cell_type": "code",
   "execution_count": 1,
   "id": "6213599d-7b2c-4c5f-ad25-c67dcbd4d9c0",
   "metadata": {},
   "outputs": [
    {
     "name": "stdin",
     "output_type": "stream",
     "text": [
      "Quantos anos tem seu carro?  20\n"
     ]
    },
    {
     "name": "stdout",
     "output_type": "stream",
     "text": [
      "carro velho\n",
      "--FIM--\n"
     ]
    }
   ],
   "source": [
    "#if carro.esquerda():\n",
    "#    bloco True\n",
    "#else:\n",
    "#    bloco False\n",
    "\n",
    "tempo = int(input('Quantos anos tem seu carro? '))\n",
    "if tempo <= 3:\n",
    "    print('carro novo')\n",
    "else:\n",
    "    print('carro velho')\n",
    "print('--FIM--')"
   ]
  },
  {
   "cell_type": "code",
   "execution_count": 2,
   "id": "15c0626d-c474-4835-bec9-fcac370bb278",
   "metadata": {},
   "outputs": [
    {
     "name": "stdin",
     "output_type": "stream",
     "text": [
      "Quantos anos tem seu carro?  20\n"
     ]
    },
    {
     "name": "stdout",
     "output_type": "stream",
     "text": [
      "carro velho\n",
      "--FIM--\n"
     ]
    }
   ],
   "source": [
    "tempo = int(input('Quantos anos tem seu carro? '))\n",
    "print('carro novo' if tempo<=3 else 'carro velho')\n",
    "print('--FIM--')"
   ]
  },
  {
   "cell_type": "code",
   "execution_count": 3,
   "id": "6e427625-fb1b-4e20-b19a-c6bba152b52b",
   "metadata": {},
   "outputs": [
    {
     "name": "stdin",
     "output_type": "stream",
     "text": [
      "Qual é seu nome?  Rodrigo\n"
     ]
    },
    {
     "name": "stdout",
     "output_type": "stream",
     "text": [
      "Que nome lindo você tem!\n",
      "Bom dia, Rodrigo!\n"
     ]
    }
   ],
   "source": [
    "nome = str(input('Qual é seu nome? '))\n",
    "if nome =='Rodrigo':\n",
    "    print('Que nome lindo você tem!')\n",
    "else:\n",
    "    print('Seu nome é tão normal!')\n",
    "print(f'Bom dia, {nome}!')"
   ]
  },
  {
   "cell_type": "code",
   "execution_count": 4,
   "id": "15297105-310c-4358-9d5f-3cc2bbc7e0da",
   "metadata": {},
   "outputs": [
    {
     "name": "stdin",
     "output_type": "stream",
     "text": [
      "Digite a primeira nota:  7\n",
      "Digite a segunda nota:  5\n"
     ]
    },
    {
     "name": "stdout",
     "output_type": "stream",
     "text": [
      "A sua média foi 6.0\n",
      "Sua média foi boa! PARABÉNS!\n"
     ]
    }
   ],
   "source": [
    "n1 = float(input('Digite a primeira nota: '))\n",
    "n2 = float(input('Digite a segunda nota: '))\n",
    "m = (n1+n2)/2\n",
    "print(f'A sua média foi {m:.1f}')\n",
    "if m>=6.0:\n",
    "    print(f'Sua média foi boa! PARABÉNS!')\n",
    "else:\n",
    "    print(f'Sua média foi ruim! ESTUDE MAIS!!')"
   ]
  },
  {
   "cell_type": "code",
   "execution_count": 5,
   "id": "60f6daeb-2bf7-4396-8ae9-edf99b1e9959",
   "metadata": {},
   "outputs": [
    {
     "name": "stdin",
     "output_type": "stream",
     "text": [
      "Digite a primeira nota:  5\n",
      "Digite a segunda nota:  4\n"
     ]
    },
    {
     "name": "stdout",
     "output_type": "stream",
     "text": [
      "A sua média foi 4.5\n",
      "ESTUDE MAIS!\n"
     ]
    }
   ],
   "source": [
    "n1 = float(input('Digite a primeira nota: '))\n",
    "n2 = float(input('Digite a segunda nota: '))\n",
    "m = (n1+n2)/2\n",
    "print(f'A sua média foi {m:.1f}')\n",
    "print('PARABÉNS' if m>=6 else 'ESTUDE MAIS!')"
   ]
  },
  {
   "cell_type": "markdown",
   "id": "0f8acc86-e4db-4190-9526-935a3c93b16a",
   "metadata": {},
   "source": [
    "## Desafio 28- Escreva um programa que faça o computador \"pensar\" em um número inteiro entre 0 e 5 e peça para o usuário tentar descobrir qual foi o número escolhido pelo computador.\n",
    "### O programa deverá escrever na tela se o usuário venceu ou perdeu."
   ]
  },
  {
   "cell_type": "code",
   "execution_count": 6,
   "id": "a0726e27-4910-43b8-9f40-425dce05cd66",
   "metadata": {},
   "outputs": [
    {
     "name": "stdin",
     "output_type": "stream",
     "text": [
      "Escolha um número de 1 a 6:  4\n"
     ]
    },
    {
     "name": "stdout",
     "output_type": "stream",
     "text": [
      "Número errado! Eu pensei no número 1 e não no 4. Tente Novamente.\n"
     ]
    }
   ],
   "source": [
    "from random import randint\n",
    "n1= randint(1,6)\n",
    "n2= int(input('Escolha um número de 1 a 6: '))\n",
    "if n2==n1:\n",
    "    print(f'Parabéns!!! O número escolhido pela máquina foi {n1}')\n",
    "else:\n",
    "    print(f'Número errado! Eu pensei no número {n1} e não no {n2}. Tente Novamente.')"
   ]
  },
  {
   "cell_type": "markdown",
   "id": "4cc9ee09-f8db-4cba-9ee9-98112f2179b2",
   "metadata": {},
   "source": [
    "## Desafio 29- Escreva um programa que leia a  velocidade de um carro.\n",
    "### - Se ele ultrapassar 80km/h, mostre uma mensagem dizendo que ele foi multado.\n",
    "### - A multa vai custar 7 reais por cada km acima do limite."
   ]
  },
  {
   "cell_type": "code",
   "execution_count": 7,
   "id": "b4e8b7e7-98fa-4c17-bc55-6273caafe3c1",
   "metadata": {},
   "outputs": [
    {
     "name": "stdin",
     "output_type": "stream",
     "text": [
      "Digite a velocidade atual do carro:  70\n"
     ]
    },
    {
     "name": "stdout",
     "output_type": "stream",
     "text": [
      "Tenha um bom dia! Dirija com segurança!\n"
     ]
    }
   ],
   "source": [
    "vel = int(input('Digite a velocidade atual do carro: '))\n",
    "if vel>80:\n",
    "    print(f'Você foi multado por estar a {vel}km/h. Velocidade máxima da via: 80km/h!')\n",
    "    print(f'O valor da multa será de R${(vel-80)*7}!')\n",
    "print('Tenha um bom dia! Dirija com segurança!')"
   ]
  },
  {
   "cell_type": "markdown",
   "id": "457db85e-5927-4d35-8668-2477c015c629",
   "metadata": {},
   "source": [
    "## Desafio 30- Crie um programa que leia um número inteiro e mostre na tela se ele é PAR ou IMPAR."
   ]
  },
  {
   "cell_type": "code",
   "execution_count": 8,
   "id": "c3d27bca-c28e-45bf-b121-bca8b1b9ff30",
   "metadata": {},
   "outputs": [
    {
     "name": "stdin",
     "output_type": "stream",
     "text": [
      "Digite um número:  3\n"
     ]
    },
    {
     "name": "stdout",
     "output_type": "stream",
     "text": [
      "O número 3 é ímpar!\n"
     ]
    }
   ],
   "source": [
    "n = int(input('Digite um número: '))\n",
    "if n%2==0:\n",
    "    print(f'O número {n} é par!')\n",
    "else:\n",
    "    print(f'O número {n} é ímpar!')"
   ]
  },
  {
   "cell_type": "markdown",
   "id": "6a5c883b-dbdb-4440-ba12-bada3fd5fc3f",
   "metadata": {},
   "source": [
    "## Desafio 31- Desenvolva um programa que pergunte a distância de uma viagem em Km. Calcule o preço da passagem, cobrando 0,50 reais por Km para viagens de até 200Km e 0,45 reais para viagens mais longas"
   ]
  },
  {
   "cell_type": "code",
   "execution_count": 9,
   "id": "443eb8c9-79a1-4d28-85d3-e1f896923f08",
   "metadata": {},
   "outputs": [
    {
     "name": "stdin",
     "output_type": "stream",
     "text": [
      "Digite a distância da viagem:  40\n"
     ]
    },
    {
     "name": "stdout",
     "output_type": "stream",
     "text": [
      "O preço da viagem de 40.0km, irá custar R$20.00!\n"
     ]
    }
   ],
   "source": [
    "dist = float(input('Digite a distância da viagem: '))\n",
    "if dist <= 200:\n",
    "    preço= dist*0.50\n",
    "else:\n",
    "    preço= dist*0.45\n",
    "print(f'O preço da viagem de {dist}km, irá custar R${preço:.2f}!')"
   ]
  },
  {
   "cell_type": "markdown",
   "id": "8d839371-d20f-4796-9d3b-9187b9f1a176",
   "metadata": {},
   "source": [
    "## Desafio 32- Faça um programa que leia um ano qualquer e mostre se ele é BISSEXTO."
   ]
  },
  {
   "cell_type": "code",
   "execution_count": 10,
   "id": "958b9e7c-d7a2-47ff-81f1-dbe3545359e7",
   "metadata": {},
   "outputs": [
    {
     "name": "stdin",
     "output_type": "stream",
     "text": [
      "Que ano quer analisar? Coloque 0 para analisar o ano atual:  1998\n"
     ]
    },
    {
     "name": "stdout",
     "output_type": "stream",
     "text": [
      "O ano 1998 não é bissexto!\n"
     ]
    }
   ],
   "source": [
    "from datetime import date\n",
    "\n",
    "ano = int(input('Que ano quer analisar? Coloque 0 para analisar o ano atual: '))\n",
    "if ano==0:\n",
    "    ano= date.today().year\n",
    "if ano%4 ==0 and ano % 100 != 0 or ano % 400==0:\n",
    "    print(f'{ano} é um ano bissexto!')\n",
    "else:\n",
    "    print(f'O ano {ano} não é bissexto!')"
   ]
  },
  {
   "cell_type": "markdown",
   "id": "69530853-db06-4437-b0ef-2c37a2f5e5d0",
   "metadata": {},
   "source": [
    "## Desafio 33- Faça um programa que leia três números e mostre qual é o maior e qual é o menor."
   ]
  },
  {
   "cell_type": "code",
   "execution_count": 11,
   "id": "6151f9cb-82ca-4903-823c-20ea5a84bd6f",
   "metadata": {},
   "outputs": [
    {
     "name": "stdin",
     "output_type": "stream",
     "text": [
      "Digite um número:  4\n",
      "Digite outro número:  6\n",
      "Mais um, por favor:  4\n"
     ]
    },
    {
     "name": "stdout",
     "output_type": "stream",
     "text": [
      "O menor valor digitado foi 4.0\n",
      "O maior valor digitado foi 6.0\n"
     ]
    }
   ],
   "source": [
    "a = float(input('Digite um número: '))\n",
    "b = float(input('Digite outro número: '))\n",
    "c = float(input('Mais um, por favor: '))\n",
    "# Verificando quem é menor\n",
    "menor = a\n",
    "if b<a and b<c:\n",
    "    menor = b\n",
    "if c<a and c<b:\n",
    "    menor = c\n",
    "#Verificando quem é o maior\n",
    "maior = a\n",
    "if b>a and b>c:\n",
    "    maior = b\n",
    "if c>a and c>b:\n",
    "    maior = c\n",
    "print(f'O menor valor digitado foi {menor}')\n",
    "print(f'O maior valor digitado foi {maior}')"
   ]
  },
  {
   "cell_type": "markdown",
   "id": "b3534a4b-3c9e-4c3e-b42e-d977cad781ab",
   "metadata": {},
   "source": [
    "## Desafio 34- Escreva um programa que pergunte o salário de um funcionário e calcule o valor do seu aumento.\n",
    "### Para salários superiores a 1250 reais, calcule um aumento de 10%\n",
    "### Para os inferiores ou iguais, o aumento é de 15%"
   ]
  },
  {
   "cell_type": "code",
   "execution_count": 12,
   "id": "04bdcc8d-af69-47b0-977d-f3a88adcc018",
   "metadata": {},
   "outputs": [
    {
     "name": "stdin",
     "output_type": "stream",
     "text": [
      "Digite o nome do funcionário:  Rodrigo\n",
      "Digite o salário atual: R$ 2000\n"
     ]
    },
    {
     "name": "stdout",
     "output_type": "stream",
     "text": [
      "O funcionário Rodrigo terá um aumento de 200.0\n"
     ]
    }
   ],
   "source": [
    "funcio = str(input('Digite o nome do funcionário: '))\n",
    "sal = float(input('Digite o salário atual: R$'))\n",
    "\n",
    "if sal> 1250:\n",
    "    print(f'O funcionário {funcio} terá um aumento de {sal*0.10}')\n",
    "else:\n",
    "    print(f'O funcionário {funcio} terá um aumento de R${sal*0.15}!')"
   ]
  },
  {
   "cell_type": "markdown",
   "id": "2d17a42e-6d7e-4b7f-9024-4e05b565d0a9",
   "metadata": {},
   "source": [
    "## Desafio 35- Desenvolva um programa que leia o comprimento de três retas e diga ao usuário se elas podem ou não formar um triângulo."
   ]
  },
  {
   "cell_type": "code",
   "execution_count": 13,
   "id": "6e45c8ac-0aea-4b96-86d5-71a1a0dc489e",
   "metadata": {},
   "outputs": [
    {
     "name": "stdout",
     "output_type": "stream",
     "text": [
      "-=-=-=-=-=-=-=-=-=-=-=-=-=-=-=-=-=-=-=-=\n",
      "Analisador de Triângulos\n",
      "-=-=-=-=-=-=-=-=-=-=-=-=-=-=-=-=-=-=-=-=\n"
     ]
    },
    {
     "name": "stdin",
     "output_type": "stream",
     "text": [
      "Primeiro segmento:  3\n",
      "Segundo segmento:  6\n",
      "Terceiro segmento:  7\n"
     ]
    },
    {
     "name": "stdout",
     "output_type": "stream",
     "text": [
      "Os segmentos acima PODEM FORMAR triângulo!\n"
     ]
    }
   ],
   "source": [
    "print('-='*20)\n",
    "print('Analisador de Triângulos')\n",
    "print('-='*20)\n",
    "n1= float(input('Primeiro segmento: '))\n",
    "n2= float(input('Segundo segmento: '))\n",
    "n3= float(input('Terceiro segmento: '))\n",
    "\n",
    "if n1<n2+n3 and n2<n1+n3 and n3<n1+n2:\n",
    "    print('Os segmentos acima PODEM FORMAR triângulo!')\n",
    "else:\n",
    "    print('Os segmentos acima NÃO PODEM FORMAR triângulo!')"
   ]
  }
 ],
 "metadata": {
  "kernelspec": {
   "display_name": "Python 3 (ipykernel)",
   "language": "python",
   "name": "python3"
  },
  "language_info": {
   "codemirror_mode": {
    "name": "ipython",
    "version": 3
   },
   "file_extension": ".py",
   "mimetype": "text/x-python",
   "name": "python",
   "nbconvert_exporter": "python",
   "pygments_lexer": "ipython3",
   "version": "3.9.6"
  }
 },
 "nbformat": 4,
 "nbformat_minor": 5
}
