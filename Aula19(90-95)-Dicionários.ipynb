{
 "cells": [
  {
   "cell_type": "markdown",
   "id": "64bde0f2",
   "metadata": {},
   "source": [
    "#  - Aula 19 - Dicionários\n",
    "Nessa aula, vamos aprender o que são DICIONÁRIOS e como utilizar dicionários em Python. Os dicionários são variáveis compostas que permitem armazenar vários valores em uma mesma estrutura, acessíveis por chaves literais."
   ]
  },
  {
   "cell_type": "code",
   "execution_count": 1,
   "id": "74c81f9e",
   "metadata": {},
   "outputs": [
    {
     "name": "stdout",
     "output_type": "stream",
     "text": [
      "O Gustavo tem 22 anos\n",
      "dict_keys(['nome', 'sexo', 'idade'])\n",
      "dict_values(['Gustavo', 'M', 22])\n",
      "dict_items([('nome', 'Gustavo'), ('sexo', 'M'), ('idade', 22)])\n",
      "nome\n",
      "sexo\n",
      "idade\n",
      "1==1==1==1==1==1==1==1==1==1==1==1==1==1==1==1==1==1==1==1==1==1==1==1==1==1==1==1==1==1==\n",
      "Gustavo\n",
      "M\n",
      "22\n",
      "2==2==2==2==2==2==2==2==2==2==2==2==2==2==2==2==2==2==2==2==2==2==2==2==2==2==2==2==2==2==\n",
      "nome = Gustavo\n",
      "sexo = M\n",
      "idade = 22\n",
      "3==3==3==3==3==3==3==3==3==3==3==3==3==3==3==3==3==3==3==3==3==3==3==3==3==3==3==3==3==3==\n",
      "nome = Gustavo\n",
      "idade = 22\n",
      "4==4==4==4==4==4==4==4==4==4==4==4==4==4==4==4==4==4==4==4==4==4==4==4==4==4==4==4==4==4==\n",
      "nome = Leandro\n",
      "idade = 22\n",
      "peso = 98\n"
     ]
    }
   ],
   "source": [
    "pessoas  = {'nome':'Gustavo','sexo': 'M','idade': 22}\n",
    "print(f'O {pessoas[\"nome\"]} tem {pessoas[\"idade\"]} anos')\n",
    "print(pessoas.keys())\n",
    "print(pessoas.values())\n",
    "print(pessoas.items())\n",
    "for k in pessoas.keys():\n",
    "    print(k)\n",
    "    \n",
    "print('1=='*30)\n",
    "\n",
    "for k in pessoas.values():\n",
    "    print(k)\n",
    "    \n",
    "print('2=='*30)\n",
    "\n",
    "for k, v in pessoas.items():\n",
    "    print(f'{k} = {v}')\n",
    "    \n",
    "print('3=='*30)\n",
    "\n",
    "del pessoas['sexo']\n",
    "for k, v in pessoas.items():\n",
    "    print(f'{k} = {v}')\n",
    "\n",
    "print('4=='*30)\n",
    "\n",
    "pessoas['nome'] = 'Leandro'\n",
    "pessoas['peso'] = 98\n",
    "for k, v in pessoas.items():\n",
    "    print(f'{k} = {v}')"
   ]
  },
  {
   "cell_type": "code",
   "execution_count": 2,
   "id": "6598dea7",
   "metadata": {},
   "outputs": [
    {
     "name": "stdout",
     "output_type": "stream",
     "text": [
      "[{'uf': 'Rio de Janeiro', 'sigla': 'RJ'}, {'uf': 'São Paulo', 'sigla': 'SP'}]\n",
      "Rio de Janeiro\n",
      "SP\n"
     ]
    }
   ],
   "source": [
    "brasil = []\n",
    "estado1 = {'uf':'Rio de Janeiro', 'sigla':'RJ'}\n",
    "estado2 = {'uf':'São Paulo', 'sigla':'SP'}\n",
    "brasil.append(estado1)\n",
    "brasil.append(estado2)\n",
    "\n",
    "print(brasil)\n",
    "print(brasil[0]['uf'])\n",
    "print(brasil[1]['sigla'])"
   ]
  },
  {
   "cell_type": "code",
   "execution_count": 3,
   "id": "feb5068f",
   "metadata": {},
   "outputs": [
    {
     "name": "stdout",
     "output_type": "stream",
     "text": [
      "Unidade Federativa: Rio Grande do Sul\n",
      "Sigla do Estado: RS\n",
      "Unidade Federativa: Sampa\n",
      "Sigla do Estado: SP\n",
      "Unidade Federativa: Rio\n",
      "Sigla do Estado: RJ\n",
      "============================================================\n",
      "O campo uf tem valor Rio Grande do Sul\n",
      "O campo sigla tem valor RS\n",
      "O campo uf tem valor Sampa\n",
      "O campo sigla tem valor SP\n",
      "O campo uf tem valor Rio\n",
      "O campo sigla tem valor RJ\n",
      "============================================================\n",
      "Rio Grande do Sul RS \n",
      "Sampa SP \n",
      "Rio RJ \n"
     ]
    }
   ],
   "source": [
    "estado = dict()\n",
    "brasil = list()\n",
    "for c in range(0, 3):\n",
    "    estado['uf'] = str(input('Unidade Federativa: '))\n",
    "    estado['sigla'] = str(input('Sigla do Estado: '))\n",
    "    brasil.append(estado.copy())\n",
    "print('=='*30)\n",
    "for e in brasil:\n",
    "    for k, v in e.items():\n",
    "        print(f'O campo {k} tem valor {v}')\n",
    "\n",
    "print('=='*30)\n",
    "for e in brasil:\n",
    "    for v in e.values():\n",
    "        print(v, end=' ')\n",
    "    print()"
   ]
  },
  {
   "cell_type": "markdown",
   "id": "3187296e",
   "metadata": {},
   "source": [
    "## Desafio 90: Faça um programa que leia nome e média de um aluno, guardando também a situação em um dicionário. No final, mostre o conteúdo da estrutura na tela."
   ]
  },
  {
   "cell_type": "code",
   "execution_count": 4,
   "id": "4fe958f6",
   "metadata": {},
   "outputs": [
    {
     "name": "stdout",
     "output_type": "stream",
     "text": [
      "Nome: Rodrigo\n",
      "Média de Rodrigo: 9\n",
      "Nome é igual a Rodrigo\n",
      "Média é igual a 9.0\n",
      "-=-=-=-=-=-=-=-=-=-=-=-=-=-=-=-=-=-=-=-=-=-=-=-=-=-=-=-=-=-=\n",
      "nome é igual a Rodrigo.\n",
      "media é igual a 9.0.\n",
      "situação é igual a Aprovado.\n"
     ]
    }
   ],
   "source": [
    "aluno = dict()\n",
    "aluno['nome'] = str(input('Nome: '))\n",
    "aluno['media'] = float(input(f'Média de {aluno[\"nome\"]}: '))\n",
    "print(f'Nome é igual a {aluno[\"nome\"]}')\n",
    "print(f'Média é igual a {aluno[\"media\"]}')\n",
    "if aluno['media'] >= 7:\n",
    "    aluno['situação'] = 'Aprovado'\n",
    "elif 5 <= aluno['media'] < 7:\n",
    "    aluno['situação'] = 'Recuperação'\n",
    "else:\n",
    "    aluno['situação'] = 'Reprovado'\n",
    "print('-='*30)\n",
    "for k, v in aluno.items():\n",
    "    print(f'{k} é igual a {v}.')"
   ]
  },
  {
   "cell_type": "markdown",
   "id": "d186b1da",
   "metadata": {},
   "source": [
    "## Desafio 91: Crie um programa onde 4 jogadores joguem um dado e tenham resultados aleatórios. Guarde esses resultados em um dicionário em Python. No final, coloque esse dicionário em ordem, sabendo que o vencedor tirou o maior número no dado."
   ]
  },
  {
   "cell_type": "code",
   "execution_count": 5,
   "id": "7ec701e7",
   "metadata": {},
   "outputs": [
    {
     "name": "stdout",
     "output_type": "stream",
     "text": [
      "Valores sorteados: \n",
      "  O jogador 1 tirou 5\n",
      "  O jogador 2 tirou 2\n",
      "  O jogador 3 tirou 2\n",
      "  O jogador 4 tirou 1\n",
      "Ranking dos jogadores: \n",
      "  1º lugar: jogador1 com 5\n",
      "  2º lugar: jogador2 com 2\n",
      "  3º lugar: jogador3 com 2\n",
      "  4º lugar: jogador4 com 1\n"
     ]
    }
   ],
   "source": [
    "from random import randint\n",
    "from time import sleep\n",
    "n=1\n",
    "jogadores = dict()\n",
    "print('Valores sorteados: ')\n",
    "for j in range(1,5):\n",
    "    jogadores['jogador'+str(j)] = randint(1,6)\n",
    "    print(f'  O jogador {j} tirou {jogadores[\"jogador\"+str(j)]}')\n",
    "    sleep(1)\n",
    "print('Ranking dos jogadores: ')\n",
    "for i in sorted(jogadores, key = jogadores.get, reverse=True):\n",
    "    print(f'  {n}º lugar: {i} com {jogadores[i]}')\n",
    "    n +=1\n",
    "    sleep(1)\n"
   ]
  },
  {
   "cell_type": "markdown",
   "id": "45d258ae",
   "metadata": {},
   "source": [
    "## Desafio 92: Crie um programa que leia nome, ano de nascimento e carteira de trabalho e cadastre-o (com idade) em um dicionário. Se por acaso a CTPS for diferente de ZERO, o dicionário receberá também o ano de contratação e o salário. Calcule e acrescente, além da idade, com quantos anos a pessoa vai se aposentar."
   ]
  },
  {
   "cell_type": "code",
   "execution_count": 6,
   "id": "20fe2d5d",
   "metadata": {},
   "outputs": [
    {
     "name": "stdout",
     "output_type": "stream",
     "text": [
      "Nome: Rodrigo\n",
      "Ano de Nascimento: 1998\n",
      "Carteira de trabalho (0 não tem): 1234\n",
      "Ano de contratação: 2020\n",
      "Salário: R$40000\n",
      "-=-=-=-=-=-=-=-=-=-=-=-=-=-=-=-=-=-=-=-=-=-=-=-=-=-=-=-=-=-=\n",
      "{'nome': 'Rodrigo', 'idade': 23, 'ctps': 1234, 'contratação': 2020, 'salário': 40000.0, 'aposentadoria': 57}\n",
      "nome tem o valor Rodrigo\n",
      "idade tem o valor 23\n",
      "ctps tem o valor 1234\n",
      "contratação tem o valor 2020\n",
      "salário tem o valor 40000.0\n",
      "aposentadoria tem o valor 57\n"
     ]
    }
   ],
   "source": [
    "#35 anos de contribuição\n",
    "from datetime import date\n",
    "\n",
    "pessoa = dict()\n",
    "pessoa['nome'] = str(input('Nome: '))\n",
    "anonasc = int(input('Ano de Nascimento: '))\n",
    "pessoa['idade'] = date.today().year - anonasc\n",
    "pessoa['ctps'] = int(input('Carteira de trabalho (0 não tem): '))\n",
    "if pessoa['ctps'] != 0:\n",
    "    pessoa['contratação'] = int(input('Ano de contratação: '))\n",
    "    pessoa['salário'] = float(input('Salário: R$'))\n",
    "    pessoa['aposentadoria'] = pessoa['idade']+(35-(date.today().year - pessoa['contratação']))\n",
    "print('-='*30)\n",
    "print(pessoa)\n",
    "\n",
    "for k, v in pessoa.items():\n",
    "    print(f'{k} tem o valor {v}')"
   ]
  },
  {
   "cell_type": "markdown",
   "id": "ccb02a89",
   "metadata": {},
   "source": [
    "## Desafio 93: Crie um programa que gerencie o aproveitamento de um jogador de futebol. O programa vai ler o nome do jogador e quantas partidas ele jogou. Depois vai ler a quantidade de gols feitos em cada partida. No final, tudo isso será guardado em um dicionário, incluindo o total de gols feitos durante o campeonato."
   ]
  },
  {
   "cell_type": "code",
   "execution_count": 9,
   "id": "5e6b5d1d",
   "metadata": {},
   "outputs": [
    {
     "name": "stdout",
     "output_type": "stream",
     "text": [
      "Nome do Jogador: Rodrigo\n",
      "Quantas partidas Rodrigo jogou? 3\n",
      "Quantos gols na partida 0? 3\n",
      "Quantos gols na partida 1? 3\n",
      "Quantos gols na partida 2? 3\n",
      "-=-=-=-=-=-=-=-=-=-=-=-=-=-=-=-=-=-=-=-=-=-=-=-=-=-=-=-=-=-=-=-=-=-=-=-=-=-=-=-=\n",
      "O campo nome tem o valor Rodrigo.\n",
      "O campo gols tem o valor [3, 3, 3].\n",
      "O campo total tem o valor 9.\n",
      "-=-=-=-=-=-=-=-=-=-=-=-=-=-=-=-=-=-=-=-=-=-=-=-=-=-=-=-=-=-=-=-=-=-=-=-=-=-=-=-=\n",
      "O jogador Rodrigo jogou 3 partidas\n",
      "   => Na partida 0, fez 3 gols.\n",
      "   => Na partida 1, fez 3 gols.\n",
      "   => Na partida 2, fez 3 gols.\n",
      "Foi um total de 9 gols.\n"
     ]
    }
   ],
   "source": [
    "gol= list() \n",
    "jogador = dict()\n",
    "jogador['nome'] = str(input('Nome do Jogador: '))\n",
    "partidas = int(input(f'Quantas partidas {jogador[\"nome\"]} jogou? '))\n",
    "\n",
    "for i in range(0, partidas):\n",
    "    gol.append(int(input(f'Quantos gols na partida {i}? ')))\n",
    "\n",
    "jogador['gols'] = gol[:]\n",
    "jogador['total'] = sum(gol)\n",
    "\n",
    "print('-='*40)\n",
    "\n",
    "for k, v in jogador.items():\n",
    "    print(f'O campo {k} tem o valor {v}.')\n",
    "\n",
    "print('-='*40)\n",
    "\n",
    "\n",
    "print(f'O jogador {jogador[\"nome\"]} jogou {partidas} partidas')\n",
    "\n",
    "for i, v in enumerate(jogador['gols']):\n",
    "    print(f'   => Na partida {i}, fez {v} gols.')\n",
    "\n",
    "print(f'Foi um total de {jogador[\"total\"]} gols.')"
   ]
  },
  {
   "cell_type": "markdown",
   "id": "80c5e192",
   "metadata": {},
   "source": [
    "## Desafio 94: Crie um programa que leia nome, sexo e idade de várias pessoas, guardando os dados de cada pessoa em um dicionário e todos os dicionários em uma lista. No final, mostre: \n",
    "A) Quantas pessoas foram cadastradas\n",
    "B) A média de idade\n",
    "C) Uma lista com as mulheres\n",
    "D) Uma lista de pessoas com idade acima da média"
   ]
  },
  {
   "cell_type": "code",
   "execution_count": 10,
   "id": "9eb693f0",
   "metadata": {},
   "outputs": [
    {
     "name": "stdout",
     "output_type": "stream",
     "text": [
      "Nome: Rodrigo\n",
      "Idade: 40\n",
      "Sexo: [M/F]m\n",
      "Quer continuar? [S/N] s\n",
      "Nome: pedro\n",
      "Idade: 14\n",
      "Sexo: [M/F]m\n",
      "Quer continuar? [S/N] s\n",
      "Nome: Larissa\n",
      "Idade: 18\n",
      "Sexo: [M/F]f\n",
      "Quer continuar? [S/N] n\n",
      "A) Total de pessoas cadastradas: 3\n",
      "B) Média de idade: 24.00\n",
      "C) Mulheres cadastradas ['Larissa']\n",
      "D) Pessoas com idade acima da média: \n",
      "     Rodrigo: 40\n"
     ]
    }
   ],
   "source": [
    "lista = list()\n",
    "mulheres = list()\n",
    "dicionario = dict()\n",
    "soma = 0\n",
    "\n",
    "while True:\n",
    "    dicionario.clear()\n",
    "    dicionario['Nome'] = str(input('Nome: ')).strip()\n",
    "    dicionario['Idade'] = int(input('Idade: '))\n",
    "\n",
    "    while True:\n",
    "        dicionario['Sexo:'] = str(input('Sexo: [M/F]')).strip().upper()[0]\n",
    "        if dicionario['Sexo:'] in 'MF':\n",
    "            break\n",
    "        print('Opção Inválida! Tente novamente, desta vez com M ou F.')\n",
    "\n",
    "    lista.append(dicionario.copy())\n",
    "    soma += dicionario['Idade']\n",
    "\n",
    "    if dicionario['Sexo:'] == 'F':\n",
    "        mulheres.append(dicionario['Nome'])\n",
    "\n",
    "    while True:\n",
    "        op = str(input('Quer continuar? [S/N] ')).strip().upper()[0]\n",
    "        if op in 'SN':\n",
    "            break\n",
    "    if op == 'N':\n",
    "        break\n",
    "\n",
    "\n",
    "print(f'''A) Total de pessoas cadastradas: {len(lista)}\n",
    "B) Média de idade: {soma/len(lista):.2f}\n",
    "C) Mulheres cadastradas {mulheres}\n",
    "D) Pessoas com idade acima da média: ''')\n",
    "\n",
    "for a in lista:\n",
    "    if a['Idade'] >= soma/len(lista):\n",
    "        print(f'     {a[\"Nome\"]}: {a[\"Idade\"]}')"
   ]
  },
  {
   "cell_type": "markdown",
   "id": "6f1ee6db",
   "metadata": {},
   "source": [
    "## Desafio 95: Aprimore o desafio 93 para que ele funcione com vários jogadores, incluindo um sistema de visualização de detalhes do aproveitamento de cada jogador."
   ]
  },
  {
   "cell_type": "code",
   "execution_count": 11,
   "id": "df24258c",
   "metadata": {},
   "outputs": [
    {
     "name": "stdout",
     "output_type": "stream",
     "text": [
      "Nome do Jogador: Rodrigo\n",
      "Quantas Partidas Rodrigo jogou? 3\n",
      "     Quantos gols na 1º partida? 1\n",
      "     Quantos gols na 2º partida? 3\n",
      "     Quantos gols na 3º partida? 4\n",
      "Quer continuar? [S/N]s\n",
      "Nome do Jogador: Pedro\n",
      "Quantas Partidas Pedro jogou? 2\n",
      "     Quantos gols na 1º partida? 2\n",
      "     Quantos gols na 2º partida? 3\n",
      "Quer continuar? [S/N]n\n",
      "-=-=-=-=-=-=-=-=-=-=-=-=-=-=-=-=-=-=-=-=\n",
      "Cod  NOME      Total     Gols      \n",
      "0    Rodrigo   8         [1, 3, 4]\n",
      "1    Pedro     5         [2, 3]\n",
      "-=-=-=-=-=-=-=-=-=-=-=-=-=-=-=-=-=-=-=-=\n",
      "Mostrar os dados de qual jogador? (999 sair) 0\n",
      "--- LEVANTAMENDO DO JOGADOR Rodrigo\n",
      "     Na 1º partida fez 1 gol(s)\n",
      "     Na 2º partida fez 3 gol(s)\n",
      "     Na 3º partida fez 4 gol(s)\n",
      "Mostrar os dados de qual jogador? (999 sair) 1\n",
      "--- LEVANTAMENDO DO JOGADOR Pedro\n",
      "     Na 1º partida fez 2 gol(s)\n",
      "     Na 2º partida fez 3 gol(s)\n",
      "Mostrar os dados de qual jogador? (999 sair) 999\n"
     ]
    }
   ],
   "source": [
    "gols = list()\n",
    "jogador = dict()\n",
    "time = list()\n",
    "\n",
    "while True:\n",
    "    jogador['Nome'] = str(input('Nome do Jogador: ')).strip()\n",
    "    partidas = int(input(f'Quantas Partidas {jogador[\"Nome\"]} jogou? '))\n",
    "\n",
    "    if partidas > 0:\n",
    "        for c in range(0, partidas):\n",
    "            gols.append(int(input(f'     Quantos gols na {c+1}º partida? ')))\n",
    "        jogador['Gols'] = gols[:]\n",
    "        jogador['Total'] = sum(gols)\n",
    "    time.append(jogador.copy())\n",
    "\n",
    "    while True:\n",
    "        op = str(input('Quer continuar? [S/N]')).upper().strip()[0]\n",
    "        if op in 'SN':\n",
    "            jogador.clear()\n",
    "            gols.clear()\n",
    "            break\n",
    "        print('Opção inválida! Tente novamente.')\n",
    "    if op == 'N':\n",
    "        break\n",
    "\n",
    "print('-='*20)\n",
    "print(f'{\"Cod\":<5}{\"NOME\":<10}{\"Total\":<10}{\"Gols\":<10}')\n",
    "for i, j in enumerate(time):\n",
    "    print(f'{i:<5}{j[\"Nome\"]:<10}{j[\"Total\"]:<10}{j[\"Gols\"]}')\n",
    "\n",
    "\n",
    "print('-='*20)\n",
    "while True:\n",
    "    aux = int(input('Mostrar os dados de qual jogador? (999 sair) '))\n",
    "    if aux == 999:\n",
    "        break\n",
    "    else:\n",
    "        print(f'--- LEVANTAMENDO DO JOGADOR {time[aux][\"Nome\"]}')\n",
    "        for i, j in enumerate(time[aux][\"Gols\"]):\n",
    "            print(f'     Na {i+1}º partida fez {j} gol(s)')"
   ]
  }
 ],
 "metadata": {
  "kernelspec": {
   "display_name": "Python 3 (ipykernel)",
   "language": "python",
   "name": "python3"
  },
  "language_info": {
   "codemirror_mode": {
    "name": "ipython",
    "version": 3
   },
   "file_extension": ".py",
   "mimetype": "text/x-python",
   "name": "python",
   "nbconvert_exporter": "python",
   "pygments_lexer": "ipython3",
   "version": "3.9.6"
  },
  "varInspector": {
   "cols": {
    "lenName": 16,
    "lenType": 16,
    "lenVar": 40
   },
   "kernels_config": {
    "python": {
     "delete_cmd_postfix": "",
     "delete_cmd_prefix": "del ",
     "library": "var_list.py",
     "varRefreshCmd": "print(var_dic_list())"
    },
    "r": {
     "delete_cmd_postfix": ") ",
     "delete_cmd_prefix": "rm(",
     "library": "var_list.r",
     "varRefreshCmd": "cat(var_dic_list()) "
    }
   },
   "types_to_exclude": [
    "module",
    "function",
    "builtin_function_or_method",
    "instance",
    "_Feature"
   ],
   "window_display": false
  }
 },
 "nbformat": 4,
 "nbformat_minor": 5
}
