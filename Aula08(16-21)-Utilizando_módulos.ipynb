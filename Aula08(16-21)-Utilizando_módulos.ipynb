{
 "cells": [
  {
   "cell_type": "markdown",
   "id": "a279b7cb-94c4-4c93-9ec0-064969acb38c",
   "metadata": {},
   "source": [
    "# Aula 8- Utilizando módulos\n",
    "Nessa aula, vamos aprender como utilizar módulos em Python utilizando os comandos import e from/import no Python. Veja como carregar bibliotecas de funções e utilizar vários recursos adicionais nos seus programas utilizando módulos built-in e módulos externos, oferecidos no Pypi.\n",
    "\n",
    "biblioteca math - ceil, floor, trunc, pow, sqrt, factorial\n",
    "\n",
    "import math\n",
    "-\n",
    "from math import sqrt"
   ]
  },
  {
   "cell_type": "code",
   "execution_count": 1,
   "id": "87a8d67d-4795-49b6-b55b-7d52a40a162c",
   "metadata": {},
   "outputs": [
    {
     "name": "stdin",
     "output_type": "stream",
     "text": [
      "Digite um número:  9\n"
     ]
    },
    {
     "name": "stdout",
     "output_type": "stream",
     "text": [
      "A raiz de 9 é igual a 3.00\n"
     ]
    }
   ],
   "source": [
    "import math\n",
    "num = int(input('Digite um número: '))\n",
    "raiz = math.sqrt(num)\n",
    "print(f'A raiz de {num} é igual a {raiz:.2f}')"
   ]
  },
  {
   "cell_type": "code",
   "execution_count": 3,
   "id": "d2ecd4e8-92d5-4b95-b643-09ef5c3aa663",
   "metadata": {},
   "outputs": [
    {
     "name": "stdin",
     "output_type": "stream",
     "text": [
      "Digite um número:  6\n"
     ]
    },
    {
     "name": "stdout",
     "output_type": "stream",
     "text": [
      "A raiz de 6 é igual a 2.45\n"
     ]
    }
   ],
   "source": [
    "from math import sqrt\n",
    "num = int(input('Digite um número: '))\n",
    "raiz = math.sqrt(num)\n",
    "print(f'A raiz de {num} é igual a {raiz:.2f}')"
   ]
  },
  {
   "cell_type": "code",
   "execution_count": 4,
   "id": "5b6b89ec-0c95-4dfd-bc72-819c7e5807bd",
   "metadata": {},
   "outputs": [
    {
     "name": "stdout",
     "output_type": "stream",
     "text": [
      "0.5835430858515163\n",
      "3\n"
     ]
    }
   ],
   "source": [
    "import random\n",
    "num = random.random()\n",
    "num2= random.randint(1,10)\n",
    "print(num)\n",
    "print(num2)"
   ]
  },
  {
   "cell_type": "markdown",
   "id": "8c60f064-af2d-4bb3-aed2-cf1d9e113875",
   "metadata": {},
   "source": [
    "## Desafio 16- Crie um programa que leia um número real qualquer pelo teclado e mostre na tela a sua porção inteira\n",
    "ex: Digite um número: 6.127\n",
    "O número 6.127 tem a parte inteira 6"
   ]
  },
  {
   "cell_type": "code",
   "execution_count": 6,
   "id": "736b5c60-10e0-4fdf-bd57-d24e76974594",
   "metadata": {},
   "outputs": [
    {
     "name": "stdin",
     "output_type": "stream",
     "text": [
      "Digite um número:  6.15\n"
     ]
    },
    {
     "name": "stdout",
     "output_type": "stream",
     "text": [
      "O número 6.15 tem a sua porção inteira 6\n"
     ]
    }
   ],
   "source": [
    "from math import floor\n",
    "n = float(input('Digite um número: '))\n",
    "print(f'O número {n} tem a sua porção inteira {math.floor(n)}')"
   ]
  },
  {
   "cell_type": "markdown",
   "id": "1b837136-2fd6-4596-a455-0e08bd5d851f",
   "metadata": {},
   "source": [
    "## Desafio 17- Faça um programa que leia o comprimento do cateto oposto e do cateto adjacente de um triângulo retângulo, calcule e mostre o comprimento da hipotenusa\n"
   ]
  },
  {
   "cell_type": "code",
   "execution_count": 7,
   "id": "0e2271ee-8bef-43f3-a1e8-32fc95e1acc9",
   "metadata": {},
   "outputs": [
    {
     "name": "stdin",
     "output_type": "stream",
     "text": [
      "Digite o comprimento do cateto oposto:  4\n",
      "Digite o comprimento do cateto adjacente:  4\n"
     ]
    },
    {
     "name": "stdout",
     "output_type": "stream",
     "text": [
      "Um triângulo com o cateto oposto 4.0 e cateto adjacente 4.0 possui hipotenusa 5.66 \n",
      "Um triângulo com o cateto oposto 4.0 e cateto adjacente 4.0 possui hipotenusa 5.66 \n"
     ]
    }
   ],
   "source": [
    "from math import sqrt, hypot\n",
    "co= float(input('Digite o comprimento do cateto oposto: '))\n",
    "ca= float(input('Digite o comprimento do cateto adjacente: '))\n",
    "hi= sqrt(co**2+ca**2)\n",
    "hi2= hypot(ca,co)\n",
    "print(f'Um triângulo com o cateto oposto {co} e cateto adjacente {ca} possui hipotenusa {hi:.2f} ')\n",
    "print(f'Um triângulo com o cateto oposto {co} e cateto adjacente {ca} possui hipotenusa {hi2:.2f} ')"
   ]
  },
  {
   "cell_type": "markdown",
   "id": "a83741c4-2c22-46d2-bc15-5f09953533a8",
   "metadata": {},
   "source": [
    "## Desafio 18- Faça um programa que leia um ângulo qualquer e mostre na tela o valor do seno, cosseno e tangente desse ângulo.\n"
   ]
  },
  {
   "cell_type": "code",
   "execution_count": 9,
   "id": "ef0c4872-27de-4c2e-ba0a-3add6d4bb122",
   "metadata": {},
   "outputs": [
    {
     "name": "stdin",
     "output_type": "stream",
     "text": [
      "Digite o ângulo que você deseja:  45\n"
     ]
    },
    {
     "name": "stdout",
     "output_type": "stream",
     "text": [
      "Seno 0.71\n",
      "Cosseno 0.71\n",
      "Tangente 1.00\n"
     ]
    }
   ],
   "source": [
    "from math import sin, cos, tan, radians\n",
    "a = float(input(\"Digite o ângulo que você deseja: \"))\n",
    "print(f'Seno {sin(radians(a)):.2f}')\n",
    "print(f'Cosseno {cos(radians(a)):.2f}')\n",
    "print(f'Tangente {tan(radians(a)):.2f}')"
   ]
  },
  {
   "cell_type": "markdown",
   "id": "87a11e1a-8d7e-42d9-bb22-b443e9153d53",
   "metadata": {},
   "source": [
    "## Desafio 19- Um professor quer sortear um dos seus quatro alunos para apagar o quadro. Faça um programa que ajude ele, lendo o nome deles e escrevendo o nome do escolhido\n"
   ]
  },
  {
   "cell_type": "code",
   "execution_count": 10,
   "id": "2fecc604-efe1-4ba5-b9d2-4a47cd549c07",
   "metadata": {},
   "outputs": [
    {
     "name": "stdin",
     "output_type": "stream",
     "text": [
      "Nome do aluno:  Rodrigo\n",
      "Nome do aluno:  Matheus\n",
      "Nome do aluno:  Willian\n",
      "Nome do aluno:  Pedro\n"
     ]
    },
    {
     "name": "stdout",
     "output_type": "stream",
     "text": [
      "Lista de alunos:  Rodrigo Matheus Willian Pedro\n",
      "O aluno sorteado para apagar o quadro foi: Matheus\n"
     ]
    }
   ],
   "source": [
    "from random import choice\n",
    "s = []\n",
    "for c in range(0,4):\n",
    "    s.append ( str(input('Nome do aluno: ')) )\n",
    "\n",
    "print('Lista de alunos: ', *s)\n",
    "print(f'O aluno sorteado para apagar o quadro foi: {choice(s)}')"
   ]
  },
  {
   "cell_type": "markdown",
   "id": "3e7c590d-0540-4807-b640-861cf4d49165",
   "metadata": {},
   "source": [
    "## Desafio 21- Faça um programa em python que abra e reproduza o áudio de um arquivo MP3."
   ]
  },
  {
   "cell_type": "code",
   "execution_count": null,
   "id": "2a8e39d0-0f7d-437e-9deb-5e1c63872d8f",
   "metadata": {},
   "outputs": [],
   "source": [
    "from playsound import playsound\n",
    "playsound('Duck dancing Hatsune Miku Oblivion_50k.mp3')"
   ]
  }
 ],
 "metadata": {
  "kernelspec": {
   "display_name": "Python 3 (ipykernel)",
   "language": "python",
   "name": "python3"
  },
  "language_info": {
   "codemirror_mode": {
    "name": "ipython",
    "version": 3
   },
   "file_extension": ".py",
   "mimetype": "text/x-python",
   "name": "python",
   "nbconvert_exporter": "python",
   "pygments_lexer": "ipython3",
   "version": "3.9.6"
  }
 },
 "nbformat": 4,
 "nbformat_minor": 5
}
