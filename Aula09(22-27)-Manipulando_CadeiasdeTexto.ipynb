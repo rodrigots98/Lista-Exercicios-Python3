{
 "cells": [
  {
   "cell_type": "markdown",
   "id": "d1dbf040-4d3a-4e20-8a65-36a9b93dd115",
   "metadata": {},
   "source": [
    "# Aula 9- Manipulando Cadeias de Texto\n",
    "Nessa aula, vamos aprender operações com String no Python. As principais operações que vamos aprender são o Fatiamento de String, Análise com len(), count(), find(), transformações com replace(), upper(), lower(), capitalize(), title(), strip(), junção com join()."
   ]
  },
  {
   "cell_type": "code",
   "execution_count": 1,
   "id": "d5240fa5-c155-47f5-a015-9d37e3446fdd",
   "metadata": {},
   "outputs": [
    {
     "name": "stdout",
     "output_type": "stream",
     "text": [
      "------------Fatiamento-------------\n",
      "Curso em Vídeo Python\n",
      "V\n",
      "Víde\n",
      "Vídeo Python\n",
      "VdoPto\n",
      "Curso\n",
      "Python\n",
      "VePh\n",
      "nohtyP oedíV me osruC\n",
      "--------------------\n",
      "------------Análise--------------\n",
      "21\n",
      "3\n",
      "1\n",
      "11\n",
      "11\n",
      "-1\n",
      "True\n",
      "--------------------\n",
      "----------Transformação-----------\n",
      "Curso em Vídeo Android\n",
      "CURSO EM VÍDEO PYTHON\n",
      "curso em vídeo python\n",
      "Curso em vídeo python\n",
      "Curso Em Vídeo Python\n",
      "--------------------\n",
      "   Aprenda Python  \n",
      "Aprenda Python\n",
      "   Aprenda Python\n",
      "Aprenda Python  \n",
      "--------------------\n",
      "------------Divisão---------------\n",
      "Curso em Vídeo Python\n",
      "['Curso', 'em', 'Vídeo', 'Python']\n",
      "Vídeo\n",
      "í\n",
      "--------------------\n",
      "-------------Juntar---------------\n",
      "Curso-em-Vídeo-Python\n"
     ]
    }
   ],
   "source": [
    "frase = 'Curso em Vídeo Python'\n",
    "print('------------Fatiamento-------------')\n",
    "print(frase)\n",
    "print(frase[9]) #pega apenas a letra da posição 9\n",
    "print(frase[9:13]) #começa no 9 e seleciona até o 12.\n",
    "print(frase[9:21])\n",
    "print(frase[9:21:2]) #pula de 2 em 2.\n",
    "print(frase[:5]) #começa do 0 e seleciona até o 4.\n",
    "print(frase[15:]) #inicio começa no 15 e termina até o final\n",
    "print(frase[9::3]) #começa no 9 e vai até o final, pulando de 3 em 3.\n",
    "print(frase[::-1])\n",
    "print('--------------------')\n",
    "print('------------Análise--------------')\n",
    "print(len(frase)) #comprimento da string\n",
    "print(frase.count('o')) #conta a quantidade de 'o'\n",
    "print(frase.count('o',0,13)) #conta a quatnidade 'o', do 0 até o 12.\n",
    "print(frase.find('deo')) #fala onde começa a str 'deo'\n",
    "print(frase.rfind('deo')) #fala onde está a última str 'deo'\n",
    "\n",
    "print(frase.find('Android')) #frase que não existe, retorna -1\n",
    "print('Curso' in frase) # Retorna se existe 'Curso' na frase. True or False\n",
    "print('--------------------')\n",
    "print('----------Transformação-----------')\n",
    "print(frase.replace('Python','Android')) #Substitui a palavra indicada por outra\n",
    "print(frase.upper()) #Colocar em maiusculo a str\n",
    "print(frase.lower()) #Colocar em minusculo a str\n",
    "print(frase.capitalize()) #Coloca tudo pra minusculo, menos a primeira letra.\n",
    "print(frase.title()) #Coloca toda as palavras em minusculo, e a primeira letra de cada palavra em maiusculo.\n",
    "print('--------------------')\n",
    "frase2 = '   Aprenda Python  '\n",
    "print(frase2)\n",
    "print(frase2.strip()) #remove os espaços inuteis, começo e do final.\n",
    "print(frase2.rstrip()) #remove os espaços a direita da str\n",
    "print(frase2.lstrip()) #remove os espaços a esquerda da str\n",
    "print('--------------------')\n",
    "print('------------Divisão---------------')\n",
    "print(frase)\n",
    "frase =frase.split()\n",
    "print(frase) #divisão dentro da str, considerando os espaços\n",
    "print(frase[2]) #seleciona o elemento 2 da lista\n",
    "print(frase[2][1]) #seleciona a letra 1 do elemento 2 da lista\n",
    "print('--------------------')\n",
    "print('-------------Juntar---------------')\n",
    "print('-'.join(frase)) #juntar tds os elementos de frase, e vai usar o separador indicado"
   ]
  },
  {
   "cell_type": "markdown",
   "id": "f10f0eaf-9d48-4a88-8987-067e32a95e8b",
   "metadata": {},
   "source": [
    "## Desafio 22-  Crie um programa que leia o nome completo de uma pessoal e mostre:\n",
    "### O nome com todas as letras maiúsculas\n",
    "### O nome ccom todas minúsculas\n",
    "### Quantas letras ao todo(sem considerar espaços)\n",
    "### Quantas letras tem o primeiro nome.\n"
   ]
  },
  {
   "cell_type": "code",
   "execution_count": 2,
   "id": "ab788ad7-cff8-49aa-ac47-7278711ba1d5",
   "metadata": {},
   "outputs": [
    {
     "name": "stdin",
     "output_type": "stream",
     "text": [
      "Digite seu nome completo:  Rodrigo\n"
     ]
    },
    {
     "name": "stdout",
     "output_type": "stream",
     "text": [
      "Seu nome em maísculas é RODRIGO!\n",
      "Seu nome em minúsculas é rodrigo!\n",
      "Seu nome tem ao todo 7 letras!\n",
      "O primeiro nome possui 7 letras!\n"
     ]
    }
   ],
   "source": [
    "nome=str(input('Digite seu nome completo: ')).strip()\n",
    "print(f'Seu nome em maísculas é {nome.upper()}!')\n",
    "print(f'Seu nome em minúsculas é {nome.lower()}!')\n",
    "print(f'Seu nome tem ao todo {len(nome.replace(\" \", \"\"))} letras!')\n",
    "print(f\"O primeiro nome possui {len(nome.split()[0])} letras!\")"
   ]
  },
  {
   "cell_type": "markdown",
   "id": "aa3e6fc1-389a-4443-8265-0ce4b43c1d1e",
   "metadata": {},
   "source": [
    "## Desafio 23- Faça um programa que leia um número de 0 a 9999 e mostre na tela cada um dos digitos separados.\n",
    "### Ex:Digite um número: 1834\n",
    "##### unidade:4\n",
    "##### dezena:3\n",
    "##### centena:8\n",
    "##### milhar:1"
   ]
  },
  {
   "cell_type": "code",
   "execution_count": 4,
   "id": "3b6b2280-3a80-4754-afc3-859af500cf4f",
   "metadata": {},
   "outputs": [
    {
     "name": "stdin",
     "output_type": "stream",
     "text": [
      "Digite um número de 0 a 9000:  555\n"
     ]
    },
    {
     "name": "stdout",
     "output_type": "stream",
     "text": [
      "Unidade: 5\n",
      "Dezena: 5\n",
      "Centena: 5\n",
      "Milhar: 0\n"
     ]
    }
   ],
   "source": [
    "num = int(input('Digite um número de 0 a 9000: '))\n",
    "u = num // 1 % 10\n",
    "d = num // 10 % 10\n",
    "c = num // 100 % 10\n",
    "m = num // 1000 % 10\n",
    "print(f'Unidade: {u}')\n",
    "print(f'Dezena: {d}')\n",
    "print(f'Centena: {c}')\n",
    "print(f'Milhar: {m}')\n",
    "      "
   ]
  },
  {
   "cell_type": "markdown",
   "id": "1ebad959-3600-4ce3-ad71-16c2f195292e",
   "metadata": {},
   "source": [
    "## Desafio 24- Crie um programa que leia o nome de uma cidade e diga se ela começa ou não com o nome \"SANTO\"."
   ]
  },
  {
   "cell_type": "code",
   "execution_count": 5,
   "id": "bf2f65e4-24e0-4304-9b81-886ec9d46ce7",
   "metadata": {},
   "outputs": [
    {
     "name": "stdin",
     "output_type": "stream",
     "text": [
      "Digite o nome da cidade:  Santos\n"
     ]
    },
    {
     "name": "stdout",
     "output_type": "stream",
     "text": [
      "A cidade começa com o nome \"SANTO\"? True\n"
     ]
    }
   ],
   "source": [
    "cidade= str(input('Digite o nome da cidade: ')).strip()\n",
    "cidade=cidade.title()\n",
    "cidade= cidade.split()\n",
    "print(f'A cidade começa com o nome \"SANTO\"? {\"Santo\" in cidade[0]}')"
   ]
  },
  {
   "cell_type": "markdown",
   "id": "606b71fa-e2c0-4c28-8da0-387687d3623e",
   "metadata": {},
   "source": [
    "## Desafio 25- Crie um programa que leia o nome de uma pessoa e diga se ela tem \"SILVA\" no nome."
   ]
  },
  {
   "cell_type": "code",
   "execution_count": 7,
   "id": "b57d0703-b971-448f-9dbd-dbb0213e2de8",
   "metadata": {},
   "outputs": [
    {
     "name": "stdin",
     "output_type": "stream",
     "text": [
      "Digite um nome:  Rodrigo Trindade Silva\n"
     ]
    },
    {
     "name": "stdout",
     "output_type": "stream",
     "text": [
      "O nome possui a palavra Silva? True\n"
     ]
    }
   ],
   "source": [
    "nome= str(input('Digite um nome: ')).strip()\n",
    "nome= nome.title()\n",
    "print(f'O nome possui a palavra Silva? {\"Silva\" in nome}')"
   ]
  },
  {
   "cell_type": "markdown",
   "id": "e0e7edf7-db0e-4f21-add9-982b86cbfd00",
   "metadata": {},
   "source": [
    "## Desafio 26- Faça um programa que leia uma frase pelo teclado e mostre:\n",
    "### Quantas vezes aparece a letra \"A\".\n",
    "### Em que posição ela aparece a primeira vez.\n",
    "### Em que posição ela aparece a última vez."
   ]
  },
  {
   "cell_type": "code",
   "execution_count": 8,
   "id": "17e61f99-f9cd-4a89-b803-4ddd8590ddf5",
   "metadata": {},
   "outputs": [
    {
     "name": "stdin",
     "output_type": "stream",
     "text": [
      "Digite uma frase: Faça um programa!\n"
     ]
    },
    {
     "name": "stdout",
     "output_type": "stream",
     "text": [
      "A letra \"A\" aparece 4 vezes.\n",
      "A primeira letra \"A\" está na posição 2.\n",
      "A última letra \"A\" está na posição 16.\n"
     ]
    }
   ],
   "source": [
    "frase= str(input('Digite uma frase:'))\n",
    "frase= frase.lower()\n",
    "print(f'A letra \"A\" aparece {frase.count(\"a\")} vezes.')\n",
    "print(f'A primeira letra \"A\" está na posição {frase.find(\"a\")+1}.')\n",
    "print(f'A última letra \"A\" está na posição {frase.rfind(\"a\")+1}.')"
   ]
  },
  {
   "cell_type": "markdown",
   "id": "cec8a05c-61d8-4fda-8138-29312f254200",
   "metadata": {},
   "source": [
    "## Desafio 27- Faça um programa que leia um nome completo de uma pessoa, mostrando em seguida o primeiro e o último nome separadamente.\n",
    "### Ex: Ana Maria de Souza\n",
    "### primeiro = Ana\n",
    "### último = Souza"
   ]
  },
  {
   "cell_type": "code",
   "execution_count": 9,
   "id": "80cc43d5-3013-4384-8b44-745958b4bb41",
   "metadata": {},
   "outputs": [
    {
     "name": "stdin",
     "output_type": "stream",
     "text": [
      "Digite um nome completo:  Ana Maria de Souza\n"
     ]
    },
    {
     "name": "stdout",
     "output_type": "stream",
     "text": [
      "O primeiro nome é: Ana\n",
      "O último sobrenome é: Souza\n"
     ]
    }
   ],
   "source": [
    "nome = str(input('Digite um nome completo: ')).strip().title()\n",
    "nome= nome.split()\n",
    "print(f'O primeiro nome é: {nome[0]}')\n",
    "print(f'O último sobrenome é: {nome[-1]}')"
   ]
  }
 ],
 "metadata": {
  "kernelspec": {
   "display_name": "Python 3 (ipykernel)",
   "language": "python",
   "name": "python3"
  },
  "language_info": {
   "codemirror_mode": {
    "name": "ipython",
    "version": 3
   },
   "file_extension": ".py",
   "mimetype": "text/x-python",
   "name": "python",
   "nbconvert_exporter": "python",
   "pygments_lexer": "ipython3",
   "version": "3.9.6"
  }
 },
 "nbformat": 4,
 "nbformat_minor": 5
}
